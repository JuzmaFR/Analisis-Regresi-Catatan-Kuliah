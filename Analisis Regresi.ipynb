{
  "cells": [
    {
      "cell_type": "markdown",
      "id": "cb1d8c3a",
      "metadata": {
        "id": "cb1d8c3a"
      },
      "source": [
        "## Uji T Parsial dan Uji F Simultan\n",
        "\n"
      ]
    },
    {
      "cell_type": "code",
      "execution_count": null,
      "id": "eb5ed420",
      "metadata": {
        "id": "eb5ed420",
        "outputId": "00234a41-b42e-4fab-f71d-c2e99402eafb"
      },
      "outputs": [
        {
          "name": "stderr",
          "output_type": "stream",
          "text": [
            "also installing the dependencies 'processx', 'glue', 'rprojroot', 'diffobj', 'rematch2', 'brio', 'callr', 'cli', 'desc', 'ellipsis', 'lifecycle', 'pkgload', 'praise', 'ps', 'rlang', 'waldo', 'withr', 'testthat', 'minqa', 'nloptr', 'RcppEigen', 'lme4'\n",
            "\n"
          ]
        },
        {
          "name": "stdout",
          "output_type": "stream",
          "text": [
            "\n",
            "  There are binary versions available but the source versions are later:\n",
            "             binary    source needs_compilation\n",
            "processx      3.5.2     3.5.3              TRUE\n",
            "glue          1.4.2     1.6.2              TRUE\n",
            "rprojroot     2.0.2     2.0.3             FALSE\n",
            "diffobj       0.3.4     0.3.5              TRUE\n",
            "brio          1.1.2     1.1.3              TRUE\n",
            "cli           2.5.0     3.2.0              TRUE\n",
            "desc          1.3.0     1.4.1             FALSE\n",
            "lifecycle     1.0.0     1.0.1             FALSE\n",
            "pkgload       1.2.1     1.2.4             FALSE\n",
            "ps            1.6.0     1.7.0              TRUE\n",
            "rlang        0.4.11     1.0.2              TRUE\n",
            "waldo         0.2.5     0.4.0             FALSE\n",
            "withr         2.4.2     2.5.0             FALSE\n",
            "testthat      3.0.2     3.1.3              TRUE\n",
            "nloptr      1.2.2.2     2.0.0              TRUE\n",
            "RcppEigen 0.3.3.9.1 0.3.3.9.2              TRUE\n",
            "lme4         1.1-26    1.1-29              TRUE\n",
            "\n",
            "  Binaries will be installed\n",
            "package 'processx' successfully unpacked and MD5 sums checked\n",
            "package 'glue' successfully unpacked and MD5 sums checked\n",
            "package 'diffobj' successfully unpacked and MD5 sums checked\n",
            "package 'rematch2' successfully unpacked and MD5 sums checked\n",
            "package 'brio' successfully unpacked and MD5 sums checked\n",
            "package 'callr' successfully unpacked and MD5 sums checked\n",
            "package 'cli' successfully unpacked and MD5 sums checked\n",
            "package 'ellipsis' successfully unpacked and MD5 sums checked\n",
            "package 'praise' successfully unpacked and MD5 sums checked\n",
            "package 'ps' successfully unpacked and MD5 sums checked\n",
            "package 'rlang' successfully unpacked and MD5 sums checked\n",
            "package 'testthat' successfully unpacked and MD5 sums checked\n",
            "package 'minqa' successfully unpacked and MD5 sums checked\n",
            "package 'nloptr' successfully unpacked and MD5 sums checked\n",
            "package 'RcppEigen' successfully unpacked and MD5 sums checked\n",
            "package 'lme4' successfully unpacked and MD5 sums checked\n",
            "package 'faraway' successfully unpacked and MD5 sums checked\n",
            "\n",
            "The downloaded binary packages are in\n",
            "\tC:\\Users\\juzma\\AppData\\Local\\Temp\\RtmpSWgqEK\\downloaded_packages\n"
          ]
        },
        {
          "name": "stderr",
          "output_type": "stream",
          "text": [
            "installing the source packages 'rprojroot', 'desc', 'lifecycle', 'pkgload', 'waldo', 'withr'\n",
            "\n"
          ]
        }
      ],
      "source": [
        "install.packages(\"faraway\");\n",
        "library(faraway);"
      ]
    },
    {
      "cell_type": "code",
      "source": [
        "longley;"
      ],
      "metadata": {
        "id": "s9EKChJDtDXu",
        "outputId": "ae07584e-7411-4937-e407-b9b680c0cb8e",
        "colab": {
          "base_uri": "https://localhost:8080/",
          "height": 600
        }
      },
      "id": "s9EKChJDtDXu",
      "execution_count": null,
      "outputs": [
        {
          "output_type": "display_data",
          "data": {
            "text/html": [
              "<table class=\"dataframe\">\n",
              "<caption>A data.frame: 16 × 7</caption>\n",
              "<thead>\n",
              "\t<tr><th></th><th scope=col>GNP.deflator</th><th scope=col>GNP</th><th scope=col>Unemployed</th><th scope=col>Armed.Forces</th><th scope=col>Population</th><th scope=col>Year</th><th scope=col>Employed</th></tr>\n",
              "\t<tr><th></th><th scope=col>&lt;dbl&gt;</th><th scope=col>&lt;dbl&gt;</th><th scope=col>&lt;dbl&gt;</th><th scope=col>&lt;dbl&gt;</th><th scope=col>&lt;dbl&gt;</th><th scope=col>&lt;int&gt;</th><th scope=col>&lt;dbl&gt;</th></tr>\n",
              "</thead>\n",
              "<tbody>\n",
              "\t<tr><th scope=row>1947</th><td> 83.0</td><td>234.289</td><td>235.6</td><td>159.0</td><td>107.608</td><td>1947</td><td>60.323</td></tr>\n",
              "\t<tr><th scope=row>1948</th><td> 88.5</td><td>259.426</td><td>232.5</td><td>145.6</td><td>108.632</td><td>1948</td><td>61.122</td></tr>\n",
              "\t<tr><th scope=row>1949</th><td> 88.2</td><td>258.054</td><td>368.2</td><td>161.6</td><td>109.773</td><td>1949</td><td>60.171</td></tr>\n",
              "\t<tr><th scope=row>1950</th><td> 89.5</td><td>284.599</td><td>335.1</td><td>165.0</td><td>110.929</td><td>1950</td><td>61.187</td></tr>\n",
              "\t<tr><th scope=row>1951</th><td> 96.2</td><td>328.975</td><td>209.9</td><td>309.9</td><td>112.075</td><td>1951</td><td>63.221</td></tr>\n",
              "\t<tr><th scope=row>1952</th><td> 98.1</td><td>346.999</td><td>193.2</td><td>359.4</td><td>113.270</td><td>1952</td><td>63.639</td></tr>\n",
              "\t<tr><th scope=row>1953</th><td> 99.0</td><td>365.385</td><td>187.0</td><td>354.7</td><td>115.094</td><td>1953</td><td>64.989</td></tr>\n",
              "\t<tr><th scope=row>1954</th><td>100.0</td><td>363.112</td><td>357.8</td><td>335.0</td><td>116.219</td><td>1954</td><td>63.761</td></tr>\n",
              "\t<tr><th scope=row>1955</th><td>101.2</td><td>397.469</td><td>290.4</td><td>304.8</td><td>117.388</td><td>1955</td><td>66.019</td></tr>\n",
              "\t<tr><th scope=row>1956</th><td>104.6</td><td>419.180</td><td>282.2</td><td>285.7</td><td>118.734</td><td>1956</td><td>67.857</td></tr>\n",
              "\t<tr><th scope=row>1957</th><td>108.4</td><td>442.769</td><td>293.6</td><td>279.8</td><td>120.445</td><td>1957</td><td>68.169</td></tr>\n",
              "\t<tr><th scope=row>1958</th><td>110.8</td><td>444.546</td><td>468.1</td><td>263.7</td><td>121.950</td><td>1958</td><td>66.513</td></tr>\n",
              "\t<tr><th scope=row>1959</th><td>112.6</td><td>482.704</td><td>381.3</td><td>255.2</td><td>123.366</td><td>1959</td><td>68.655</td></tr>\n",
              "\t<tr><th scope=row>1960</th><td>114.2</td><td>502.601</td><td>393.1</td><td>251.4</td><td>125.368</td><td>1960</td><td>69.564</td></tr>\n",
              "\t<tr><th scope=row>1961</th><td>115.7</td><td>518.173</td><td>480.6</td><td>257.2</td><td>127.852</td><td>1961</td><td>69.331</td></tr>\n",
              "\t<tr><th scope=row>1962</th><td>116.9</td><td>554.894</td><td>400.7</td><td>282.7</td><td>130.081</td><td>1962</td><td>70.551</td></tr>\n",
              "</tbody>\n",
              "</table>\n"
            ],
            "text/markdown": "\nA data.frame: 16 × 7\n\n| <!--/--> | GNP.deflator &lt;dbl&gt; | GNP &lt;dbl&gt; | Unemployed &lt;dbl&gt; | Armed.Forces &lt;dbl&gt; | Population &lt;dbl&gt; | Year &lt;int&gt; | Employed &lt;dbl&gt; |\n|---|---|---|---|---|---|---|---|\n| 1947 |  83.0 | 234.289 | 235.6 | 159.0 | 107.608 | 1947 | 60.323 |\n| 1948 |  88.5 | 259.426 | 232.5 | 145.6 | 108.632 | 1948 | 61.122 |\n| 1949 |  88.2 | 258.054 | 368.2 | 161.6 | 109.773 | 1949 | 60.171 |\n| 1950 |  89.5 | 284.599 | 335.1 | 165.0 | 110.929 | 1950 | 61.187 |\n| 1951 |  96.2 | 328.975 | 209.9 | 309.9 | 112.075 | 1951 | 63.221 |\n| 1952 |  98.1 | 346.999 | 193.2 | 359.4 | 113.270 | 1952 | 63.639 |\n| 1953 |  99.0 | 365.385 | 187.0 | 354.7 | 115.094 | 1953 | 64.989 |\n| 1954 | 100.0 | 363.112 | 357.8 | 335.0 | 116.219 | 1954 | 63.761 |\n| 1955 | 101.2 | 397.469 | 290.4 | 304.8 | 117.388 | 1955 | 66.019 |\n| 1956 | 104.6 | 419.180 | 282.2 | 285.7 | 118.734 | 1956 | 67.857 |\n| 1957 | 108.4 | 442.769 | 293.6 | 279.8 | 120.445 | 1957 | 68.169 |\n| 1958 | 110.8 | 444.546 | 468.1 | 263.7 | 121.950 | 1958 | 66.513 |\n| 1959 | 112.6 | 482.704 | 381.3 | 255.2 | 123.366 | 1959 | 68.655 |\n| 1960 | 114.2 | 502.601 | 393.1 | 251.4 | 125.368 | 1960 | 69.564 |\n| 1961 | 115.7 | 518.173 | 480.6 | 257.2 | 127.852 | 1961 | 69.331 |\n| 1962 | 116.9 | 554.894 | 400.7 | 282.7 | 130.081 | 1962 | 70.551 |\n\n",
            "text/latex": "A data.frame: 16 × 7\n\\begin{tabular}{r|lllllll}\n  & GNP.deflator & GNP & Unemployed & Armed.Forces & Population & Year & Employed\\\\\n  & <dbl> & <dbl> & <dbl> & <dbl> & <dbl> & <int> & <dbl>\\\\\n\\hline\n\t1947 &  83.0 & 234.289 & 235.6 & 159.0 & 107.608 & 1947 & 60.323\\\\\n\t1948 &  88.5 & 259.426 & 232.5 & 145.6 & 108.632 & 1948 & 61.122\\\\\n\t1949 &  88.2 & 258.054 & 368.2 & 161.6 & 109.773 & 1949 & 60.171\\\\\n\t1950 &  89.5 & 284.599 & 335.1 & 165.0 & 110.929 & 1950 & 61.187\\\\\n\t1951 &  96.2 & 328.975 & 209.9 & 309.9 & 112.075 & 1951 & 63.221\\\\\n\t1952 &  98.1 & 346.999 & 193.2 & 359.4 & 113.270 & 1952 & 63.639\\\\\n\t1953 &  99.0 & 365.385 & 187.0 & 354.7 & 115.094 & 1953 & 64.989\\\\\n\t1954 & 100.0 & 363.112 & 357.8 & 335.0 & 116.219 & 1954 & 63.761\\\\\n\t1955 & 101.2 & 397.469 & 290.4 & 304.8 & 117.388 & 1955 & 66.019\\\\\n\t1956 & 104.6 & 419.180 & 282.2 & 285.7 & 118.734 & 1956 & 67.857\\\\\n\t1957 & 108.4 & 442.769 & 293.6 & 279.8 & 120.445 & 1957 & 68.169\\\\\n\t1958 & 110.8 & 444.546 & 468.1 & 263.7 & 121.950 & 1958 & 66.513\\\\\n\t1959 & 112.6 & 482.704 & 381.3 & 255.2 & 123.366 & 1959 & 68.655\\\\\n\t1960 & 114.2 & 502.601 & 393.1 & 251.4 & 125.368 & 1960 & 69.564\\\\\n\t1961 & 115.7 & 518.173 & 480.6 & 257.2 & 127.852 & 1961 & 69.331\\\\\n\t1962 & 116.9 & 554.894 & 400.7 & 282.7 & 130.081 & 1962 & 70.551\\\\\n\\end{tabular}\n",
            "text/plain": [
              "     GNP.deflator GNP     Unemployed Armed.Forces Population Year Employed\n",
              "1947  83.0        234.289 235.6      159.0        107.608    1947 60.323  \n",
              "1948  88.5        259.426 232.5      145.6        108.632    1948 61.122  \n",
              "1949  88.2        258.054 368.2      161.6        109.773    1949 60.171  \n",
              "1950  89.5        284.599 335.1      165.0        110.929    1950 61.187  \n",
              "1951  96.2        328.975 209.9      309.9        112.075    1951 63.221  \n",
              "1952  98.1        346.999 193.2      359.4        113.270    1952 63.639  \n",
              "1953  99.0        365.385 187.0      354.7        115.094    1953 64.989  \n",
              "1954 100.0        363.112 357.8      335.0        116.219    1954 63.761  \n",
              "1955 101.2        397.469 290.4      304.8        117.388    1955 66.019  \n",
              "1956 104.6        419.180 282.2      285.7        118.734    1956 67.857  \n",
              "1957 108.4        442.769 293.6      279.8        120.445    1957 68.169  \n",
              "1958 110.8        444.546 468.1      263.7        121.950    1958 66.513  \n",
              "1959 112.6        482.704 381.3      255.2        123.366    1959 68.655  \n",
              "1960 114.2        502.601 393.1      251.4        125.368    1960 69.564  \n",
              "1961 115.7        518.173 480.6      257.2        127.852    1961 69.331  \n",
              "1962 116.9        554.894 400.7      282.7        130.081    1962 70.551  "
            ]
          },
          "metadata": {}
        }
      ]
    },
    {
      "cell_type": "markdown",
      "id": "f7e24813",
      "metadata": {
        "id": "f7e24813"
      },
      "source": [
        "Employed as Y variable and the others variable as X"
      ]
    },
    {
      "cell_type": "code",
      "source": [
        "dim(longley);"
      ],
      "metadata": {
        "colab": {
          "base_uri": "https://localhost:8080/",
          "height": 34
        },
        "id": "XDkdkV9V8Md0",
        "outputId": "f7329524-c7ae-40c8-b951-df69bb7cb98a"
      },
      "id": "XDkdkV9V8Md0",
      "execution_count": null,
      "outputs": [
        {
          "output_type": "display_data",
          "data": {
            "text/html": [
              "<style>\n",
              ".list-inline {list-style: none; margin:0; padding: 0}\n",
              ".list-inline>li {display: inline-block}\n",
              ".list-inline>li:not(:last-child)::after {content: \"\\00b7\"; padding: 0 .5ex}\n",
              "</style>\n",
              "<ol class=list-inline><li>16</li><li>7</li></ol>\n"
            ],
            "text/markdown": "1. 16\n2. 7\n\n\n",
            "text/latex": "\\begin{enumerate*}\n\\item 16\n\\item 7\n\\end{enumerate*}\n",
            "text/plain": [
              "[1] 16  7"
            ]
          },
          "metadata": {}
        }
      ]
    },
    {
      "cell_type": "code",
      "execution_count": null,
      "id": "f5668997",
      "metadata": {
        "id": "f5668997",
        "outputId": "6187dcfc-1949-4229-f4ee-22e05a1e98f9",
        "colab": {
          "base_uri": "https://localhost:8080/",
          "height": 286
        }
      },
      "outputs": [
        {
          "output_type": "display_data",
          "data": {
            "text/html": [
              "<table class=\"dataframe\">\n",
              "<caption>A matrix: 7 × 7 of type dbl</caption>\n",
              "<thead>\n",
              "\t<tr><th></th><th scope=col>GNP.deflator</th><th scope=col>GNP</th><th scope=col>Unemployed</th><th scope=col>Armed.Forces</th><th scope=col>Population</th><th scope=col>Year</th><th scope=col>Employed</th></tr>\n",
              "</thead>\n",
              "<tbody>\n",
              "\t<tr><th scope=row>GNP.deflator</th><td>1.0000000</td><td>0.9915892</td><td> 0.6206334</td><td> 0.4647442</td><td>0.9791634</td><td>0.9911492</td><td>0.9708985</td></tr>\n",
              "\t<tr><th scope=row>GNP</th><td>0.9915892</td><td>1.0000000</td><td> 0.6042609</td><td> 0.4464368</td><td>0.9910901</td><td>0.9952735</td><td>0.9835516</td></tr>\n",
              "\t<tr><th scope=row>Unemployed</th><td>0.6206334</td><td>0.6042609</td><td> 1.0000000</td><td>-0.1774206</td><td>0.6865515</td><td>0.6682566</td><td>0.5024981</td></tr>\n",
              "\t<tr><th scope=row>Armed.Forces</th><td>0.4647442</td><td>0.4464368</td><td>-0.1774206</td><td> 1.0000000</td><td>0.3644163</td><td>0.4172451</td><td>0.4573074</td></tr>\n",
              "\t<tr><th scope=row>Population</th><td>0.9791634</td><td>0.9910901</td><td> 0.6865515</td><td> 0.3644163</td><td>1.0000000</td><td>0.9939528</td><td>0.9603906</td></tr>\n",
              "\t<tr><th scope=row>Year</th><td>0.9911492</td><td>0.9952735</td><td> 0.6682566</td><td> 0.4172451</td><td>0.9939528</td><td>1.0000000</td><td>0.9713295</td></tr>\n",
              "\t<tr><th scope=row>Employed</th><td>0.9708985</td><td>0.9835516</td><td> 0.5024981</td><td> 0.4573074</td><td>0.9603906</td><td>0.9713295</td><td>1.0000000</td></tr>\n",
              "</tbody>\n",
              "</table>\n"
            ],
            "text/markdown": "\nA matrix: 7 × 7 of type dbl\n\n| <!--/--> | GNP.deflator | GNP | Unemployed | Armed.Forces | Population | Year | Employed |\n|---|---|---|---|---|---|---|---|\n| GNP.deflator | 1.0000000 | 0.9915892 |  0.6206334 |  0.4647442 | 0.9791634 | 0.9911492 | 0.9708985 |\n| GNP | 0.9915892 | 1.0000000 |  0.6042609 |  0.4464368 | 0.9910901 | 0.9952735 | 0.9835516 |\n| Unemployed | 0.6206334 | 0.6042609 |  1.0000000 | -0.1774206 | 0.6865515 | 0.6682566 | 0.5024981 |\n| Armed.Forces | 0.4647442 | 0.4464368 | -0.1774206 |  1.0000000 | 0.3644163 | 0.4172451 | 0.4573074 |\n| Population | 0.9791634 | 0.9910901 |  0.6865515 |  0.3644163 | 1.0000000 | 0.9939528 | 0.9603906 |\n| Year | 0.9911492 | 0.9952735 |  0.6682566 |  0.4172451 | 0.9939528 | 1.0000000 | 0.9713295 |\n| Employed | 0.9708985 | 0.9835516 |  0.5024981 |  0.4573074 | 0.9603906 | 0.9713295 | 1.0000000 |\n\n",
            "text/latex": "A matrix: 7 × 7 of type dbl\n\\begin{tabular}{r|lllllll}\n  & GNP.deflator & GNP & Unemployed & Armed.Forces & Population & Year & Employed\\\\\n\\hline\n\tGNP.deflator & 1.0000000 & 0.9915892 &  0.6206334 &  0.4647442 & 0.9791634 & 0.9911492 & 0.9708985\\\\\n\tGNP & 0.9915892 & 1.0000000 &  0.6042609 &  0.4464368 & 0.9910901 & 0.9952735 & 0.9835516\\\\\n\tUnemployed & 0.6206334 & 0.6042609 &  1.0000000 & -0.1774206 & 0.6865515 & 0.6682566 & 0.5024981\\\\\n\tArmed.Forces & 0.4647442 & 0.4464368 & -0.1774206 &  1.0000000 & 0.3644163 & 0.4172451 & 0.4573074\\\\\n\tPopulation & 0.9791634 & 0.9910901 &  0.6865515 &  0.3644163 & 1.0000000 & 0.9939528 & 0.9603906\\\\\n\tYear & 0.9911492 & 0.9952735 &  0.6682566 &  0.4172451 & 0.9939528 & 1.0000000 & 0.9713295\\\\\n\tEmployed & 0.9708985 & 0.9835516 &  0.5024981 &  0.4573074 & 0.9603906 & 0.9713295 & 1.0000000\\\\\n\\end{tabular}\n",
            "text/plain": [
              "             GNP.deflator GNP       Unemployed Armed.Forces Population\n",
              "GNP.deflator 1.0000000    0.9915892  0.6206334  0.4647442   0.9791634 \n",
              "GNP          0.9915892    1.0000000  0.6042609  0.4464368   0.9910901 \n",
              "Unemployed   0.6206334    0.6042609  1.0000000 -0.1774206   0.6865515 \n",
              "Armed.Forces 0.4647442    0.4464368 -0.1774206  1.0000000   0.3644163 \n",
              "Population   0.9791634    0.9910901  0.6865515  0.3644163   1.0000000 \n",
              "Year         0.9911492    0.9952735  0.6682566  0.4172451   0.9939528 \n",
              "Employed     0.9708985    0.9835516  0.5024981  0.4573074   0.9603906 \n",
              "             Year      Employed \n",
              "GNP.deflator 0.9911492 0.9708985\n",
              "GNP          0.9952735 0.9835516\n",
              "Unemployed   0.6682566 0.5024981\n",
              "Armed.Forces 0.4172451 0.4573074\n",
              "Population   0.9939528 0.9603906\n",
              "Year         1.0000000 0.9713295\n",
              "Employed     0.9713295 1.0000000"
            ]
          },
          "metadata": {}
        }
      ],
      "source": [
        "cor(longley);"
      ]
    },
    {
      "cell_type": "markdown",
      "source": [
        "\n",
        "\n",
        "Dari hasil di atas kita dapat mengetahui korelasi baik itu antar variabel bebas maupun masing-masing korelasi variabel bebas dengan variabel Y. Contohnya pada korelasi antara GNP dengan GNP.deflator yang besar yaitu 0.9915892.\n",
        "\n"
      ],
      "metadata": {
        "id": "OTYNtv3_tWdM"
      },
      "id": "OTYNtv3_tWdM"
    },
    {
      "cell_type": "code",
      "execution_count": null,
      "id": "2885e144",
      "metadata": {
        "id": "2885e144"
      },
      "outputs": [],
      "source": [
        "g <- lm(Employed~., longley)"
      ]
    },
    {
      "cell_type": "markdown",
      "source": [
        "Membuat linear regression dengan menjadikan Variabel Employed sebagai Y dan Semua variabel lainnya menjadi Variabel X (Dalam Function di atas ditulis menggunakan \".\" untuk mengambil seluruh variabel selain Employed)."
      ],
      "metadata": {
        "id": "NaOtEDrz251u"
      },
      "id": "NaOtEDrz251u"
    },
    {
      "cell_type": "code",
      "execution_count": null,
      "id": "9bb5f04a",
      "metadata": {
        "id": "9bb5f04a",
        "outputId": "831af46d-51b0-4fc4-f5d9-a0eaf57c86b5",
        "colab": {
          "base_uri": "https://localhost:8080/",
          "height": 416
        }
      },
      "outputs": [
        {
          "output_type": "display_data",
          "data": {
            "text/plain": [
              "\n",
              "Call:\n",
              "lm(formula = Employed ~ ., data = longley)\n",
              "\n",
              "Residuals:\n",
              "     Min       1Q   Median       3Q      Max \n",
              "-0.41011 -0.15767 -0.02816  0.10155  0.45539 \n",
              "\n",
              "Coefficients:\n",
              "               Estimate Std. Error t value Pr(>|t|)    \n",
              "(Intercept)  -3.482e+03  8.904e+02  -3.911 0.003560 ** \n",
              "GNP.deflator  1.506e-02  8.492e-02   0.177 0.863141    \n",
              "GNP          -3.582e-02  3.349e-02  -1.070 0.312681    \n",
              "Unemployed   -2.020e-02  4.884e-03  -4.136 0.002535 ** \n",
              "Armed.Forces -1.033e-02  2.143e-03  -4.822 0.000944 ***\n",
              "Population   -5.110e-02  2.261e-01  -0.226 0.826212    \n",
              "Year          1.829e+00  4.555e-01   4.016 0.003037 ** \n",
              "---\n",
              "Signif. codes:  0 ‘***’ 0.001 ‘**’ 0.01 ‘*’ 0.05 ‘.’ 0.1 ‘ ’ 1\n",
              "\n",
              "Residual standard error: 0.3049 on 9 degrees of freedom\n",
              "Multiple R-squared:  0.9955,\tAdjusted R-squared:  0.9925 \n",
              "F-statistic: 330.3 on 6 and 9 DF,  p-value: 4.984e-10\n"
            ]
          },
          "metadata": {}
        }
      ],
      "source": [
        "summary(g)"
      ]
    },
    {
      "cell_type": "markdown",
      "source": [
        "Dari hasil *summary* di atas dapat diketahui:\n",
        "\n",
        "\n",
        "\n",
        "1.   Koefisien Determinasi 0.9955 menunjukan sangat tinggi artinya setidaknya terdapat 1 yang signifikan. 99,55% keragaman dari variabel X dapat dijelaskan oleh variabel Y.\n",
        "2.   Berdasarkan Uji T/Uji Parsial dari hasil summary di atas, dengan hipotesis:\n",
        "*   $H_0$ : Tidak ada pengaruh variabel $X_n$ terhadap Y\n",
        "*   $H_1$ : Terdapat pengaruh variabel $X_n$ terhadap Y\n",
        "\n",
        "dan Kriteria Uji : <br>\n",
        "$\\hat{\\alpha} < \\alpha$ dan $t_{hitung} > t_{tabel}$, maka tolak $H_0$.\n",
        "\n",
        "Keputusan dan Kesimpulan:\n",
        "<br>\n",
        "notes: <br> $\\alpha = 0.05$\n",
        "*   Variabel yang memiliki signifikansi terbesar yaitu variabel Armed.Forces dengan nilai p-value paling kecil dibandingkan p-value variabel lain yaitu 0.000944. Hal ini juga dapat dilihat dari korelasi antar variabel dengan Armed.forces yang cenderung kecil (dapat dilihat di cor(longley)).\n",
        "*   Sementara variabel yang tidak signifikan yaitu variabel GNP,  GNP.deflator, dan Population dengan ketiga nilai p-value yang lebih besar dari 0.05.\n",
        "\n",
        "Dengan taraf signifikansi 5%, terdapat pengaruh variabel Unemployed, Armed.forces, dan Year terhadap Employed sementara tidak ada pengaruh dari variabel GNP.deflator, GNP, dan Population.\n",
        "\n",
        "3.  Berdasarkan Uji F/Uji Simultan di summary tersebut dapat diketahui: <br>\n",
        "\n",
        "*   $H_0$ : Tidak ada pengaruh variabel X secara simultan(bersama-sama) terhadap variabel Y.\n",
        "*   $H_1$ : Terdapat pengaruh variabel X secara simultan(bersama-sama) terhadap variabel Y.\n",
        "\n",
        "Dengan Kritera Uji: <br>\n",
        "$\\hat{\\alpha} < \\alpha$ dan $F_{hitung} > F_{tabel}$, maka tolak $H_0$ <br>\n",
        "\n",
        "Keputusan dan Kesimpulan:\n",
        "\n",
        "*   Dengan nilai n = 16 dan k = 6 (Dari dim(longley)) maka $F_{tabel} = F_{\\alpha, k,n-k} = F_{0.05,6,16-6} = F_{0.05,6,10} = 3.217175 $ (Dengan excel dapat menggunakan formula FINV(0.05,6,10). Maka dengan F hitung = 330.3 tolak $H_0$.\n",
        "*   Dengan p-value = 4.984e-10, maka tolak $H_0$\n",
        "\n",
        "Dengan taraf signifikansi 5%, Terdapat pengaruh variabel X secara simultan terhadap variabel Y.\n",
        "\n",
        "\n",
        "\n",
        "\n",
        "\n",
        "\n",
        "\n",
        "\n",
        "\n",
        "\n",
        "\n",
        "\n",
        "\n"
      ],
      "metadata": {
        "id": "-MqrC9oo3QgJ"
      },
      "id": "-MqrC9oo3QgJ"
    },
    {
      "cell_type": "markdown",
      "source": [
        ""
      ],
      "metadata": {
        "id": "K_oMYRPV-RPS"
      },
      "id": "K_oMYRPV-RPS"
    },
    {
      "cell_type": "markdown",
      "source": [
        "## Pendeteksian Multikolinearitas"
      ],
      "metadata": {
        "id": "DAsrX-Wp-VKh"
      },
      "id": "DAsrX-Wp-VKh"
    },
    {
      "cell_type": "markdown",
      "source": [
        "###Determinan\n",
        "\n",
        "yaitu dengan melihat nilai determinan dari matriks korelasi variabel x. Apabila nilainya mendekati 0, maka terdapat multikolinearitas. Sebaliknya jika nilai determinan mendekati 1, maka tidak terdapat multikolinearitas."
      ],
      "metadata": {
        "id": "LGymqPtw-kNe"
      },
      "id": "LGymqPtw-kNe"
    },
    {
      "cell_type": "code",
      "source": [
        "#Membuat Matriks X\n",
        "x <- as.matrix(longley[,-7]) #[,-7] untuk mengambil variabel selain Employed\n",
        "x"
      ],
      "metadata": {
        "id": "QYFyGbYw_AMY",
        "outputId": "f6081be4-599c-4891-ebf9-0e45c5d4b512",
        "colab": {
          "base_uri": "https://localhost:8080/",
          "height": 568
        }
      },
      "id": "QYFyGbYw_AMY",
      "execution_count": null,
      "outputs": [
        {
          "output_type": "display_data",
          "data": {
            "text/html": [
              "<table class=\"dataframe\">\n",
              "<caption>A matrix: 16 × 6 of type dbl</caption>\n",
              "<thead>\n",
              "\t<tr><th></th><th scope=col>GNP.deflator</th><th scope=col>GNP</th><th scope=col>Unemployed</th><th scope=col>Armed.Forces</th><th scope=col>Population</th><th scope=col>Year</th></tr>\n",
              "</thead>\n",
              "<tbody>\n",
              "\t<tr><th scope=row>1947</th><td> 83.0</td><td>234.289</td><td>235.6</td><td>159.0</td><td>107.608</td><td>1947</td></tr>\n",
              "\t<tr><th scope=row>1948</th><td> 88.5</td><td>259.426</td><td>232.5</td><td>145.6</td><td>108.632</td><td>1948</td></tr>\n",
              "\t<tr><th scope=row>1949</th><td> 88.2</td><td>258.054</td><td>368.2</td><td>161.6</td><td>109.773</td><td>1949</td></tr>\n",
              "\t<tr><th scope=row>1950</th><td> 89.5</td><td>284.599</td><td>335.1</td><td>165.0</td><td>110.929</td><td>1950</td></tr>\n",
              "\t<tr><th scope=row>1951</th><td> 96.2</td><td>328.975</td><td>209.9</td><td>309.9</td><td>112.075</td><td>1951</td></tr>\n",
              "\t<tr><th scope=row>1952</th><td> 98.1</td><td>346.999</td><td>193.2</td><td>359.4</td><td>113.270</td><td>1952</td></tr>\n",
              "\t<tr><th scope=row>1953</th><td> 99.0</td><td>365.385</td><td>187.0</td><td>354.7</td><td>115.094</td><td>1953</td></tr>\n",
              "\t<tr><th scope=row>1954</th><td>100.0</td><td>363.112</td><td>357.8</td><td>335.0</td><td>116.219</td><td>1954</td></tr>\n",
              "\t<tr><th scope=row>1955</th><td>101.2</td><td>397.469</td><td>290.4</td><td>304.8</td><td>117.388</td><td>1955</td></tr>\n",
              "\t<tr><th scope=row>1956</th><td>104.6</td><td>419.180</td><td>282.2</td><td>285.7</td><td>118.734</td><td>1956</td></tr>\n",
              "\t<tr><th scope=row>1957</th><td>108.4</td><td>442.769</td><td>293.6</td><td>279.8</td><td>120.445</td><td>1957</td></tr>\n",
              "\t<tr><th scope=row>1958</th><td>110.8</td><td>444.546</td><td>468.1</td><td>263.7</td><td>121.950</td><td>1958</td></tr>\n",
              "\t<tr><th scope=row>1959</th><td>112.6</td><td>482.704</td><td>381.3</td><td>255.2</td><td>123.366</td><td>1959</td></tr>\n",
              "\t<tr><th scope=row>1960</th><td>114.2</td><td>502.601</td><td>393.1</td><td>251.4</td><td>125.368</td><td>1960</td></tr>\n",
              "\t<tr><th scope=row>1961</th><td>115.7</td><td>518.173</td><td>480.6</td><td>257.2</td><td>127.852</td><td>1961</td></tr>\n",
              "\t<tr><th scope=row>1962</th><td>116.9</td><td>554.894</td><td>400.7</td><td>282.7</td><td>130.081</td><td>1962</td></tr>\n",
              "</tbody>\n",
              "</table>\n"
            ],
            "text/markdown": "\nA matrix: 16 × 6 of type dbl\n\n| <!--/--> | GNP.deflator | GNP | Unemployed | Armed.Forces | Population | Year |\n|---|---|---|---|---|---|---|\n| 1947 |  83.0 | 234.289 | 235.6 | 159.0 | 107.608 | 1947 |\n| 1948 |  88.5 | 259.426 | 232.5 | 145.6 | 108.632 | 1948 |\n| 1949 |  88.2 | 258.054 | 368.2 | 161.6 | 109.773 | 1949 |\n| 1950 |  89.5 | 284.599 | 335.1 | 165.0 | 110.929 | 1950 |\n| 1951 |  96.2 | 328.975 | 209.9 | 309.9 | 112.075 | 1951 |\n| 1952 |  98.1 | 346.999 | 193.2 | 359.4 | 113.270 | 1952 |\n| 1953 |  99.0 | 365.385 | 187.0 | 354.7 | 115.094 | 1953 |\n| 1954 | 100.0 | 363.112 | 357.8 | 335.0 | 116.219 | 1954 |\n| 1955 | 101.2 | 397.469 | 290.4 | 304.8 | 117.388 | 1955 |\n| 1956 | 104.6 | 419.180 | 282.2 | 285.7 | 118.734 | 1956 |\n| 1957 | 108.4 | 442.769 | 293.6 | 279.8 | 120.445 | 1957 |\n| 1958 | 110.8 | 444.546 | 468.1 | 263.7 | 121.950 | 1958 |\n| 1959 | 112.6 | 482.704 | 381.3 | 255.2 | 123.366 | 1959 |\n| 1960 | 114.2 | 502.601 | 393.1 | 251.4 | 125.368 | 1960 |\n| 1961 | 115.7 | 518.173 | 480.6 | 257.2 | 127.852 | 1961 |\n| 1962 | 116.9 | 554.894 | 400.7 | 282.7 | 130.081 | 1962 |\n\n",
            "text/latex": "A matrix: 16 × 6 of type dbl\n\\begin{tabular}{r|llllll}\n  & GNP.deflator & GNP & Unemployed & Armed.Forces & Population & Year\\\\\n\\hline\n\t1947 &  83.0 & 234.289 & 235.6 & 159.0 & 107.608 & 1947\\\\\n\t1948 &  88.5 & 259.426 & 232.5 & 145.6 & 108.632 & 1948\\\\\n\t1949 &  88.2 & 258.054 & 368.2 & 161.6 & 109.773 & 1949\\\\\n\t1950 &  89.5 & 284.599 & 335.1 & 165.0 & 110.929 & 1950\\\\\n\t1951 &  96.2 & 328.975 & 209.9 & 309.9 & 112.075 & 1951\\\\\n\t1952 &  98.1 & 346.999 & 193.2 & 359.4 & 113.270 & 1952\\\\\n\t1953 &  99.0 & 365.385 & 187.0 & 354.7 & 115.094 & 1953\\\\\n\t1954 & 100.0 & 363.112 & 357.8 & 335.0 & 116.219 & 1954\\\\\n\t1955 & 101.2 & 397.469 & 290.4 & 304.8 & 117.388 & 1955\\\\\n\t1956 & 104.6 & 419.180 & 282.2 & 285.7 & 118.734 & 1956\\\\\n\t1957 & 108.4 & 442.769 & 293.6 & 279.8 & 120.445 & 1957\\\\\n\t1958 & 110.8 & 444.546 & 468.1 & 263.7 & 121.950 & 1958\\\\\n\t1959 & 112.6 & 482.704 & 381.3 & 255.2 & 123.366 & 1959\\\\\n\t1960 & 114.2 & 502.601 & 393.1 & 251.4 & 125.368 & 1960\\\\\n\t1961 & 115.7 & 518.173 & 480.6 & 257.2 & 127.852 & 1961\\\\\n\t1962 & 116.9 & 554.894 & 400.7 & 282.7 & 130.081 & 1962\\\\\n\\end{tabular}\n",
            "text/plain": [
              "     GNP.deflator GNP     Unemployed Armed.Forces Population Year\n",
              "1947  83.0        234.289 235.6      159.0        107.608    1947\n",
              "1948  88.5        259.426 232.5      145.6        108.632    1948\n",
              "1949  88.2        258.054 368.2      161.6        109.773    1949\n",
              "1950  89.5        284.599 335.1      165.0        110.929    1950\n",
              "1951  96.2        328.975 209.9      309.9        112.075    1951\n",
              "1952  98.1        346.999 193.2      359.4        113.270    1952\n",
              "1953  99.0        365.385 187.0      354.7        115.094    1953\n",
              "1954 100.0        363.112 357.8      335.0        116.219    1954\n",
              "1955 101.2        397.469 290.4      304.8        117.388    1955\n",
              "1956 104.6        419.180 282.2      285.7        118.734    1956\n",
              "1957 108.4        442.769 293.6      279.8        120.445    1957\n",
              "1958 110.8        444.546 468.1      263.7        121.950    1958\n",
              "1959 112.6        482.704 381.3      255.2        123.366    1959\n",
              "1960 114.2        502.601 393.1      251.4        125.368    1960\n",
              "1961 115.7        518.173 480.6      257.2        127.852    1961\n",
              "1962 116.9        554.894 400.7      282.7        130.081    1962"
            ]
          },
          "metadata": {}
        }
      ]
    },
    {
      "cell_type": "code",
      "source": [
        "det(cor(x));"
      ],
      "metadata": {
        "id": "y5bZWMKp_OTC",
        "outputId": "68cae7f2-5370-4d4c-e303-c9e2f5a77485",
        "colab": {
          "base_uri": "https://localhost:8080/",
          "height": 34
        }
      },
      "id": "y5bZWMKp_OTC",
      "execution_count": null,
      "outputs": [
        {
          "output_type": "display_data",
          "data": {
            "text/html": [
              "1.57961548624822e-08"
            ],
            "text/markdown": "1.57961548624822e-08",
            "text/latex": "1.57961548624822e-08",
            "text/plain": [
              "[1] 1.579615e-08"
            ]
          },
          "metadata": {}
        }
      ]
    },
    {
      "cell_type": "markdown",
      "source": [
        "Dari hasil di atas dapat diketahui bahwa nilai determinan dari matriks korelasi X yaitu 1.57961548624822e-08 dimana nilai tersebut cenderung mendekati 0 sehingga dapat dikatakan bahwa terdapat multikolinearitas."
      ],
      "metadata": {
        "id": "eR00J0QN_SG5"
      },
      "id": "eR00J0QN_SG5"
    },
    {
      "cell_type": "markdown",
      "source": [
        "### Indeks Kondisi\n",
        "$ID = \\sqrt{K}$ dengan $K = \\frac{\\lambda_{max}}{\\lambda_{min}}, \\lambda$: Nilai Eigen $X^{*t}X^*$ <br>\n",
        "Dengan Kriteria: <br>\n",
        "$100 \\leq K \\leq 1000$, multikolinearitas sedang menuju kuat. <br>\n",
        "$K > 1000$, multikolinearitas sangat kuat. <br> <br>\n",
        "$ID < 10$, multikolinearitas lemah. <br>\n",
        "$10 \\leq ID \\leq 30$, multikolinearitas sedang menuju kuat. <br>\n",
        "$ID > 30$, multikolinearitas sangat kuat.\n"
      ],
      "metadata": {
        "id": "owxevFOP_tjn"
      },
      "id": "owxevFOP_tjn"
    },
    {
      "cell_type": "markdown",
      "source": [
        ""
      ],
      "metadata": {
        "id": "2ijD8QzVB6J6"
      },
      "id": "2ijD8QzVB6J6"
    },
    {
      "cell_type": "code",
      "source": [
        "eigen_vector <- eigen(cor(x))\n",
        "K <- max(eigen_vector$values)/min(eigen_vector$values)\n",
        "K"
      ],
      "metadata": {
        "id": "pTDZ1oVoBKFs",
        "outputId": "f5a86ae1-0796-4505-bf72-f898a82e9713",
        "colab": {
          "base_uri": "https://localhost:8080/",
          "height": 34
        }
      },
      "id": "pTDZ1oVoBKFs",
      "execution_count": null,
      "outputs": [
        {
          "output_type": "display_data",
          "data": {
            "text/html": [
              "12220.0098602747"
            ],
            "text/markdown": "12220.0098602747",
            "text/latex": "12220.0098602747",
            "text/plain": [
              "[1] 12220.01"
            ]
          },
          "metadata": {}
        }
      ]
    },
    {
      "cell_type": "markdown",
      "source": [
        "Nilai 12220.0098602747 menandakan bahwa $K > 1000$ yang artinya multikolinearitas sangat kuat."
      ],
      "metadata": {
        "id": "LyCMcjO_Bm0i"
      },
      "id": "LyCMcjO_Bm0i"
    },
    {
      "cell_type": "code",
      "source": [
        "sqrt(K);"
      ],
      "metadata": {
        "id": "-Z-yacQ3BsW-",
        "outputId": "feb3389b-eeec-45ab-84f0-c8565a43ed1f",
        "colab": {
          "base_uri": "https://localhost:8080/",
          "height": 34
        }
      },
      "id": "-Z-yacQ3BsW-",
      "execution_count": null,
      "outputs": [
        {
          "output_type": "display_data",
          "data": {
            "text/html": [
              "110.5441534423"
            ],
            "text/markdown": "110.5441534423",
            "text/latex": "110.5441534423",
            "text/plain": [
              "[1] 110.5442"
            ]
          },
          "metadata": {}
        }
      ]
    },
    {
      "cell_type": "markdown",
      "source": [
        "110.5441534423 juga menandakan bahwa $ID > 30$ yang artinya multikolinearitas sangat kuat"
      ],
      "metadata": {
        "id": "7BdZMVGABvgv"
      },
      "id": "7BdZMVGABvgv"
    },
    {
      "cell_type": "markdown",
      "source": [
        "### Variance Inflation Factor (VIF)\n",
        "\n",
        "$VIF = \\frac{1}{1-R^2_{xx}}$, dengan kriteria jika VIF > 10, maka terdapat indikasi multikolinearitas. Secara singkat VIF ini mengambil nilai diagonal dari matriks invers korelasi. Nantinya secara berurut (sesuai matriks korelasi) dapat diambil nilai VIF dari masing-masing variabel."
      ],
      "metadata": {
        "id": "OY-R3jTZB9gH"
      },
      "id": "OY-R3jTZB9gH"
    },
    {
      "cell_type": "code",
      "source": [
        "xinv = solve(cor(x))\n",
        "diag(xinv)"
      ],
      "metadata": {
        "id": "y9KFwCjICVEt",
        "outputId": "8ed29e3e-a396-45bc-e928-c4a968782505",
        "colab": {
          "base_uri": "https://localhost:8080/",
          "height": 52
        }
      },
      "id": "y9KFwCjICVEt",
      "execution_count": null,
      "outputs": [
        {
          "output_type": "display_data",
          "data": {
            "text/html": [
              "<style>\n",
              ".dl-inline {width: auto; margin:0; padding: 0}\n",
              ".dl-inline>dt, .dl-inline>dd {float: none; width: auto; display: inline-block}\n",
              ".dl-inline>dt::after {content: \":\\0020\"; padding-right: .5ex}\n",
              ".dl-inline>dt:not(:first-of-type) {padding-left: .5ex}\n",
              "</style><dl class=dl-inline><dt>GNP.deflator</dt><dd>135.53243827998</dd><dt>GNP</dt><dd>1788.51348271752</dd><dt>Unemployed</dt><dd>33.6188905960391</dd><dt>Armed.Forces</dt><dd>3.58893019344537</dd><dt>Population</dt><dd>399.151022312507</dd><dt>Year</dt><dd>758.980597406785</dd></dl>\n"
            ],
            "text/markdown": "GNP.deflator\n:   135.53243827998GNP\n:   1788.51348271752Unemployed\n:   33.6188905960391Armed.Forces\n:   3.58893019344537Population\n:   399.151022312507Year\n:   758.980597406785\n\n",
            "text/latex": "\\begin{description*}\n\\item[GNP.deflator] 135.53243827998\n\\item[GNP] 1788.51348271752\n\\item[Unemployed] 33.6188905960391\n\\item[Armed.Forces] 3.58893019344537\n\\item[Population] 399.151022312507\n\\item[Year] 758.980597406785\n\\end{description*}\n",
            "text/plain": [
              "GNP.deflator          GNP   Unemployed Armed.Forces   Population         Year \n",
              "   135.53244   1788.51348     33.61889      3.58893    399.15102    758.98060 "
            ]
          },
          "metadata": {}
        }
      ]
    },
    {
      "cell_type": "markdown",
      "source": [
        "Nilai VIF nya cenderung lebih besar dari 10. Hanya 1 yang tidak yaitu Armed.Forces dengan VIF 3.58893 yang sebelumnya sudah terbukti dengan melihat signifikansi."
      ],
      "metadata": {
        "id": "Circkb-tC3VE"
      },
      "id": "Circkb-tC3VE"
    },
    {
      "cell_type": "markdown",
      "source": [
        "## Pendeteksian Multikolinearitas"
      ],
      "metadata": {
        "id": "UJW-G_Q2xRle"
      },
      "id": "UJW-G_Q2xRle"
    },
    {
      "cell_type": "markdown",
      "source": [
        "###Principal Component Regression"
      ],
      "metadata": {
        "id": "x3vgskhixaHR"
      },
      "id": "x3vgskhixaHR"
    },
    {
      "cell_type": "markdown",
      "source": [
        "![image.png](data:image/png;base64,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)"
      ],
      "metadata": {
        "id": "I1wqd8riyK9e"
      },
      "id": "I1wqd8riyK9e"
    },
    {
      "cell_type": "markdown",
      "source": [
        "Metode Principal Component Regression yaitu metode dengan membuat masing-masing variabel X yang awalnya berkorelasi (tumpang tindih) di transformasikan ke dalam bentuk PC yang masing-masing PC nya nanti memuat seluruh informasi dari setiap variabel X. Tujuan dari PCR ini yaitu untuk mencapai **Orthogonalitas yaitu bagaimana membuat set faktor atau komponen dari variabel X1, X2, ... , Xn saling orthogonal** yaitu nilai dari $cor(K_1,K_2) = 0 $ (K adalah ... )."
      ],
      "metadata": {
        "id": "bljZjhPDx4dC"
      },
      "id": "bljZjhPDx4dC"
    },
    {
      "cell_type": "markdown",
      "source": [
        "#### Contoh\n",
        "\n",
        "Sumber : https://rpubs.com/esobolewska/pcr-step-by-step"
      ],
      "metadata": {
        "id": "XmbdAM3H4SEw"
      },
      "id": "XmbdAM3H4SEw"
    },
    {
      "cell_type": "code",
      "source": [
        "crimeData <- read.csv(\"http://archive.ics.uci.edu/ml/machine-learning-databases/communities/communities.data\", name = );\n",
        "crimeData;"
      ],
      "metadata": {
        "colab": {
          "base_uri": "https://localhost:8080/",
          "height": 1000
        },
        "id": "NYAzUYi1x2C0",
        "outputId": "b8ade5e4-50df-424f-a679-be2fa5502566"
      },
      "id": "NYAzUYi1x2C0",
      "execution_count": 29,
      "outputs": [
        {
          "output_type": "display_data",
          "data": {
            "text/html": [
              "<table class=\"dataframe\">\n",
              "<caption>A data.frame: 1993 × 128</caption>\n",
              "<thead>\n",
              "\t<tr><th scope=col>X8</th><th scope=col>X.</th><th scope=col>X..1</th><th scope=col>Lakewoodcity</th><th scope=col>X1</th><th scope=col>X0.19</th><th scope=col>X0.33</th><th scope=col>X0.02</th><th scope=col>X0.9</th><th scope=col>X0.12</th><th scope=col>⋯</th><th scope=col>X0.12.2</th><th scope=col>X0.26.1</th><th scope=col>X0.2.1</th><th scope=col>X0.06.3</th><th scope=col>X0.04.2</th><th scope=col>X0.9.1</th><th scope=col>X0.5.2</th><th scope=col>X0.32.2</th><th scope=col>X0.14.3</th><th scope=col>X0.2.2</th></tr>\n",
              "\t<tr><th scope=col>&lt;int&gt;</th><th scope=col>&lt;chr&gt;</th><th scope=col>&lt;chr&gt;</th><th scope=col>&lt;chr&gt;</th><th scope=col>&lt;int&gt;</th><th scope=col>&lt;dbl&gt;</th><th scope=col>&lt;dbl&gt;</th><th scope=col>&lt;dbl&gt;</th><th scope=col>&lt;dbl&gt;</th><th scope=col>&lt;dbl&gt;</th><th scope=col>⋯</th><th scope=col>&lt;dbl&gt;</th><th scope=col>&lt;dbl&gt;</th><th scope=col>&lt;dbl&gt;</th><th scope=col>&lt;chr&gt;</th><th scope=col>&lt;chr&gt;</th><th scope=col>&lt;chr&gt;</th><th scope=col>&lt;chr&gt;</th><th scope=col>&lt;dbl&gt;</th><th scope=col>&lt;chr&gt;</th><th scope=col>&lt;dbl&gt;</th></tr>\n",
              "</thead>\n",
              "<tbody>\n",
              "\t<tr><td>53</td><td>?  </td><td>?    </td><td>Tukwilacity           </td><td>1</td><td>0.00</td><td>0.16</td><td>0.12</td><td>0.74</td><td>0.45</td><td>⋯</td><td>0.02</td><td>0.12</td><td>0.45</td><td>?   </td><td>?   </td><td>?   </td><td>?  </td><td>0.00</td><td>?   </td><td>0.67</td></tr>\n",
              "\t<tr><td>24</td><td>?  </td><td>?    </td><td>Aberdeentown          </td><td>1</td><td>0.00</td><td>0.42</td><td>0.49</td><td>0.56</td><td>0.17</td><td>⋯</td><td>0.01</td><td>0.21</td><td>0.02</td><td>?   </td><td>?   </td><td>?   </td><td>?  </td><td>0.00</td><td>?   </td><td>0.43</td></tr>\n",
              "\t<tr><td>34</td><td>5  </td><td>81440</td><td>Willingborotownship   </td><td>1</td><td>0.04</td><td>0.77</td><td>1.00</td><td>0.08</td><td>0.12</td><td>⋯</td><td>0.02</td><td>0.39</td><td>0.28</td><td>?   </td><td>?   </td><td>?   </td><td>?  </td><td>0.00</td><td>?   </td><td>0.12</td></tr>\n",
              "\t<tr><td>42</td><td>95 </td><td>6096 </td><td>Bethlehemtownship     </td><td>1</td><td>0.01</td><td>0.55</td><td>0.02</td><td>0.95</td><td>0.09</td><td>⋯</td><td>0.04</td><td>0.09</td><td>0.02</td><td>?   </td><td>?   </td><td>?   </td><td>?  </td><td>0.00</td><td>?   </td><td>0.03</td></tr>\n",
              "\t<tr><td> 6</td><td>?  </td><td>?    </td><td>SouthPasadenacity     </td><td>1</td><td>0.02</td><td>0.28</td><td>0.06</td><td>0.54</td><td>1.00</td><td>⋯</td><td>0.01</td><td>0.58</td><td>0.10</td><td>?   </td><td>?   </td><td>?   </td><td>?  </td><td>0.00</td><td>?   </td><td>0.14</td></tr>\n",
              "\t<tr><td>44</td><td>7  </td><td>41500</td><td>Lincolntown           </td><td>1</td><td>0.01</td><td>0.39</td><td>0.00</td><td>0.98</td><td>0.06</td><td>⋯</td><td>0.05</td><td>0.08</td><td>0.06</td><td>?   </td><td>?   </td><td>?   </td><td>?  </td><td>0.00</td><td>?   </td><td>0.03</td></tr>\n",
              "\t<tr><td> 6</td><td>?  </td><td>?    </td><td>Selmacity             </td><td>1</td><td>0.01</td><td>0.74</td><td>0.03</td><td>0.46</td><td>0.20</td><td>⋯</td><td>0.01</td><td>0.33</td><td>0.00</td><td>?   </td><td>?   </td><td>?   </td><td>?  </td><td>0.00</td><td>?   </td><td>0.55</td></tr>\n",
              "\t<tr><td>21</td><td>?  </td><td>?    </td><td>Hendersoncity         </td><td>1</td><td>0.03</td><td>0.34</td><td>0.20</td><td>0.84</td><td>0.02</td><td>⋯</td><td>0.04</td><td>0.17</td><td>0.04</td><td>?   </td><td>?   </td><td>?   </td><td>?  </td><td>0.00</td><td>?   </td><td>0.53</td></tr>\n",
              "\t<tr><td>29</td><td>?  </td><td>?    </td><td>Claytoncity           </td><td>1</td><td>0.01</td><td>0.40</td><td>0.06</td><td>0.87</td><td>0.30</td><td>⋯</td><td>0.00</td><td>0.47</td><td>0.11</td><td>?   </td><td>?   </td><td>?   </td><td>?  </td><td>0.00</td><td>?   </td><td>0.15</td></tr>\n",
              "\t<tr><td> 6</td><td>?  </td><td>?    </td><td>DalyCitycity          </td><td>1</td><td>0.13</td><td>0.71</td><td>0.15</td><td>0.07</td><td>1.00</td><td>⋯</td><td>0.02</td><td>1.00</td><td>1.00</td><td>?   </td><td>?   </td><td>?   </td><td>?  </td><td>0.00</td><td>?   </td><td>0.24</td></tr>\n",
              "\t<tr><td>36</td><td>?  </td><td>?    </td><td>RockvilleCentrevillage</td><td>1</td><td>0.02</td><td>0.46</td><td>0.08</td><td>0.91</td><td>0.07</td><td>⋯</td><td>0.01</td><td>0.63</td><td>1.00</td><td>?   </td><td>?   </td><td>?   </td><td>?  </td><td>0.00</td><td>?   </td><td>0.08</td></tr>\n",
              "\t<tr><td>25</td><td>21 </td><td>44105</td><td>Needhamtown           </td><td>1</td><td>0.03</td><td>0.47</td><td>0.01</td><td>0.96</td><td>0.13</td><td>⋯</td><td>0.03</td><td>0.18</td><td>0.59</td><td>?   </td><td>?   </td><td>?   </td><td>?  </td><td>0.00</td><td>?   </td><td>0.06</td></tr>\n",
              "\t<tr><td>55</td><td>87 </td><td>30075</td><td>GrandChutetown        </td><td>1</td><td>0.01</td><td>0.44</td><td>0.00</td><td>0.98</td><td>0.04</td><td>⋯</td><td>0.08</td><td>0.04</td><td>0.00</td><td>?   </td><td>?   </td><td>?   </td><td>?  </td><td>0.00</td><td>?   </td><td>0.09</td></tr>\n",
              "\t<tr><td> 6</td><td>?  </td><td>?    </td><td>DanaPointcity         </td><td>1</td><td>0.04</td><td>0.36</td><td>0.01</td><td>0.85</td><td>0.14</td><td>⋯</td><td>0.02</td><td>0.40</td><td>0.15</td><td>?   </td><td>?   </td><td>?   </td><td>?  </td><td>0.00</td><td>?   </td><td>0.21</td></tr>\n",
              "\t<tr><td>19</td><td>187</td><td>91370</td><td>FortDodgecity         </td><td>1</td><td>0.03</td><td>0.34</td><td>0.06</td><td>0.93</td><td>0.03</td><td>⋯</td><td>0.04</td><td>0.15</td><td>0.04</td><td>?   </td><td>?   </td><td>?   </td><td>?  </td><td>0.00</td><td>?   </td><td>0.30</td></tr>\n",
              "\t<tr><td>36</td><td>1  </td><td>1000 </td><td>Albanycity            </td><td>1</td><td>0.15</td><td>0.31</td><td>0.40</td><td>0.63</td><td>0.14</td><td>⋯</td><td>0.06</td><td>0.39</td><td>0.84</td><td>0.06</td><td>0.06</td><td>0.91</td><td>0.5</td><td>0.88</td><td>0.26</td><td>0.49</td></tr>\n",
              "\t<tr><td>34</td><td>27 </td><td>17650</td><td>Denvilletownship      </td><td>1</td><td>0.01</td><td>0.53</td><td>0.01</td><td>0.94</td><td>0.20</td><td>⋯</td><td>0.03</td><td>0.09</td><td>0.21</td><td>?   </td><td>?   </td><td>?   </td><td>?  </td><td>0.00</td><td>?   </td><td>0.07</td></tr>\n",
              "\t<tr><td>18</td><td>?  </td><td>?    </td><td>Valparaisocity        </td><td>1</td><td>0.02</td><td>0.47</td><td>0.01</td><td>0.97</td><td>0.07</td><td>⋯</td><td>0.03</td><td>0.20</td><td>0.07</td><td>?   </td><td>?   </td><td>?   </td><td>?  </td><td>0.00</td><td>?   </td><td>0.15</td></tr>\n",
              "\t<tr><td>42</td><td>129</td><td>66376</td><td>Rostravertownship     </td><td>1</td><td>0.00</td><td>0.41</td><td>0.05</td><td>0.96</td><td>0.01</td><td>⋯</td><td>0.09</td><td>0.03</td><td>0.05</td><td>?   </td><td>?   </td><td>?   </td><td>?  </td><td>0.00</td><td>?   </td><td>0.03</td></tr>\n",
              "\t<tr><td> 6</td><td>?  </td><td>?    </td><td>Modestocity           </td><td>1</td><td>0.25</td><td>0.54</td><td>0.05</td><td>0.71</td><td>0.48</td><td>⋯</td><td>0.09</td><td>0.46</td><td>0.05</td><td>0.09</td><td>0.05</td><td>0.88</td><td>0.5</td><td>0.76</td><td>0.13</td><td>0.34</td></tr>\n",
              "\t<tr><td>12</td><td>31 </td><td>?    </td><td>Jacksonvillecity      </td><td>1</td><td>1.00</td><td>0.42</td><td>0.47</td><td>0.59</td><td>0.12</td><td>⋯</td><td>1.00</td><td>0.07</td><td>0.15</td><td>1   </td><td>0.35</td><td>0.73</td><td>0  </td><td>0.31</td><td>0.21</td><td>0.69</td></tr>\n",
              "\t<tr><td>41</td><td>?  </td><td>?    </td><td>KlamathFallscity      </td><td>1</td><td>0.01</td><td>0.34</td><td>0.02</td><td>0.87</td><td>0.07</td><td>⋯</td><td>0.05</td><td>0.09</td><td>0.06</td><td>?   </td><td>?   </td><td>?   </td><td>?  </td><td>0.00</td><td>?   </td><td>0.21</td></tr>\n",
              "\t<tr><td>19</td><td>193</td><td>93926</td><td>SiouxCitycity         </td><td>1</td><td>0.11</td><td>0.43</td><td>0.04</td><td>0.89</td><td>0.09</td><td>⋯</td><td>0.16</td><td>0.12</td><td>0.07</td><td>0.04</td><td>0.01</td><td>0.81</td><td>1  </td><td>0.56</td><td>0.09</td><td>0.63</td></tr>\n",
              "\t<tr><td> 6</td><td>?  </td><td>?    </td><td>Delanocity            </td><td>1</td><td>0.02</td><td>0.96</td><td>0.05</td><td>0.00</td><td>1.00</td><td>⋯</td><td>0.02</td><td>0.22</td><td>0.02</td><td>?   </td><td>?   </td><td>?   </td><td>?  </td><td>0.00</td><td>?   </td><td>0.31</td></tr>\n",
              "\t<tr><td> 8</td><td>?  </td><td>?    </td><td>Goldencity            </td><td>1</td><td>0.00</td><td>0.33</td><td>0.02</td><td>0.91</td><td>0.16</td><td>⋯</td><td>0.02</td><td>0.15</td><td>0.16</td><td>?   </td><td>?   </td><td>?   </td><td>?  </td><td>0.00</td><td>?   </td><td>0.12</td></tr>\n",
              "\t<tr><td> 6</td><td>?  </td><td>?    </td><td>Gardenacity           </td><td>1</td><td>0.06</td><td>0.49</td><td>0.46</td><td>0.00</td><td>1.00</td><td>⋯</td><td>0.01</td><td>0.79</td><td>0.21</td><td>?   </td><td>?   </td><td>?   </td><td>?  </td><td>0.00</td><td>?   </td><td>0.84</td></tr>\n",
              "\t<tr><td>39</td><td>29 </td><td>61798</td><td>Perrytownship         </td><td>1</td><td>0.01</td><td>0.37</td><td>0.01</td><td>0.99</td><td>0.02</td><td>⋯</td><td>0.04</td><td>0.09</td><td>0.00</td><td>?   </td><td>?   </td><td>?   </td><td>?  </td><td>0.00</td><td>?   </td><td>0.10</td></tr>\n",
              "\t<tr><td>54</td><td>?  </td><td>?    </td><td>Beckleycity           </td><td>1</td><td>0.01</td><td>0.27</td><td>0.43</td><td>0.64</td><td>0.08</td><td>⋯</td><td>0.02</td><td>0.17</td><td>0.00</td><td>?   </td><td>?   </td><td>?   </td><td>?  </td><td>0.00</td><td>?   </td><td>0.49</td></tr>\n",
              "\t<tr><td> 9</td><td>7  </td><td>22490</td><td>EastHamptontown       </td><td>1</td><td>0.00</td><td>0.50</td><td>0.01</td><td>0.98</td><td>0.02</td><td>⋯</td><td>0.10</td><td>0.02</td><td>0.08</td><td>?   </td><td>?   </td><td>?   </td><td>?  </td><td>0.00</td><td>?   </td><td>0.02</td></tr>\n",
              "\t<tr><td> 1</td><td>?  </td><td>?    </td><td>Cullmancity           </td><td>1</td><td>0.01</td><td>0.30</td><td>0.00</td><td>0.99</td><td>0.02</td><td>⋯</td><td>0.04</td><td>0.07</td><td>0.01</td><td>?   </td><td>?   </td><td>?   </td><td>?  </td><td>0.00</td><td>?   </td><td>0.16</td></tr>\n",
              "\t<tr><td>⋮</td><td>⋮</td><td>⋮</td><td>⋮</td><td>⋮</td><td>⋮</td><td>⋮</td><td>⋮</td><td>⋮</td><td>⋮</td><td>⋱</td><td>⋮</td><td>⋮</td><td>⋮</td><td>⋮</td><td>⋮</td><td>⋮</td><td>⋮</td><td>⋮</td><td>⋮</td><td>⋮</td></tr>\n",
              "\t<tr><td>36</td><td>119</td><td>49121</td><td>MountVernoncity     </td><td>10</td><td>0.09</td><td>0.45</td><td>1.00</td><td>0.08</td><td>0.11</td><td>⋯</td><td>0.01</td><td>1.00</td><td>1.00</td><td>?   </td><td>?   </td><td>?   </td><td>?  </td><td>0.00</td><td>?   </td><td>0.60</td></tr>\n",
              "\t<tr><td>18</td><td>97 </td><td>?    </td><td>Indianapoliscity    </td><td>10</td><td>1.00</td><td>0.36</td><td>0.44</td><td>0.64</td><td>0.06</td><td>⋯</td><td>1.00</td><td>0.17</td><td>0.18</td><td>0.45</td><td>0.19</td><td>0.5 </td><td>0.5</td><td>0.44</td><td>0.21</td><td>0.69</td></tr>\n",
              "\t<tr><td> 6</td><td>?  </td><td>?    </td><td>RedwoodCitycity     </td><td>10</td><td>0.09</td><td>0.41</td><td>0.07</td><td>0.74</td><td>0.39</td><td>⋯</td><td>0.05</td><td>0.29</td><td>0.22</td><td>?   </td><td>?   </td><td>?   </td><td>?  </td><td>0.00</td><td>?   </td><td>0.30</td></tr>\n",
              "\t<tr><td>25</td><td>17 </td><td>76135</td><td>Westfordtown        </td><td>10</td><td>0.01</td><td>0.66</td><td>0.00</td><td>0.97</td><td>0.10</td><td>⋯</td><td>0.09</td><td>0.04</td><td>0.04</td><td>?   </td><td>?   </td><td>?   </td><td>?  </td><td>0.00</td><td>?   </td><td>0.04</td></tr>\n",
              "\t<tr><td>34</td><td>25 </td><td>62430</td><td>RedBankborough      </td><td>10</td><td>0.00</td><td>0.24</td><td>0.51</td><td>0.53</td><td>0.11</td><td>⋯</td><td>0.00</td><td>0.50</td><td>0.49</td><td>?   </td><td>?   </td><td>?   </td><td>?  </td><td>0.00</td><td>?   </td><td>0.19</td></tr>\n",
              "\t<tr><td> 6</td><td>?  </td><td>?    </td><td>SanFranciscocity    </td><td>10</td><td>1.00</td><td>0.29</td><td>0.21</td><td>0.29</td><td>1.00</td><td>⋯</td><td>0.13</td><td>1.00</td><td>1.00</td><td>0.53</td><td>0.62</td><td>0.64</td><td>0.5</td><td>0.64</td><td>0.35</td><td>0.75</td></tr>\n",
              "\t<tr><td>45</td><td>?  </td><td>?    </td><td>Caycecity           </td><td>10</td><td>0.00</td><td>0.37</td><td>0.38</td><td>0.69</td><td>0.04</td><td>⋯</td><td>0.02</td><td>0.10</td><td>0.08</td><td>?   </td><td>?   </td><td>?   </td><td>?  </td><td>0.00</td><td>?   </td><td>0.53</td></tr>\n",
              "\t<tr><td> 1</td><td>?  </td><td>?    </td><td>Decaturcity         </td><td>10</td><td>0.06</td><td>0.39</td><td>0.32</td><td>0.73</td><td>0.04</td><td>⋯</td><td>0.14</td><td>0.09</td><td>0.01</td><td>?   </td><td>?   </td><td>?   </td><td>?  </td><td>0.00</td><td>?   </td><td>0.22</td></tr>\n",
              "\t<tr><td> 6</td><td>?  </td><td>?    </td><td>Redlandscity        </td><td>10</td><td>0.08</td><td>0.49</td><td>0.07</td><td>0.69</td><td>0.27</td><td>⋯</td><td>0.07</td><td>0.21</td><td>0.02</td><td>?   </td><td>?   </td><td>?   </td><td>?  </td><td>0.00</td><td>?   </td><td>0.30</td></tr>\n",
              "\t<tr><td>39</td><td>?  </td><td>?    </td><td>Englewoodcity       </td><td>10</td><td>0.00</td><td>0.38</td><td>0.03</td><td>0.97</td><td>0.04</td><td>⋯</td><td>0.01</td><td>0.18</td><td>0.10</td><td>?   </td><td>?   </td><td>?   </td><td>?  </td><td>0.00</td><td>?   </td><td>0.04</td></tr>\n",
              "\t<tr><td>37</td><td>?  </td><td>?    </td><td>Tarborotown         </td><td>10</td><td>0.00</td><td>0.41</td><td>0.62</td><td>0.51</td><td>0.02</td><td>⋯</td><td>0.02</td><td>0.10</td><td>0.00</td><td>?   </td><td>?   </td><td>?   </td><td>?  </td><td>0.00</td><td>?   </td><td>0.52</td></tr>\n",
              "\t<tr><td>53</td><td>?  </td><td>?    </td><td>Kirklandcity        </td><td>10</td><td>0.05</td><td>0.27</td><td>0.03</td><td>0.89</td><td>0.27</td><td>⋯</td><td>0.03</td><td>0.31</td><td>0.34</td><td>?   </td><td>?   </td><td>?   </td><td>?  </td><td>0.00</td><td>?   </td><td>0.09</td></tr>\n",
              "\t<tr><td>25</td><td>17 </td><td>1605 </td><td>Arlingtontown       </td><td>10</td><td>0.06</td><td>0.29</td><td>0.03</td><td>0.93</td><td>0.18</td><td>⋯</td><td>0.01</td><td>0.72</td><td>0.94</td><td>?   </td><td>?   </td><td>?   </td><td>?  </td><td>0.00</td><td>?   </td><td>0.08</td></tr>\n",
              "\t<tr><td>47</td><td>?  </td><td>?    </td><td>Maryvillecity       </td><td>10</td><td>0.01</td><td>0.35</td><td>0.06</td><td>0.94</td><td>0.06</td><td>⋯</td><td>0.04</td><td>0.12</td><td>0.01</td><td>?   </td><td>?   </td><td>?   </td><td>?  </td><td>0.00</td><td>?   </td><td>0.25</td></tr>\n",
              "\t<tr><td> 9</td><td>1  </td><td>4720 </td><td>Betheltown          </td><td>10</td><td>0.01</td><td>0.54</td><td>0.02</td><td>0.94</td><td>0.13</td><td>⋯</td><td>0.05</td><td>0.09</td><td>0.14</td><td>?   </td><td>?   </td><td>?   </td><td>?  </td><td>0.00</td><td>?   </td><td>0.04</td></tr>\n",
              "\t<tr><td>34</td><td>39 </td><td>61530</td><td>Rahwaycity          </td><td>10</td><td>0.02</td><td>0.43</td><td>0.39</td><td>0.63</td><td>0.15</td><td>⋯</td><td>0.01</td><td>0.53</td><td>0.43</td><td>?   </td><td>?   </td><td>?   </td><td>?  </td><td>0.00</td><td>?   </td><td>0.16</td></tr>\n",
              "\t<tr><td>25</td><td>5  </td><td>69170</td><td>Tauntoncity         </td><td>10</td><td>0.06</td><td>0.43</td><td>0.04</td><td>0.93</td><td>0.03</td><td>⋯</td><td>0.13</td><td>0.09</td><td>0.11</td><td>?   </td><td>?   </td><td>?   </td><td>?  </td><td>0.00</td><td>?   </td><td>0.28</td></tr>\n",
              "\t<tr><td> 9</td><td>9  </td><td>35650</td><td>Hamdentown          </td><td>10</td><td>0.07</td><td>0.38</td><td>0.17</td><td>0.84</td><td>0.11</td><td>⋯</td><td>0.09</td><td>0.13</td><td>0.17</td><td>0.02</td><td>0.01</td><td>0.72</td><td>0  </td><td>0.62</td><td>0.15</td><td>0.07</td></tr>\n",
              "\t<tr><td>42</td><td>133</td><td>73168</td><td>SpringGardentownship</td><td>10</td><td>0.00</td><td>0.47</td><td>0.02</td><td>0.98</td><td>0.03</td><td>⋯</td><td>0.02</td><td>0.14</td><td>0.04</td><td>?   </td><td>?   </td><td>?   </td><td>?  </td><td>0.00</td><td>?   </td><td>0.03</td></tr>\n",
              "\t<tr><td>13</td><td>?  </td><td>?    </td><td>ForestParkcity      </td><td>10</td><td>0.01</td><td>0.45</td><td>0.37</td><td>0.65</td><td>0.15</td><td>⋯</td><td>0.02</td><td>0.16</td><td>0.13</td><td>?   </td><td>?   </td><td>?   </td><td>?  </td><td>0.00</td><td>?   </td><td>0.56</td></tr>\n",
              "\t<tr><td>39</td><td>95 </td><td>48342</td><td>Maumeecity          </td><td>10</td><td>0.01</td><td>0.43</td><td>0.01</td><td>0.98</td><td>0.03</td><td>⋯</td><td>0.02</td><td>0.15</td><td>0.06</td><td>?   </td><td>?   </td><td>?   </td><td>?  </td><td>0.00</td><td>?   </td><td>0.14</td></tr>\n",
              "\t<tr><td> 1</td><td>?  </td><td>?    </td><td>AlexanderCitycity   </td><td>10</td><td>0.01</td><td>0.41</td><td>0.55</td><td>0.57</td><td>0.01</td><td>⋯</td><td>0.11</td><td>0.03</td><td>0.01</td><td>?   </td><td>?   </td><td>?   </td><td>?  </td><td>0.00</td><td>?   </td><td>0.14</td></tr>\n",
              "\t<tr><td> 9</td><td>3  </td><td>70550</td><td>Southingtontown     </td><td>10</td><td>0.05</td><td>0.52</td><td>0.02</td><td>0.97</td><td>0.04</td><td>⋯</td><td>0.10</td><td>0.09</td><td>0.03</td><td>?   </td><td>?   </td><td>?   </td><td>?  </td><td>0.00</td><td>?   </td><td>0.02</td></tr>\n",
              "\t<tr><td>44</td><td>7  </td><td>11800</td><td>Burrillvilletown    </td><td>10</td><td>0.01</td><td>0.65</td><td>0.00</td><td>1.00</td><td>0.01</td><td>⋯</td><td>0.16</td><td>0.02</td><td>0.02</td><td>?   </td><td>?   </td><td>?   </td><td>?  </td><td>0.00</td><td>?   </td><td>0.04</td></tr>\n",
              "\t<tr><td>28</td><td>?  </td><td>?    </td><td>Columbuscity        </td><td>10</td><td>0.02</td><td>0.41</td><td>1.00</td><td>0.21</td><td>0.02</td><td>⋯</td><td>0.03</td><td>0.17</td><td>0.02</td><td>?   </td><td>?   </td><td>?   </td><td>?  </td><td>0.00</td><td>?   </td><td>0.19</td></tr>\n",
              "\t<tr><td>12</td><td>?  </td><td>?    </td><td>TempleTerracecity   </td><td>10</td><td>0.01</td><td>0.40</td><td>0.10</td><td>0.87</td><td>0.12</td><td>⋯</td><td>0.01</td><td>0.28</td><td>0.05</td><td>?   </td><td>?   </td><td>?   </td><td>?  </td><td>0.00</td><td>?   </td><td>0.09</td></tr>\n",
              "\t<tr><td> 6</td><td>?  </td><td>?    </td><td>Seasidecity         </td><td>10</td><td>0.05</td><td>0.96</td><td>0.46</td><td>0.28</td><td>0.83</td><td>⋯</td><td>0.02</td><td>0.37</td><td>0.20</td><td>?   </td><td>?   </td><td>?   </td><td>?  </td><td>0.00</td><td>?   </td><td>0.45</td></tr>\n",
              "\t<tr><td> 9</td><td>9  </td><td>80070</td><td>Waterburytown       </td><td>10</td><td>0.16</td><td>0.37</td><td>0.25</td><td>0.69</td><td>0.04</td><td>⋯</td><td>0.08</td><td>0.32</td><td>0.18</td><td>0.08</td><td>0.06</td><td>0.78</td><td>0  </td><td>0.91</td><td>0.28</td><td>0.23</td></tr>\n",
              "\t<tr><td>25</td><td>17 </td><td>72600</td><td>Walthamcity         </td><td>10</td><td>0.08</td><td>0.51</td><td>0.06</td><td>0.87</td><td>0.22</td><td>⋯</td><td>0.03</td><td>0.38</td><td>0.33</td><td>0.02</td><td>0.02</td><td>0.79</td><td>0  </td><td>0.22</td><td>0.18</td><td>0.19</td></tr>\n",
              "\t<tr><td> 6</td><td>?  </td><td>?    </td><td>Ontariocity         </td><td>10</td><td>0.20</td><td>0.78</td><td>0.14</td><td>0.46</td><td>0.24</td><td>⋯</td><td>0.11</td><td>0.30</td><td>0.05</td><td>0.08</td><td>0.04</td><td>0.73</td><td>0.5</td><td>1.00</td><td>0.13</td><td>0.48</td></tr>\n",
              "</tbody>\n",
              "</table>\n"
            ],
            "text/markdown": "\nA data.frame: 1993 × 128\n\n| X8 &lt;int&gt; | X. &lt;chr&gt; | X..1 &lt;chr&gt; | Lakewoodcity &lt;chr&gt; | X1 &lt;int&gt; | X0.19 &lt;dbl&gt; | X0.33 &lt;dbl&gt; | X0.02 &lt;dbl&gt; | X0.9 &lt;dbl&gt; | X0.12 &lt;dbl&gt; | ⋯ ⋯ | X0.12.2 &lt;dbl&gt; | X0.26.1 &lt;dbl&gt; | X0.2.1 &lt;dbl&gt; | X0.06.3 &lt;chr&gt; | X0.04.2 &lt;chr&gt; | X0.9.1 &lt;chr&gt; | X0.5.2 &lt;chr&gt; | X0.32.2 &lt;dbl&gt; | X0.14.3 &lt;chr&gt; | X0.2.2 &lt;dbl&gt; |\n|---|---|---|---|---|---|---|---|---|---|---|---|---|---|---|---|---|---|---|---|---|\n| 53 | ?   | ?     | Tukwilacity            | 1 | 0.00 | 0.16 | 0.12 | 0.74 | 0.45 | ⋯ | 0.02 | 0.12 | 0.45 | ?    | ?    | ?    | ?   | 0.00 | ?    | 0.67 |\n| 24 | ?   | ?     | Aberdeentown           | 1 | 0.00 | 0.42 | 0.49 | 0.56 | 0.17 | ⋯ | 0.01 | 0.21 | 0.02 | ?    | ?    | ?    | ?   | 0.00 | ?    | 0.43 |\n| 34 | 5   | 81440 | Willingborotownship    | 1 | 0.04 | 0.77 | 1.00 | 0.08 | 0.12 | ⋯ | 0.02 | 0.39 | 0.28 | ?    | ?    | ?    | ?   | 0.00 | ?    | 0.12 |\n| 42 | 95  | 6096  | Bethlehemtownship      | 1 | 0.01 | 0.55 | 0.02 | 0.95 | 0.09 | ⋯ | 0.04 | 0.09 | 0.02 | ?    | ?    | ?    | ?   | 0.00 | ?    | 0.03 |\n|  6 | ?   | ?     | SouthPasadenacity      | 1 | 0.02 | 0.28 | 0.06 | 0.54 | 1.00 | ⋯ | 0.01 | 0.58 | 0.10 | ?    | ?    | ?    | ?   | 0.00 | ?    | 0.14 |\n| 44 | 7   | 41500 | Lincolntown            | 1 | 0.01 | 0.39 | 0.00 | 0.98 | 0.06 | ⋯ | 0.05 | 0.08 | 0.06 | ?    | ?    | ?    | ?   | 0.00 | ?    | 0.03 |\n|  6 | ?   | ?     | Selmacity              | 1 | 0.01 | 0.74 | 0.03 | 0.46 | 0.20 | ⋯ | 0.01 | 0.33 | 0.00 | ?    | ?    | ?    | ?   | 0.00 | ?    | 0.55 |\n| 21 | ?   | ?     | Hendersoncity          | 1 | 0.03 | 0.34 | 0.20 | 0.84 | 0.02 | ⋯ | 0.04 | 0.17 | 0.04 | ?    | ?    | ?    | ?   | 0.00 | ?    | 0.53 |\n| 29 | ?   | ?     | Claytoncity            | 1 | 0.01 | 0.40 | 0.06 | 0.87 | 0.30 | ⋯ | 0.00 | 0.47 | 0.11 | ?    | ?    | ?    | ?   | 0.00 | ?    | 0.15 |\n|  6 | ?   | ?     | DalyCitycity           | 1 | 0.13 | 0.71 | 0.15 | 0.07 | 1.00 | ⋯ | 0.02 | 1.00 | 1.00 | ?    | ?    | ?    | ?   | 0.00 | ?    | 0.24 |\n| 36 | ?   | ?     | RockvilleCentrevillage | 1 | 0.02 | 0.46 | 0.08 | 0.91 | 0.07 | ⋯ | 0.01 | 0.63 | 1.00 | ?    | ?    | ?    | ?   | 0.00 | ?    | 0.08 |\n| 25 | 21  | 44105 | Needhamtown            | 1 | 0.03 | 0.47 | 0.01 | 0.96 | 0.13 | ⋯ | 0.03 | 0.18 | 0.59 | ?    | ?    | ?    | ?   | 0.00 | ?    | 0.06 |\n| 55 | 87  | 30075 | GrandChutetown         | 1 | 0.01 | 0.44 | 0.00 | 0.98 | 0.04 | ⋯ | 0.08 | 0.04 | 0.00 | ?    | ?    | ?    | ?   | 0.00 | ?    | 0.09 |\n|  6 | ?   | ?     | DanaPointcity          | 1 | 0.04 | 0.36 | 0.01 | 0.85 | 0.14 | ⋯ | 0.02 | 0.40 | 0.15 | ?    | ?    | ?    | ?   | 0.00 | ?    | 0.21 |\n| 19 | 187 | 91370 | FortDodgecity          | 1 | 0.03 | 0.34 | 0.06 | 0.93 | 0.03 | ⋯ | 0.04 | 0.15 | 0.04 | ?    | ?    | ?    | ?   | 0.00 | ?    | 0.30 |\n| 36 | 1   | 1000  | Albanycity             | 1 | 0.15 | 0.31 | 0.40 | 0.63 | 0.14 | ⋯ | 0.06 | 0.39 | 0.84 | 0.06 | 0.06 | 0.91 | 0.5 | 0.88 | 0.26 | 0.49 |\n| 34 | 27  | 17650 | Denvilletownship       | 1 | 0.01 | 0.53 | 0.01 | 0.94 | 0.20 | ⋯ | 0.03 | 0.09 | 0.21 | ?    | ?    | ?    | ?   | 0.00 | ?    | 0.07 |\n| 18 | ?   | ?     | Valparaisocity         | 1 | 0.02 | 0.47 | 0.01 | 0.97 | 0.07 | ⋯ | 0.03 | 0.20 | 0.07 | ?    | ?    | ?    | ?   | 0.00 | ?    | 0.15 |\n| 42 | 129 | 66376 | Rostravertownship      | 1 | 0.00 | 0.41 | 0.05 | 0.96 | 0.01 | ⋯ | 0.09 | 0.03 | 0.05 | ?    | ?    | ?    | ?   | 0.00 | ?    | 0.03 |\n|  6 | ?   | ?     | Modestocity            | 1 | 0.25 | 0.54 | 0.05 | 0.71 | 0.48 | ⋯ | 0.09 | 0.46 | 0.05 | 0.09 | 0.05 | 0.88 | 0.5 | 0.76 | 0.13 | 0.34 |\n| 12 | 31  | ?     | Jacksonvillecity       | 1 | 1.00 | 0.42 | 0.47 | 0.59 | 0.12 | ⋯ | 1.00 | 0.07 | 0.15 | 1    | 0.35 | 0.73 | 0   | 0.31 | 0.21 | 0.69 |\n| 41 | ?   | ?     | KlamathFallscity       | 1 | 0.01 | 0.34 | 0.02 | 0.87 | 0.07 | ⋯ | 0.05 | 0.09 | 0.06 | ?    | ?    | ?    | ?   | 0.00 | ?    | 0.21 |\n| 19 | 193 | 93926 | SiouxCitycity          | 1 | 0.11 | 0.43 | 0.04 | 0.89 | 0.09 | ⋯ | 0.16 | 0.12 | 0.07 | 0.04 | 0.01 | 0.81 | 1   | 0.56 | 0.09 | 0.63 |\n|  6 | ?   | ?     | Delanocity             | 1 | 0.02 | 0.96 | 0.05 | 0.00 | 1.00 | ⋯ | 0.02 | 0.22 | 0.02 | ?    | ?    | ?    | ?   | 0.00 | ?    | 0.31 |\n|  8 | ?   | ?     | Goldencity             | 1 | 0.00 | 0.33 | 0.02 | 0.91 | 0.16 | ⋯ | 0.02 | 0.15 | 0.16 | ?    | ?    | ?    | ?   | 0.00 | ?    | 0.12 |\n|  6 | ?   | ?     | Gardenacity            | 1 | 0.06 | 0.49 | 0.46 | 0.00 | 1.00 | ⋯ | 0.01 | 0.79 | 0.21 | ?    | ?    | ?    | ?   | 0.00 | ?    | 0.84 |\n| 39 | 29  | 61798 | Perrytownship          | 1 | 0.01 | 0.37 | 0.01 | 0.99 | 0.02 | ⋯ | 0.04 | 0.09 | 0.00 | ?    | ?    | ?    | ?   | 0.00 | ?    | 0.10 |\n| 54 | ?   | ?     | Beckleycity            | 1 | 0.01 | 0.27 | 0.43 | 0.64 | 0.08 | ⋯ | 0.02 | 0.17 | 0.00 | ?    | ?    | ?    | ?   | 0.00 | ?    | 0.49 |\n|  9 | 7   | 22490 | EastHamptontown        | 1 | 0.00 | 0.50 | 0.01 | 0.98 | 0.02 | ⋯ | 0.10 | 0.02 | 0.08 | ?    | ?    | ?    | ?   | 0.00 | ?    | 0.02 |\n|  1 | ?   | ?     | Cullmancity            | 1 | 0.01 | 0.30 | 0.00 | 0.99 | 0.02 | ⋯ | 0.04 | 0.07 | 0.01 | ?    | ?    | ?    | ?   | 0.00 | ?    | 0.16 |\n| ⋮ | ⋮ | ⋮ | ⋮ | ⋮ | ⋮ | ⋮ | ⋮ | ⋮ | ⋮ | ⋱ | ⋮ | ⋮ | ⋮ | ⋮ | ⋮ | ⋮ | ⋮ | ⋮ | ⋮ | ⋮ |\n| 36 | 119 | 49121 | MountVernoncity      | 10 | 0.09 | 0.45 | 1.00 | 0.08 | 0.11 | ⋯ | 0.01 | 1.00 | 1.00 | ?    | ?    | ?    | ?   | 0.00 | ?    | 0.60 |\n| 18 | 97  | ?     | Indianapoliscity     | 10 | 1.00 | 0.36 | 0.44 | 0.64 | 0.06 | ⋯ | 1.00 | 0.17 | 0.18 | 0.45 | 0.19 | 0.5  | 0.5 | 0.44 | 0.21 | 0.69 |\n|  6 | ?   | ?     | RedwoodCitycity      | 10 | 0.09 | 0.41 | 0.07 | 0.74 | 0.39 | ⋯ | 0.05 | 0.29 | 0.22 | ?    | ?    | ?    | ?   | 0.00 | ?    | 0.30 |\n| 25 | 17  | 76135 | Westfordtown         | 10 | 0.01 | 0.66 | 0.00 | 0.97 | 0.10 | ⋯ | 0.09 | 0.04 | 0.04 | ?    | ?    | ?    | ?   | 0.00 | ?    | 0.04 |\n| 34 | 25  | 62430 | RedBankborough       | 10 | 0.00 | 0.24 | 0.51 | 0.53 | 0.11 | ⋯ | 0.00 | 0.50 | 0.49 | ?    | ?    | ?    | ?   | 0.00 | ?    | 0.19 |\n|  6 | ?   | ?     | SanFranciscocity     | 10 | 1.00 | 0.29 | 0.21 | 0.29 | 1.00 | ⋯ | 0.13 | 1.00 | 1.00 | 0.53 | 0.62 | 0.64 | 0.5 | 0.64 | 0.35 | 0.75 |\n| 45 | ?   | ?     | Caycecity            | 10 | 0.00 | 0.37 | 0.38 | 0.69 | 0.04 | ⋯ | 0.02 | 0.10 | 0.08 | ?    | ?    | ?    | ?   | 0.00 | ?    | 0.53 |\n|  1 | ?   | ?     | Decaturcity          | 10 | 0.06 | 0.39 | 0.32 | 0.73 | 0.04 | ⋯ | 0.14 | 0.09 | 0.01 | ?    | ?    | ?    | ?   | 0.00 | ?    | 0.22 |\n|  6 | ?   | ?     | Redlandscity         | 10 | 0.08 | 0.49 | 0.07 | 0.69 | 0.27 | ⋯ | 0.07 | 0.21 | 0.02 | ?    | ?    | ?    | ?   | 0.00 | ?    | 0.30 |\n| 39 | ?   | ?     | Englewoodcity        | 10 | 0.00 | 0.38 | 0.03 | 0.97 | 0.04 | ⋯ | 0.01 | 0.18 | 0.10 | ?    | ?    | ?    | ?   | 0.00 | ?    | 0.04 |\n| 37 | ?   | ?     | Tarborotown          | 10 | 0.00 | 0.41 | 0.62 | 0.51 | 0.02 | ⋯ | 0.02 | 0.10 | 0.00 | ?    | ?    | ?    | ?   | 0.00 | ?    | 0.52 |\n| 53 | ?   | ?     | Kirklandcity         | 10 | 0.05 | 0.27 | 0.03 | 0.89 | 0.27 | ⋯ | 0.03 | 0.31 | 0.34 | ?    | ?    | ?    | ?   | 0.00 | ?    | 0.09 |\n| 25 | 17  | 1605  | Arlingtontown        | 10 | 0.06 | 0.29 | 0.03 | 0.93 | 0.18 | ⋯ | 0.01 | 0.72 | 0.94 | ?    | ?    | ?    | ?   | 0.00 | ?    | 0.08 |\n| 47 | ?   | ?     | Maryvillecity        | 10 | 0.01 | 0.35 | 0.06 | 0.94 | 0.06 | ⋯ | 0.04 | 0.12 | 0.01 | ?    | ?    | ?    | ?   | 0.00 | ?    | 0.25 |\n|  9 | 1   | 4720  | Betheltown           | 10 | 0.01 | 0.54 | 0.02 | 0.94 | 0.13 | ⋯ | 0.05 | 0.09 | 0.14 | ?    | ?    | ?    | ?   | 0.00 | ?    | 0.04 |\n| 34 | 39  | 61530 | Rahwaycity           | 10 | 0.02 | 0.43 | 0.39 | 0.63 | 0.15 | ⋯ | 0.01 | 0.53 | 0.43 | ?    | ?    | ?    | ?   | 0.00 | ?    | 0.16 |\n| 25 | 5   | 69170 | Tauntoncity          | 10 | 0.06 | 0.43 | 0.04 | 0.93 | 0.03 | ⋯ | 0.13 | 0.09 | 0.11 | ?    | ?    | ?    | ?   | 0.00 | ?    | 0.28 |\n|  9 | 9   | 35650 | Hamdentown           | 10 | 0.07 | 0.38 | 0.17 | 0.84 | 0.11 | ⋯ | 0.09 | 0.13 | 0.17 | 0.02 | 0.01 | 0.72 | 0   | 0.62 | 0.15 | 0.07 |\n| 42 | 133 | 73168 | SpringGardentownship | 10 | 0.00 | 0.47 | 0.02 | 0.98 | 0.03 | ⋯ | 0.02 | 0.14 | 0.04 | ?    | ?    | ?    | ?   | 0.00 | ?    | 0.03 |\n| 13 | ?   | ?     | ForestParkcity       | 10 | 0.01 | 0.45 | 0.37 | 0.65 | 0.15 | ⋯ | 0.02 | 0.16 | 0.13 | ?    | ?    | ?    | ?   | 0.00 | ?    | 0.56 |\n| 39 | 95  | 48342 | Maumeecity           | 10 | 0.01 | 0.43 | 0.01 | 0.98 | 0.03 | ⋯ | 0.02 | 0.15 | 0.06 | ?    | ?    | ?    | ?   | 0.00 | ?    | 0.14 |\n|  1 | ?   | ?     | AlexanderCitycity    | 10 | 0.01 | 0.41 | 0.55 | 0.57 | 0.01 | ⋯ | 0.11 | 0.03 | 0.01 | ?    | ?    | ?    | ?   | 0.00 | ?    | 0.14 |\n|  9 | 3   | 70550 | Southingtontown      | 10 | 0.05 | 0.52 | 0.02 | 0.97 | 0.04 | ⋯ | 0.10 | 0.09 | 0.03 | ?    | ?    | ?    | ?   | 0.00 | ?    | 0.02 |\n| 44 | 7   | 11800 | Burrillvilletown     | 10 | 0.01 | 0.65 | 0.00 | 1.00 | 0.01 | ⋯ | 0.16 | 0.02 | 0.02 | ?    | ?    | ?    | ?   | 0.00 | ?    | 0.04 |\n| 28 | ?   | ?     | Columbuscity         | 10 | 0.02 | 0.41 | 1.00 | 0.21 | 0.02 | ⋯ | 0.03 | 0.17 | 0.02 | ?    | ?    | ?    | ?   | 0.00 | ?    | 0.19 |\n| 12 | ?   | ?     | TempleTerracecity    | 10 | 0.01 | 0.40 | 0.10 | 0.87 | 0.12 | ⋯ | 0.01 | 0.28 | 0.05 | ?    | ?    | ?    | ?   | 0.00 | ?    | 0.09 |\n|  6 | ?   | ?     | Seasidecity          | 10 | 0.05 | 0.96 | 0.46 | 0.28 | 0.83 | ⋯ | 0.02 | 0.37 | 0.20 | ?    | ?    | ?    | ?   | 0.00 | ?    | 0.45 |\n|  9 | 9   | 80070 | Waterburytown        | 10 | 0.16 | 0.37 | 0.25 | 0.69 | 0.04 | ⋯ | 0.08 | 0.32 | 0.18 | 0.08 | 0.06 | 0.78 | 0   | 0.91 | 0.28 | 0.23 |\n| 25 | 17  | 72600 | Walthamcity          | 10 | 0.08 | 0.51 | 0.06 | 0.87 | 0.22 | ⋯ | 0.03 | 0.38 | 0.33 | 0.02 | 0.02 | 0.79 | 0   | 0.22 | 0.18 | 0.19 |\n|  6 | ?   | ?     | Ontariocity          | 10 | 0.20 | 0.78 | 0.14 | 0.46 | 0.24 | ⋯ | 0.11 | 0.30 | 0.05 | 0.08 | 0.04 | 0.73 | 0.5 | 1.00 | 0.13 | 0.48 |\n\n",
            "text/latex": "A data.frame: 1993 × 128\n\\begin{tabular}{lllllllllllllllllllll}\n X8 & X. & X..1 & Lakewoodcity & X1 & X0.19 & X0.33 & X0.02 & X0.9 & X0.12 & ⋯ & X0.12.2 & X0.26.1 & X0.2.1 & X0.06.3 & X0.04.2 & X0.9.1 & X0.5.2 & X0.32.2 & X0.14.3 & X0.2.2\\\\\n <int> & <chr> & <chr> & <chr> & <int> & <dbl> & <dbl> & <dbl> & <dbl> & <dbl> & ⋯ & <dbl> & <dbl> & <dbl> & <chr> & <chr> & <chr> & <chr> & <dbl> & <chr> & <dbl>\\\\\n\\hline\n\t 53 & ?   & ?     & Tukwilacity            & 1 & 0.00 & 0.16 & 0.12 & 0.74 & 0.45 & ⋯ & 0.02 & 0.12 & 0.45 & ?    & ?    & ?    & ?   & 0.00 & ?    & 0.67\\\\\n\t 24 & ?   & ?     & Aberdeentown           & 1 & 0.00 & 0.42 & 0.49 & 0.56 & 0.17 & ⋯ & 0.01 & 0.21 & 0.02 & ?    & ?    & ?    & ?   & 0.00 & ?    & 0.43\\\\\n\t 34 & 5   & 81440 & Willingborotownship    & 1 & 0.04 & 0.77 & 1.00 & 0.08 & 0.12 & ⋯ & 0.02 & 0.39 & 0.28 & ?    & ?    & ?    & ?   & 0.00 & ?    & 0.12\\\\\n\t 42 & 95  & 6096  & Bethlehemtownship      & 1 & 0.01 & 0.55 & 0.02 & 0.95 & 0.09 & ⋯ & 0.04 & 0.09 & 0.02 & ?    & ?    & ?    & ?   & 0.00 & ?    & 0.03\\\\\n\t  6 & ?   & ?     & SouthPasadenacity      & 1 & 0.02 & 0.28 & 0.06 & 0.54 & 1.00 & ⋯ & 0.01 & 0.58 & 0.10 & ?    & ?    & ?    & ?   & 0.00 & ?    & 0.14\\\\\n\t 44 & 7   & 41500 & Lincolntown            & 1 & 0.01 & 0.39 & 0.00 & 0.98 & 0.06 & ⋯ & 0.05 & 0.08 & 0.06 & ?    & ?    & ?    & ?   & 0.00 & ?    & 0.03\\\\\n\t  6 & ?   & ?     & Selmacity              & 1 & 0.01 & 0.74 & 0.03 & 0.46 & 0.20 & ⋯ & 0.01 & 0.33 & 0.00 & ?    & ?    & ?    & ?   & 0.00 & ?    & 0.55\\\\\n\t 21 & ?   & ?     & Hendersoncity          & 1 & 0.03 & 0.34 & 0.20 & 0.84 & 0.02 & ⋯ & 0.04 & 0.17 & 0.04 & ?    & ?    & ?    & ?   & 0.00 & ?    & 0.53\\\\\n\t 29 & ?   & ?     & Claytoncity            & 1 & 0.01 & 0.40 & 0.06 & 0.87 & 0.30 & ⋯ & 0.00 & 0.47 & 0.11 & ?    & ?    & ?    & ?   & 0.00 & ?    & 0.15\\\\\n\t  6 & ?   & ?     & DalyCitycity           & 1 & 0.13 & 0.71 & 0.15 & 0.07 & 1.00 & ⋯ & 0.02 & 1.00 & 1.00 & ?    & ?    & ?    & ?   & 0.00 & ?    & 0.24\\\\\n\t 36 & ?   & ?     & RockvilleCentrevillage & 1 & 0.02 & 0.46 & 0.08 & 0.91 & 0.07 & ⋯ & 0.01 & 0.63 & 1.00 & ?    & ?    & ?    & ?   & 0.00 & ?    & 0.08\\\\\n\t 25 & 21  & 44105 & Needhamtown            & 1 & 0.03 & 0.47 & 0.01 & 0.96 & 0.13 & ⋯ & 0.03 & 0.18 & 0.59 & ?    & ?    & ?    & ?   & 0.00 & ?    & 0.06\\\\\n\t 55 & 87  & 30075 & GrandChutetown         & 1 & 0.01 & 0.44 & 0.00 & 0.98 & 0.04 & ⋯ & 0.08 & 0.04 & 0.00 & ?    & ?    & ?    & ?   & 0.00 & ?    & 0.09\\\\\n\t  6 & ?   & ?     & DanaPointcity          & 1 & 0.04 & 0.36 & 0.01 & 0.85 & 0.14 & ⋯ & 0.02 & 0.40 & 0.15 & ?    & ?    & ?    & ?   & 0.00 & ?    & 0.21\\\\\n\t 19 & 187 & 91370 & FortDodgecity          & 1 & 0.03 & 0.34 & 0.06 & 0.93 & 0.03 & ⋯ & 0.04 & 0.15 & 0.04 & ?    & ?    & ?    & ?   & 0.00 & ?    & 0.30\\\\\n\t 36 & 1   & 1000  & Albanycity             & 1 & 0.15 & 0.31 & 0.40 & 0.63 & 0.14 & ⋯ & 0.06 & 0.39 & 0.84 & 0.06 & 0.06 & 0.91 & 0.5 & 0.88 & 0.26 & 0.49\\\\\n\t 34 & 27  & 17650 & Denvilletownship       & 1 & 0.01 & 0.53 & 0.01 & 0.94 & 0.20 & ⋯ & 0.03 & 0.09 & 0.21 & ?    & ?    & ?    & ?   & 0.00 & ?    & 0.07\\\\\n\t 18 & ?   & ?     & Valparaisocity         & 1 & 0.02 & 0.47 & 0.01 & 0.97 & 0.07 & ⋯ & 0.03 & 0.20 & 0.07 & ?    & ?    & ?    & ?   & 0.00 & ?    & 0.15\\\\\n\t 42 & 129 & 66376 & Rostravertownship      & 1 & 0.00 & 0.41 & 0.05 & 0.96 & 0.01 & ⋯ & 0.09 & 0.03 & 0.05 & ?    & ?    & ?    & ?   & 0.00 & ?    & 0.03\\\\\n\t  6 & ?   & ?     & Modestocity            & 1 & 0.25 & 0.54 & 0.05 & 0.71 & 0.48 & ⋯ & 0.09 & 0.46 & 0.05 & 0.09 & 0.05 & 0.88 & 0.5 & 0.76 & 0.13 & 0.34\\\\\n\t 12 & 31  & ?     & Jacksonvillecity       & 1 & 1.00 & 0.42 & 0.47 & 0.59 & 0.12 & ⋯ & 1.00 & 0.07 & 0.15 & 1    & 0.35 & 0.73 & 0   & 0.31 & 0.21 & 0.69\\\\\n\t 41 & ?   & ?     & KlamathFallscity       & 1 & 0.01 & 0.34 & 0.02 & 0.87 & 0.07 & ⋯ & 0.05 & 0.09 & 0.06 & ?    & ?    & ?    & ?   & 0.00 & ?    & 0.21\\\\\n\t 19 & 193 & 93926 & SiouxCitycity          & 1 & 0.11 & 0.43 & 0.04 & 0.89 & 0.09 & ⋯ & 0.16 & 0.12 & 0.07 & 0.04 & 0.01 & 0.81 & 1   & 0.56 & 0.09 & 0.63\\\\\n\t  6 & ?   & ?     & Delanocity             & 1 & 0.02 & 0.96 & 0.05 & 0.00 & 1.00 & ⋯ & 0.02 & 0.22 & 0.02 & ?    & ?    & ?    & ?   & 0.00 & ?    & 0.31\\\\\n\t  8 & ?   & ?     & Goldencity             & 1 & 0.00 & 0.33 & 0.02 & 0.91 & 0.16 & ⋯ & 0.02 & 0.15 & 0.16 & ?    & ?    & ?    & ?   & 0.00 & ?    & 0.12\\\\\n\t  6 & ?   & ?     & Gardenacity            & 1 & 0.06 & 0.49 & 0.46 & 0.00 & 1.00 & ⋯ & 0.01 & 0.79 & 0.21 & ?    & ?    & ?    & ?   & 0.00 & ?    & 0.84\\\\\n\t 39 & 29  & 61798 & Perrytownship          & 1 & 0.01 & 0.37 & 0.01 & 0.99 & 0.02 & ⋯ & 0.04 & 0.09 & 0.00 & ?    & ?    & ?    & ?   & 0.00 & ?    & 0.10\\\\\n\t 54 & ?   & ?     & Beckleycity            & 1 & 0.01 & 0.27 & 0.43 & 0.64 & 0.08 & ⋯ & 0.02 & 0.17 & 0.00 & ?    & ?    & ?    & ?   & 0.00 & ?    & 0.49\\\\\n\t  9 & 7   & 22490 & EastHamptontown        & 1 & 0.00 & 0.50 & 0.01 & 0.98 & 0.02 & ⋯ & 0.10 & 0.02 & 0.08 & ?    & ?    & ?    & ?   & 0.00 & ?    & 0.02\\\\\n\t  1 & ?   & ?     & Cullmancity            & 1 & 0.01 & 0.30 & 0.00 & 0.99 & 0.02 & ⋯ & 0.04 & 0.07 & 0.01 & ?    & ?    & ?    & ?   & 0.00 & ?    & 0.16\\\\\n\t ⋮ & ⋮ & ⋮ & ⋮ & ⋮ & ⋮ & ⋮ & ⋮ & ⋮ & ⋮ & ⋱ & ⋮ & ⋮ & ⋮ & ⋮ & ⋮ & ⋮ & ⋮ & ⋮ & ⋮ & ⋮\\\\\n\t 36 & 119 & 49121 & MountVernoncity      & 10 & 0.09 & 0.45 & 1.00 & 0.08 & 0.11 & ⋯ & 0.01 & 1.00 & 1.00 & ?    & ?    & ?    & ?   & 0.00 & ?    & 0.60\\\\\n\t 18 & 97  & ?     & Indianapoliscity     & 10 & 1.00 & 0.36 & 0.44 & 0.64 & 0.06 & ⋯ & 1.00 & 0.17 & 0.18 & 0.45 & 0.19 & 0.5  & 0.5 & 0.44 & 0.21 & 0.69\\\\\n\t  6 & ?   & ?     & RedwoodCitycity      & 10 & 0.09 & 0.41 & 0.07 & 0.74 & 0.39 & ⋯ & 0.05 & 0.29 & 0.22 & ?    & ?    & ?    & ?   & 0.00 & ?    & 0.30\\\\\n\t 25 & 17  & 76135 & Westfordtown         & 10 & 0.01 & 0.66 & 0.00 & 0.97 & 0.10 & ⋯ & 0.09 & 0.04 & 0.04 & ?    & ?    & ?    & ?   & 0.00 & ?    & 0.04\\\\\n\t 34 & 25  & 62430 & RedBankborough       & 10 & 0.00 & 0.24 & 0.51 & 0.53 & 0.11 & ⋯ & 0.00 & 0.50 & 0.49 & ?    & ?    & ?    & ?   & 0.00 & ?    & 0.19\\\\\n\t  6 & ?   & ?     & SanFranciscocity     & 10 & 1.00 & 0.29 & 0.21 & 0.29 & 1.00 & ⋯ & 0.13 & 1.00 & 1.00 & 0.53 & 0.62 & 0.64 & 0.5 & 0.64 & 0.35 & 0.75\\\\\n\t 45 & ?   & ?     & Caycecity            & 10 & 0.00 & 0.37 & 0.38 & 0.69 & 0.04 & ⋯ & 0.02 & 0.10 & 0.08 & ?    & ?    & ?    & ?   & 0.00 & ?    & 0.53\\\\\n\t  1 & ?   & ?     & Decaturcity          & 10 & 0.06 & 0.39 & 0.32 & 0.73 & 0.04 & ⋯ & 0.14 & 0.09 & 0.01 & ?    & ?    & ?    & ?   & 0.00 & ?    & 0.22\\\\\n\t  6 & ?   & ?     & Redlandscity         & 10 & 0.08 & 0.49 & 0.07 & 0.69 & 0.27 & ⋯ & 0.07 & 0.21 & 0.02 & ?    & ?    & ?    & ?   & 0.00 & ?    & 0.30\\\\\n\t 39 & ?   & ?     & Englewoodcity        & 10 & 0.00 & 0.38 & 0.03 & 0.97 & 0.04 & ⋯ & 0.01 & 0.18 & 0.10 & ?    & ?    & ?    & ?   & 0.00 & ?    & 0.04\\\\\n\t 37 & ?   & ?     & Tarborotown          & 10 & 0.00 & 0.41 & 0.62 & 0.51 & 0.02 & ⋯ & 0.02 & 0.10 & 0.00 & ?    & ?    & ?    & ?   & 0.00 & ?    & 0.52\\\\\n\t 53 & ?   & ?     & Kirklandcity         & 10 & 0.05 & 0.27 & 0.03 & 0.89 & 0.27 & ⋯ & 0.03 & 0.31 & 0.34 & ?    & ?    & ?    & ?   & 0.00 & ?    & 0.09\\\\\n\t 25 & 17  & 1605  & Arlingtontown        & 10 & 0.06 & 0.29 & 0.03 & 0.93 & 0.18 & ⋯ & 0.01 & 0.72 & 0.94 & ?    & ?    & ?    & ?   & 0.00 & ?    & 0.08\\\\\n\t 47 & ?   & ?     & Maryvillecity        & 10 & 0.01 & 0.35 & 0.06 & 0.94 & 0.06 & ⋯ & 0.04 & 0.12 & 0.01 & ?    & ?    & ?    & ?   & 0.00 & ?    & 0.25\\\\\n\t  9 & 1   & 4720  & Betheltown           & 10 & 0.01 & 0.54 & 0.02 & 0.94 & 0.13 & ⋯ & 0.05 & 0.09 & 0.14 & ?    & ?    & ?    & ?   & 0.00 & ?    & 0.04\\\\\n\t 34 & 39  & 61530 & Rahwaycity           & 10 & 0.02 & 0.43 & 0.39 & 0.63 & 0.15 & ⋯ & 0.01 & 0.53 & 0.43 & ?    & ?    & ?    & ?   & 0.00 & ?    & 0.16\\\\\n\t 25 & 5   & 69170 & Tauntoncity          & 10 & 0.06 & 0.43 & 0.04 & 0.93 & 0.03 & ⋯ & 0.13 & 0.09 & 0.11 & ?    & ?    & ?    & ?   & 0.00 & ?    & 0.28\\\\\n\t  9 & 9   & 35650 & Hamdentown           & 10 & 0.07 & 0.38 & 0.17 & 0.84 & 0.11 & ⋯ & 0.09 & 0.13 & 0.17 & 0.02 & 0.01 & 0.72 & 0   & 0.62 & 0.15 & 0.07\\\\\n\t 42 & 133 & 73168 & SpringGardentownship & 10 & 0.00 & 0.47 & 0.02 & 0.98 & 0.03 & ⋯ & 0.02 & 0.14 & 0.04 & ?    & ?    & ?    & ?   & 0.00 & ?    & 0.03\\\\\n\t 13 & ?   & ?     & ForestParkcity       & 10 & 0.01 & 0.45 & 0.37 & 0.65 & 0.15 & ⋯ & 0.02 & 0.16 & 0.13 & ?    & ?    & ?    & ?   & 0.00 & ?    & 0.56\\\\\n\t 39 & 95  & 48342 & Maumeecity           & 10 & 0.01 & 0.43 & 0.01 & 0.98 & 0.03 & ⋯ & 0.02 & 0.15 & 0.06 & ?    & ?    & ?    & ?   & 0.00 & ?    & 0.14\\\\\n\t  1 & ?   & ?     & AlexanderCitycity    & 10 & 0.01 & 0.41 & 0.55 & 0.57 & 0.01 & ⋯ & 0.11 & 0.03 & 0.01 & ?    & ?    & ?    & ?   & 0.00 & ?    & 0.14\\\\\n\t  9 & 3   & 70550 & Southingtontown      & 10 & 0.05 & 0.52 & 0.02 & 0.97 & 0.04 & ⋯ & 0.10 & 0.09 & 0.03 & ?    & ?    & ?    & ?   & 0.00 & ?    & 0.02\\\\\n\t 44 & 7   & 11800 & Burrillvilletown     & 10 & 0.01 & 0.65 & 0.00 & 1.00 & 0.01 & ⋯ & 0.16 & 0.02 & 0.02 & ?    & ?    & ?    & ?   & 0.00 & ?    & 0.04\\\\\n\t 28 & ?   & ?     & Columbuscity         & 10 & 0.02 & 0.41 & 1.00 & 0.21 & 0.02 & ⋯ & 0.03 & 0.17 & 0.02 & ?    & ?    & ?    & ?   & 0.00 & ?    & 0.19\\\\\n\t 12 & ?   & ?     & TempleTerracecity    & 10 & 0.01 & 0.40 & 0.10 & 0.87 & 0.12 & ⋯ & 0.01 & 0.28 & 0.05 & ?    & ?    & ?    & ?   & 0.00 & ?    & 0.09\\\\\n\t  6 & ?   & ?     & Seasidecity          & 10 & 0.05 & 0.96 & 0.46 & 0.28 & 0.83 & ⋯ & 0.02 & 0.37 & 0.20 & ?    & ?    & ?    & ?   & 0.00 & ?    & 0.45\\\\\n\t  9 & 9   & 80070 & Waterburytown        & 10 & 0.16 & 0.37 & 0.25 & 0.69 & 0.04 & ⋯ & 0.08 & 0.32 & 0.18 & 0.08 & 0.06 & 0.78 & 0   & 0.91 & 0.28 & 0.23\\\\\n\t 25 & 17  & 72600 & Walthamcity          & 10 & 0.08 & 0.51 & 0.06 & 0.87 & 0.22 & ⋯ & 0.03 & 0.38 & 0.33 & 0.02 & 0.02 & 0.79 & 0   & 0.22 & 0.18 & 0.19\\\\\n\t  6 & ?   & ?     & Ontariocity          & 10 & 0.20 & 0.78 & 0.14 & 0.46 & 0.24 & ⋯ & 0.11 & 0.30 & 0.05 & 0.08 & 0.04 & 0.73 & 0.5 & 1.00 & 0.13 & 0.48\\\\\n\\end{tabular}\n",
            "text/plain": [
              "     X8 X.  X..1  Lakewoodcity           X1 X0.19 X0.33 X0.02 X0.9 X0.12 ⋯\n",
              "1    53 ?   ?     Tukwilacity            1  0.00  0.16  0.12  0.74 0.45  ⋯\n",
              "2    24 ?   ?     Aberdeentown           1  0.00  0.42  0.49  0.56 0.17  ⋯\n",
              "3    34 5   81440 Willingborotownship    1  0.04  0.77  1.00  0.08 0.12  ⋯\n",
              "4    42 95  6096  Bethlehemtownship      1  0.01  0.55  0.02  0.95 0.09  ⋯\n",
              "5     6 ?   ?     SouthPasadenacity      1  0.02  0.28  0.06  0.54 1.00  ⋯\n",
              "6    44 7   41500 Lincolntown            1  0.01  0.39  0.00  0.98 0.06  ⋯\n",
              "7     6 ?   ?     Selmacity              1  0.01  0.74  0.03  0.46 0.20  ⋯\n",
              "8    21 ?   ?     Hendersoncity          1  0.03  0.34  0.20  0.84 0.02  ⋯\n",
              "9    29 ?   ?     Claytoncity            1  0.01  0.40  0.06  0.87 0.30  ⋯\n",
              "10    6 ?   ?     DalyCitycity           1  0.13  0.71  0.15  0.07 1.00  ⋯\n",
              "11   36 ?   ?     RockvilleCentrevillage 1  0.02  0.46  0.08  0.91 0.07  ⋯\n",
              "12   25 21  44105 Needhamtown            1  0.03  0.47  0.01  0.96 0.13  ⋯\n",
              "13   55 87  30075 GrandChutetown         1  0.01  0.44  0.00  0.98 0.04  ⋯\n",
              "14    6 ?   ?     DanaPointcity          1  0.04  0.36  0.01  0.85 0.14  ⋯\n",
              "15   19 187 91370 FortDodgecity          1  0.03  0.34  0.06  0.93 0.03  ⋯\n",
              "16   36 1   1000  Albanycity             1  0.15  0.31  0.40  0.63 0.14  ⋯\n",
              "17   34 27  17650 Denvilletownship       1  0.01  0.53  0.01  0.94 0.20  ⋯\n",
              "18   18 ?   ?     Valparaisocity         1  0.02  0.47  0.01  0.97 0.07  ⋯\n",
              "19   42 129 66376 Rostravertownship      1  0.00  0.41  0.05  0.96 0.01  ⋯\n",
              "20    6 ?   ?     Modestocity            1  0.25  0.54  0.05  0.71 0.48  ⋯\n",
              "21   12 31  ?     Jacksonvillecity       1  1.00  0.42  0.47  0.59 0.12  ⋯\n",
              "22   41 ?   ?     KlamathFallscity       1  0.01  0.34  0.02  0.87 0.07  ⋯\n",
              "23   19 193 93926 SiouxCitycity          1  0.11  0.43  0.04  0.89 0.09  ⋯\n",
              "24    6 ?   ?     Delanocity             1  0.02  0.96  0.05  0.00 1.00  ⋯\n",
              "25    8 ?   ?     Goldencity             1  0.00  0.33  0.02  0.91 0.16  ⋯\n",
              "26    6 ?   ?     Gardenacity            1  0.06  0.49  0.46  0.00 1.00  ⋯\n",
              "27   39 29  61798 Perrytownship          1  0.01  0.37  0.01  0.99 0.02  ⋯\n",
              "28   54 ?   ?     Beckleycity            1  0.01  0.27  0.43  0.64 0.08  ⋯\n",
              "29    9 7   22490 EastHamptontown        1  0.00  0.50  0.01  0.98 0.02  ⋯\n",
              "30    1 ?   ?     Cullmancity            1  0.01  0.30  0.00  0.99 0.02  ⋯\n",
              "⋮    ⋮  ⋮   ⋮     ⋮                      ⋮  ⋮     ⋮     ⋮     ⋮    ⋮     ⋱\n",
              "1964 36 119 49121 MountVernoncity        10 0.09  0.45  1.00  0.08 0.11  ⋯\n",
              "1965 18 97  ?     Indianapoliscity       10 1.00  0.36  0.44  0.64 0.06  ⋯\n",
              "1966  6 ?   ?     RedwoodCitycity        10 0.09  0.41  0.07  0.74 0.39  ⋯\n",
              "1967 25 17  76135 Westfordtown           10 0.01  0.66  0.00  0.97 0.10  ⋯\n",
              "1968 34 25  62430 RedBankborough         10 0.00  0.24  0.51  0.53 0.11  ⋯\n",
              "1969  6 ?   ?     SanFranciscocity       10 1.00  0.29  0.21  0.29 1.00  ⋯\n",
              "1970 45 ?   ?     Caycecity              10 0.00  0.37  0.38  0.69 0.04  ⋯\n",
              "1971  1 ?   ?     Decaturcity            10 0.06  0.39  0.32  0.73 0.04  ⋯\n",
              "1972  6 ?   ?     Redlandscity           10 0.08  0.49  0.07  0.69 0.27  ⋯\n",
              "1973 39 ?   ?     Englewoodcity          10 0.00  0.38  0.03  0.97 0.04  ⋯\n",
              "1974 37 ?   ?     Tarborotown            10 0.00  0.41  0.62  0.51 0.02  ⋯\n",
              "1975 53 ?   ?     Kirklandcity           10 0.05  0.27  0.03  0.89 0.27  ⋯\n",
              "1976 25 17  1605  Arlingtontown          10 0.06  0.29  0.03  0.93 0.18  ⋯\n",
              "1977 47 ?   ?     Maryvillecity          10 0.01  0.35  0.06  0.94 0.06  ⋯\n",
              "1978  9 1   4720  Betheltown             10 0.01  0.54  0.02  0.94 0.13  ⋯\n",
              "1979 34 39  61530 Rahwaycity             10 0.02  0.43  0.39  0.63 0.15  ⋯\n",
              "1980 25 5   69170 Tauntoncity            10 0.06  0.43  0.04  0.93 0.03  ⋯\n",
              "1981  9 9   35650 Hamdentown             10 0.07  0.38  0.17  0.84 0.11  ⋯\n",
              "1982 42 133 73168 SpringGardentownship   10 0.00  0.47  0.02  0.98 0.03  ⋯\n",
              "1983 13 ?   ?     ForestParkcity         10 0.01  0.45  0.37  0.65 0.15  ⋯\n",
              "1984 39 95  48342 Maumeecity             10 0.01  0.43  0.01  0.98 0.03  ⋯\n",
              "1985  1 ?   ?     AlexanderCitycity      10 0.01  0.41  0.55  0.57 0.01  ⋯\n",
              "1986  9 3   70550 Southingtontown        10 0.05  0.52  0.02  0.97 0.04  ⋯\n",
              "1987 44 7   11800 Burrillvilletown       10 0.01  0.65  0.00  1.00 0.01  ⋯\n",
              "1988 28 ?   ?     Columbuscity           10 0.02  0.41  1.00  0.21 0.02  ⋯\n",
              "1989 12 ?   ?     TempleTerracecity      10 0.01  0.40  0.10  0.87 0.12  ⋯\n",
              "1990  6 ?   ?     Seasidecity            10 0.05  0.96  0.46  0.28 0.83  ⋯\n",
              "1991  9 9   80070 Waterburytown          10 0.16  0.37  0.25  0.69 0.04  ⋯\n",
              "1992 25 17  72600 Walthamcity            10 0.08  0.51  0.06  0.87 0.22  ⋯\n",
              "1993  6 ?   ?     Ontariocity            10 0.20  0.78  0.14  0.46 0.24  ⋯\n",
              "     X0.12.2 X0.26.1 X0.2.1 X0.06.3 X0.04.2 X0.9.1 X0.5.2 X0.32.2 X0.14.3\n",
              "1    0.02    0.12    0.45   ?       ?       ?      ?      0.00    ?      \n",
              "2    0.01    0.21    0.02   ?       ?       ?      ?      0.00    ?      \n",
              "3    0.02    0.39    0.28   ?       ?       ?      ?      0.00    ?      \n",
              "4    0.04    0.09    0.02   ?       ?       ?      ?      0.00    ?      \n",
              "5    0.01    0.58    0.10   ?       ?       ?      ?      0.00    ?      \n",
              "6    0.05    0.08    0.06   ?       ?       ?      ?      0.00    ?      \n",
              "7    0.01    0.33    0.00   ?       ?       ?      ?      0.00    ?      \n",
              "8    0.04    0.17    0.04   ?       ?       ?      ?      0.00    ?      \n",
              "9    0.00    0.47    0.11   ?       ?       ?      ?      0.00    ?      \n",
              "10   0.02    1.00    1.00   ?       ?       ?      ?      0.00    ?      \n",
              "11   0.01    0.63    1.00   ?       ?       ?      ?      0.00    ?      \n",
              "12   0.03    0.18    0.59   ?       ?       ?      ?      0.00    ?      \n",
              "13   0.08    0.04    0.00   ?       ?       ?      ?      0.00    ?      \n",
              "14   0.02    0.40    0.15   ?       ?       ?      ?      0.00    ?      \n",
              "15   0.04    0.15    0.04   ?       ?       ?      ?      0.00    ?      \n",
              "16   0.06    0.39    0.84   0.06    0.06    0.91   0.5    0.88    0.26   \n",
              "17   0.03    0.09    0.21   ?       ?       ?      ?      0.00    ?      \n",
              "18   0.03    0.20    0.07   ?       ?       ?      ?      0.00    ?      \n",
              "19   0.09    0.03    0.05   ?       ?       ?      ?      0.00    ?      \n",
              "20   0.09    0.46    0.05   0.09    0.05    0.88   0.5    0.76    0.13   \n",
              "21   1.00    0.07    0.15   1       0.35    0.73   0      0.31    0.21   \n",
              "22   0.05    0.09    0.06   ?       ?       ?      ?      0.00    ?      \n",
              "23   0.16    0.12    0.07   0.04    0.01    0.81   1      0.56    0.09   \n",
              "24   0.02    0.22    0.02   ?       ?       ?      ?      0.00    ?      \n",
              "25   0.02    0.15    0.16   ?       ?       ?      ?      0.00    ?      \n",
              "26   0.01    0.79    0.21   ?       ?       ?      ?      0.00    ?      \n",
              "27   0.04    0.09    0.00   ?       ?       ?      ?      0.00    ?      \n",
              "28   0.02    0.17    0.00   ?       ?       ?      ?      0.00    ?      \n",
              "29   0.10    0.02    0.08   ?       ?       ?      ?      0.00    ?      \n",
              "30   0.04    0.07    0.01   ?       ?       ?      ?      0.00    ?      \n",
              "⋮    ⋮       ⋮       ⋮      ⋮       ⋮       ⋮      ⋮      ⋮       ⋮      \n",
              "1964 0.01    1.00    1.00   ?       ?       ?      ?      0.00    ?      \n",
              "1965 1.00    0.17    0.18   0.45    0.19    0.5    0.5    0.44    0.21   \n",
              "1966 0.05    0.29    0.22   ?       ?       ?      ?      0.00    ?      \n",
              "1967 0.09    0.04    0.04   ?       ?       ?      ?      0.00    ?      \n",
              "1968 0.00    0.50    0.49   ?       ?       ?      ?      0.00    ?      \n",
              "1969 0.13    1.00    1.00   0.53    0.62    0.64   0.5    0.64    0.35   \n",
              "1970 0.02    0.10    0.08   ?       ?       ?      ?      0.00    ?      \n",
              "1971 0.14    0.09    0.01   ?       ?       ?      ?      0.00    ?      \n",
              "1972 0.07    0.21    0.02   ?       ?       ?      ?      0.00    ?      \n",
              "1973 0.01    0.18    0.10   ?       ?       ?      ?      0.00    ?      \n",
              "1974 0.02    0.10    0.00   ?       ?       ?      ?      0.00    ?      \n",
              "1975 0.03    0.31    0.34   ?       ?       ?      ?      0.00    ?      \n",
              "1976 0.01    0.72    0.94   ?       ?       ?      ?      0.00    ?      \n",
              "1977 0.04    0.12    0.01   ?       ?       ?      ?      0.00    ?      \n",
              "1978 0.05    0.09    0.14   ?       ?       ?      ?      0.00    ?      \n",
              "1979 0.01    0.53    0.43   ?       ?       ?      ?      0.00    ?      \n",
              "1980 0.13    0.09    0.11   ?       ?       ?      ?      0.00    ?      \n",
              "1981 0.09    0.13    0.17   0.02    0.01    0.72   0      0.62    0.15   \n",
              "1982 0.02    0.14    0.04   ?       ?       ?      ?      0.00    ?      \n",
              "1983 0.02    0.16    0.13   ?       ?       ?      ?      0.00    ?      \n",
              "1984 0.02    0.15    0.06   ?       ?       ?      ?      0.00    ?      \n",
              "1985 0.11    0.03    0.01   ?       ?       ?      ?      0.00    ?      \n",
              "1986 0.10    0.09    0.03   ?       ?       ?      ?      0.00    ?      \n",
              "1987 0.16    0.02    0.02   ?       ?       ?      ?      0.00    ?      \n",
              "1988 0.03    0.17    0.02   ?       ?       ?      ?      0.00    ?      \n",
              "1989 0.01    0.28    0.05   ?       ?       ?      ?      0.00    ?      \n",
              "1990 0.02    0.37    0.20   ?       ?       ?      ?      0.00    ?      \n",
              "1991 0.08    0.32    0.18   0.08    0.06    0.78   0      0.91    0.28   \n",
              "1992 0.03    0.38    0.33   0.02    0.02    0.79   0      0.22    0.18   \n",
              "1993 0.11    0.30    0.05   0.08    0.04    0.73   0.5    1.00    0.13   \n",
              "     X0.2.2\n",
              "1    0.67  \n",
              "2    0.43  \n",
              "3    0.12  \n",
              "4    0.03  \n",
              "5    0.14  \n",
              "6    0.03  \n",
              "7    0.55  \n",
              "8    0.53  \n",
              "9    0.15  \n",
              "10   0.24  \n",
              "11   0.08  \n",
              "12   0.06  \n",
              "13   0.09  \n",
              "14   0.21  \n",
              "15   0.30  \n",
              "16   0.49  \n",
              "17   0.07  \n",
              "18   0.15  \n",
              "19   0.03  \n",
              "20   0.34  \n",
              "21   0.69  \n",
              "22   0.21  \n",
              "23   0.63  \n",
              "24   0.31  \n",
              "25   0.12  \n",
              "26   0.84  \n",
              "27   0.10  \n",
              "28   0.49  \n",
              "29   0.02  \n",
              "30   0.16  \n",
              "⋮    ⋮     \n",
              "1964 0.60  \n",
              "1965 0.69  \n",
              "1966 0.30  \n",
              "1967 0.04  \n",
              "1968 0.19  \n",
              "1969 0.75  \n",
              "1970 0.53  \n",
              "1971 0.22  \n",
              "1972 0.30  \n",
              "1973 0.04  \n",
              "1974 0.52  \n",
              "1975 0.09  \n",
              "1976 0.08  \n",
              "1977 0.25  \n",
              "1978 0.04  \n",
              "1979 0.16  \n",
              "1980 0.28  \n",
              "1981 0.07  \n",
              "1982 0.03  \n",
              "1983 0.56  \n",
              "1984 0.14  \n",
              "1985 0.14  \n",
              "1986 0.02  \n",
              "1987 0.04  \n",
              "1988 0.19  \n",
              "1989 0.09  \n",
              "1990 0.45  \n",
              "1991 0.23  \n",
              "1992 0.19  \n",
              "1993 0.48  "
            ]
          },
          "metadata": {}
        }
      ]
    },
    {
      "cell_type": "code",
      "source": [
        "crimeData.test <- crimeData[1451:1994,]\n",
        "crimeData.descr <- crimeData[1:1450,]"
      ],
      "metadata": {
        "id": "S9iTQiz-4CRo"
      },
      "id": "S9iTQiz-4CRo",
      "execution_count": 31,
      "outputs": []
    },
    {
      "cell_type": "code",
      "source": [
        "res <- cor(crimeData.descr, method=\"pearson\")\n",
        "corrplot::corrplot(res, method= \"color\", order = \"hclust\", tl.pos = 'n')"
      ],
      "metadata": {
        "id": "oLWRasQm9KBm",
        "outputId": "3a71af3b-3c3d-4bf2-fa2c-30b3ca87093a",
        "colab": {
          "base_uri": "https://localhost:8080/",
          "height": 148
        }
      },
      "id": "oLWRasQm9KBm",
      "execution_count": 32,
      "outputs": [
        {
          "output_type": "error",
          "ename": "ERROR",
          "evalue": "ignored",
          "traceback": [
            "Error in cor(crimeData.descr, method = \"pearson\"): 'x' must be numeric\nTraceback:\n",
            "1. cor(crimeData.descr, method = \"pearson\")",
            "2. stop(\"'x' must be numeric\")"
          ]
        }
      ]
    }
  ],
  "metadata": {
    "kernelspec": {
      "display_name": "R",
      "language": "R",
      "name": "ir"
    },
    "language_info": {
      "codemirror_mode": "r",
      "file_extension": ".r",
      "mimetype": "text/x-r-source",
      "name": "R",
      "pygments_lexer": "r",
      "version": "3.6.1"
    },
    "colab": {
      "name": "testing github.ipynb",
      "provenance": []
    }
  },
  "nbformat": 4,
  "nbformat_minor": 5
}