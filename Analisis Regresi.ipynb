{
  "cells": [
    {
      "cell_type": "markdown",
      "id": "cb1d8c3a",
      "metadata": {
        "id": "cb1d8c3a"
      },
      "source": [
        "## Uji T Parsial dan Uji F Simultan\n",
        "\n"
      ]
    },
    {
      "cell_type": "code",
      "execution_count": null,
      "id": "eb5ed420",
      "metadata": {
        "id": "eb5ed420",
        "outputId": "00234a41-b42e-4fab-f71d-c2e99402eafb"
      },
      "outputs": [
        {
          "name": "stderr",
          "output_type": "stream",
          "text": [
            "also installing the dependencies 'processx', 'glue', 'rprojroot', 'diffobj', 'rematch2', 'brio', 'callr', 'cli', 'desc', 'ellipsis', 'lifecycle', 'pkgload', 'praise', 'ps', 'rlang', 'waldo', 'withr', 'testthat', 'minqa', 'nloptr', 'RcppEigen', 'lme4'\n",
            "\n"
          ]
        },
        {
          "name": "stdout",
          "output_type": "stream",
          "text": [
            "\n",
            "  There are binary versions available but the source versions are later:\n",
            "             binary    source needs_compilation\n",
            "processx      3.5.2     3.5.3              TRUE\n",
            "glue          1.4.2     1.6.2              TRUE\n",
            "rprojroot     2.0.2     2.0.3             FALSE\n",
            "diffobj       0.3.4     0.3.5              TRUE\n",
            "brio          1.1.2     1.1.3              TRUE\n",
            "cli           2.5.0     3.2.0              TRUE\n",
            "desc          1.3.0     1.4.1             FALSE\n",
            "lifecycle     1.0.0     1.0.1             FALSE\n",
            "pkgload       1.2.1     1.2.4             FALSE\n",
            "ps            1.6.0     1.7.0              TRUE\n",
            "rlang        0.4.11     1.0.2              TRUE\n",
            "waldo         0.2.5     0.4.0             FALSE\n",
            "withr         2.4.2     2.5.0             FALSE\n",
            "testthat      3.0.2     3.1.3              TRUE\n",
            "nloptr      1.2.2.2     2.0.0              TRUE\n",
            "RcppEigen 0.3.3.9.1 0.3.3.9.2              TRUE\n",
            "lme4         1.1-26    1.1-29              TRUE\n",
            "\n",
            "  Binaries will be installed\n",
            "package 'processx' successfully unpacked and MD5 sums checked\n",
            "package 'glue' successfully unpacked and MD5 sums checked\n",
            "package 'diffobj' successfully unpacked and MD5 sums checked\n",
            "package 'rematch2' successfully unpacked and MD5 sums checked\n",
            "package 'brio' successfully unpacked and MD5 sums checked\n",
            "package 'callr' successfully unpacked and MD5 sums checked\n",
            "package 'cli' successfully unpacked and MD5 sums checked\n",
            "package 'ellipsis' successfully unpacked and MD5 sums checked\n",
            "package 'praise' successfully unpacked and MD5 sums checked\n",
            "package 'ps' successfully unpacked and MD5 sums checked\n",
            "package 'rlang' successfully unpacked and MD5 sums checked\n",
            "package 'testthat' successfully unpacked and MD5 sums checked\n",
            "package 'minqa' successfully unpacked and MD5 sums checked\n",
            "package 'nloptr' successfully unpacked and MD5 sums checked\n",
            "package 'RcppEigen' successfully unpacked and MD5 sums checked\n",
            "package 'lme4' successfully unpacked and MD5 sums checked\n",
            "package 'faraway' successfully unpacked and MD5 sums checked\n",
            "\n",
            "The downloaded binary packages are in\n",
            "\tC:\\Users\\juzma\\AppData\\Local\\Temp\\RtmpSWgqEK\\downloaded_packages\n"
          ]
        },
        {
          "name": "stderr",
          "output_type": "stream",
          "text": [
            "installing the source packages 'rprojroot', 'desc', 'lifecycle', 'pkgload', 'waldo', 'withr'\n",
            "\n"
          ]
        }
      ],
      "source": [
        "install.packages(\"faraway\");\n",
        "library(faraway);"
      ]
    },
    {
      "cell_type": "code",
      "source": [
        "longley;"
      ],
      "metadata": {
        "id": "s9EKChJDtDXu",
        "outputId": "ae07584e-7411-4937-e407-b9b680c0cb8e",
        "colab": {
          "base_uri": "https://localhost:8080/",
          "height": 600
        }
      },
      "id": "s9EKChJDtDXu",
      "execution_count": null,
      "outputs": [
        {
          "output_type": "display_data",
          "data": {
            "text/html": [
              "<table class=\"dataframe\">\n",
              "<caption>A data.frame: 16 × 7</caption>\n",
              "<thead>\n",
              "\t<tr><th></th><th scope=col>GNP.deflator</th><th scope=col>GNP</th><th scope=col>Unemployed</th><th scope=col>Armed.Forces</th><th scope=col>Population</th><th scope=col>Year</th><th scope=col>Employed</th></tr>\n",
              "\t<tr><th></th><th scope=col>&lt;dbl&gt;</th><th scope=col>&lt;dbl&gt;</th><th scope=col>&lt;dbl&gt;</th><th scope=col>&lt;dbl&gt;</th><th scope=col>&lt;dbl&gt;</th><th scope=col>&lt;int&gt;</th><th scope=col>&lt;dbl&gt;</th></tr>\n",
              "</thead>\n",
              "<tbody>\n",
              "\t<tr><th scope=row>1947</th><td> 83.0</td><td>234.289</td><td>235.6</td><td>159.0</td><td>107.608</td><td>1947</td><td>60.323</td></tr>\n",
              "\t<tr><th scope=row>1948</th><td> 88.5</td><td>259.426</td><td>232.5</td><td>145.6</td><td>108.632</td><td>1948</td><td>61.122</td></tr>\n",
              "\t<tr><th scope=row>1949</th><td> 88.2</td><td>258.054</td><td>368.2</td><td>161.6</td><td>109.773</td><td>1949</td><td>60.171</td></tr>\n",
              "\t<tr><th scope=row>1950</th><td> 89.5</td><td>284.599</td><td>335.1</td><td>165.0</td><td>110.929</td><td>1950</td><td>61.187</td></tr>\n",
              "\t<tr><th scope=row>1951</th><td> 96.2</td><td>328.975</td><td>209.9</td><td>309.9</td><td>112.075</td><td>1951</td><td>63.221</td></tr>\n",
              "\t<tr><th scope=row>1952</th><td> 98.1</td><td>346.999</td><td>193.2</td><td>359.4</td><td>113.270</td><td>1952</td><td>63.639</td></tr>\n",
              "\t<tr><th scope=row>1953</th><td> 99.0</td><td>365.385</td><td>187.0</td><td>354.7</td><td>115.094</td><td>1953</td><td>64.989</td></tr>\n",
              "\t<tr><th scope=row>1954</th><td>100.0</td><td>363.112</td><td>357.8</td><td>335.0</td><td>116.219</td><td>1954</td><td>63.761</td></tr>\n",
              "\t<tr><th scope=row>1955</th><td>101.2</td><td>397.469</td><td>290.4</td><td>304.8</td><td>117.388</td><td>1955</td><td>66.019</td></tr>\n",
              "\t<tr><th scope=row>1956</th><td>104.6</td><td>419.180</td><td>282.2</td><td>285.7</td><td>118.734</td><td>1956</td><td>67.857</td></tr>\n",
              "\t<tr><th scope=row>1957</th><td>108.4</td><td>442.769</td><td>293.6</td><td>279.8</td><td>120.445</td><td>1957</td><td>68.169</td></tr>\n",
              "\t<tr><th scope=row>1958</th><td>110.8</td><td>444.546</td><td>468.1</td><td>263.7</td><td>121.950</td><td>1958</td><td>66.513</td></tr>\n",
              "\t<tr><th scope=row>1959</th><td>112.6</td><td>482.704</td><td>381.3</td><td>255.2</td><td>123.366</td><td>1959</td><td>68.655</td></tr>\n",
              "\t<tr><th scope=row>1960</th><td>114.2</td><td>502.601</td><td>393.1</td><td>251.4</td><td>125.368</td><td>1960</td><td>69.564</td></tr>\n",
              "\t<tr><th scope=row>1961</th><td>115.7</td><td>518.173</td><td>480.6</td><td>257.2</td><td>127.852</td><td>1961</td><td>69.331</td></tr>\n",
              "\t<tr><th scope=row>1962</th><td>116.9</td><td>554.894</td><td>400.7</td><td>282.7</td><td>130.081</td><td>1962</td><td>70.551</td></tr>\n",
              "</tbody>\n",
              "</table>\n"
            ],
            "text/markdown": "\nA data.frame: 16 × 7\n\n| <!--/--> | GNP.deflator &lt;dbl&gt; | GNP &lt;dbl&gt; | Unemployed &lt;dbl&gt; | Armed.Forces &lt;dbl&gt; | Population &lt;dbl&gt; | Year &lt;int&gt; | Employed &lt;dbl&gt; |\n|---|---|---|---|---|---|---|---|\n| 1947 |  83.0 | 234.289 | 235.6 | 159.0 | 107.608 | 1947 | 60.323 |\n| 1948 |  88.5 | 259.426 | 232.5 | 145.6 | 108.632 | 1948 | 61.122 |\n| 1949 |  88.2 | 258.054 | 368.2 | 161.6 | 109.773 | 1949 | 60.171 |\n| 1950 |  89.5 | 284.599 | 335.1 | 165.0 | 110.929 | 1950 | 61.187 |\n| 1951 |  96.2 | 328.975 | 209.9 | 309.9 | 112.075 | 1951 | 63.221 |\n| 1952 |  98.1 | 346.999 | 193.2 | 359.4 | 113.270 | 1952 | 63.639 |\n| 1953 |  99.0 | 365.385 | 187.0 | 354.7 | 115.094 | 1953 | 64.989 |\n| 1954 | 100.0 | 363.112 | 357.8 | 335.0 | 116.219 | 1954 | 63.761 |\n| 1955 | 101.2 | 397.469 | 290.4 | 304.8 | 117.388 | 1955 | 66.019 |\n| 1956 | 104.6 | 419.180 | 282.2 | 285.7 | 118.734 | 1956 | 67.857 |\n| 1957 | 108.4 | 442.769 | 293.6 | 279.8 | 120.445 | 1957 | 68.169 |\n| 1958 | 110.8 | 444.546 | 468.1 | 263.7 | 121.950 | 1958 | 66.513 |\n| 1959 | 112.6 | 482.704 | 381.3 | 255.2 | 123.366 | 1959 | 68.655 |\n| 1960 | 114.2 | 502.601 | 393.1 | 251.4 | 125.368 | 1960 | 69.564 |\n| 1961 | 115.7 | 518.173 | 480.6 | 257.2 | 127.852 | 1961 | 69.331 |\n| 1962 | 116.9 | 554.894 | 400.7 | 282.7 | 130.081 | 1962 | 70.551 |\n\n",
            "text/latex": "A data.frame: 16 × 7\n\\begin{tabular}{r|lllllll}\n  & GNP.deflator & GNP & Unemployed & Armed.Forces & Population & Year & Employed\\\\\n  & <dbl> & <dbl> & <dbl> & <dbl> & <dbl> & <int> & <dbl>\\\\\n\\hline\n\t1947 &  83.0 & 234.289 & 235.6 & 159.0 & 107.608 & 1947 & 60.323\\\\\n\t1948 &  88.5 & 259.426 & 232.5 & 145.6 & 108.632 & 1948 & 61.122\\\\\n\t1949 &  88.2 & 258.054 & 368.2 & 161.6 & 109.773 & 1949 & 60.171\\\\\n\t1950 &  89.5 & 284.599 & 335.1 & 165.0 & 110.929 & 1950 & 61.187\\\\\n\t1951 &  96.2 & 328.975 & 209.9 & 309.9 & 112.075 & 1951 & 63.221\\\\\n\t1952 &  98.1 & 346.999 & 193.2 & 359.4 & 113.270 & 1952 & 63.639\\\\\n\t1953 &  99.0 & 365.385 & 187.0 & 354.7 & 115.094 & 1953 & 64.989\\\\\n\t1954 & 100.0 & 363.112 & 357.8 & 335.0 & 116.219 & 1954 & 63.761\\\\\n\t1955 & 101.2 & 397.469 & 290.4 & 304.8 & 117.388 & 1955 & 66.019\\\\\n\t1956 & 104.6 & 419.180 & 282.2 & 285.7 & 118.734 & 1956 & 67.857\\\\\n\t1957 & 108.4 & 442.769 & 293.6 & 279.8 & 120.445 & 1957 & 68.169\\\\\n\t1958 & 110.8 & 444.546 & 468.1 & 263.7 & 121.950 & 1958 & 66.513\\\\\n\t1959 & 112.6 & 482.704 & 381.3 & 255.2 & 123.366 & 1959 & 68.655\\\\\n\t1960 & 114.2 & 502.601 & 393.1 & 251.4 & 125.368 & 1960 & 69.564\\\\\n\t1961 & 115.7 & 518.173 & 480.6 & 257.2 & 127.852 & 1961 & 69.331\\\\\n\t1962 & 116.9 & 554.894 & 400.7 & 282.7 & 130.081 & 1962 & 70.551\\\\\n\\end{tabular}\n",
            "text/plain": [
              "     GNP.deflator GNP     Unemployed Armed.Forces Population Year Employed\n",
              "1947  83.0        234.289 235.6      159.0        107.608    1947 60.323  \n",
              "1948  88.5        259.426 232.5      145.6        108.632    1948 61.122  \n",
              "1949  88.2        258.054 368.2      161.6        109.773    1949 60.171  \n",
              "1950  89.5        284.599 335.1      165.0        110.929    1950 61.187  \n",
              "1951  96.2        328.975 209.9      309.9        112.075    1951 63.221  \n",
              "1952  98.1        346.999 193.2      359.4        113.270    1952 63.639  \n",
              "1953  99.0        365.385 187.0      354.7        115.094    1953 64.989  \n",
              "1954 100.0        363.112 357.8      335.0        116.219    1954 63.761  \n",
              "1955 101.2        397.469 290.4      304.8        117.388    1955 66.019  \n",
              "1956 104.6        419.180 282.2      285.7        118.734    1956 67.857  \n",
              "1957 108.4        442.769 293.6      279.8        120.445    1957 68.169  \n",
              "1958 110.8        444.546 468.1      263.7        121.950    1958 66.513  \n",
              "1959 112.6        482.704 381.3      255.2        123.366    1959 68.655  \n",
              "1960 114.2        502.601 393.1      251.4        125.368    1960 69.564  \n",
              "1961 115.7        518.173 480.6      257.2        127.852    1961 69.331  \n",
              "1962 116.9        554.894 400.7      282.7        130.081    1962 70.551  "
            ]
          },
          "metadata": {}
        }
      ]
    },
    {
      "cell_type": "markdown",
      "id": "f7e24813",
      "metadata": {
        "id": "f7e24813"
      },
      "source": [
        "Employed as Y variable and the others variable as X"
      ]
    },
    {
      "cell_type": "code",
      "source": [
        "dim(longley);"
      ],
      "metadata": {
        "colab": {
          "base_uri": "https://localhost:8080/",
          "height": 34
        },
        "id": "XDkdkV9V8Md0",
        "outputId": "f7329524-c7ae-40c8-b951-df69bb7cb98a"
      },
      "id": "XDkdkV9V8Md0",
      "execution_count": null,
      "outputs": [
        {
          "output_type": "display_data",
          "data": {
            "text/html": [
              "<style>\n",
              ".list-inline {list-style: none; margin:0; padding: 0}\n",
              ".list-inline>li {display: inline-block}\n",
              ".list-inline>li:not(:last-child)::after {content: \"\\00b7\"; padding: 0 .5ex}\n",
              "</style>\n",
              "<ol class=list-inline><li>16</li><li>7</li></ol>\n"
            ],
            "text/markdown": "1. 16\n2. 7\n\n\n",
            "text/latex": "\\begin{enumerate*}\n\\item 16\n\\item 7\n\\end{enumerate*}\n",
            "text/plain": [
              "[1] 16  7"
            ]
          },
          "metadata": {}
        }
      ]
    },
    {
      "cell_type": "code",
      "execution_count": null,
      "id": "f5668997",
      "metadata": {
        "id": "f5668997",
        "outputId": "6187dcfc-1949-4229-f4ee-22e05a1e98f9",
        "colab": {
          "base_uri": "https://localhost:8080/",
          "height": 286
        }
      },
      "outputs": [
        {
          "output_type": "display_data",
          "data": {
            "text/html": [
              "<table class=\"dataframe\">\n",
              "<caption>A matrix: 7 × 7 of type dbl</caption>\n",
              "<thead>\n",
              "\t<tr><th></th><th scope=col>GNP.deflator</th><th scope=col>GNP</th><th scope=col>Unemployed</th><th scope=col>Armed.Forces</th><th scope=col>Population</th><th scope=col>Year</th><th scope=col>Employed</th></tr>\n",
              "</thead>\n",
              "<tbody>\n",
              "\t<tr><th scope=row>GNP.deflator</th><td>1.0000000</td><td>0.9915892</td><td> 0.6206334</td><td> 0.4647442</td><td>0.9791634</td><td>0.9911492</td><td>0.9708985</td></tr>\n",
              "\t<tr><th scope=row>GNP</th><td>0.9915892</td><td>1.0000000</td><td> 0.6042609</td><td> 0.4464368</td><td>0.9910901</td><td>0.9952735</td><td>0.9835516</td></tr>\n",
              "\t<tr><th scope=row>Unemployed</th><td>0.6206334</td><td>0.6042609</td><td> 1.0000000</td><td>-0.1774206</td><td>0.6865515</td><td>0.6682566</td><td>0.5024981</td></tr>\n",
              "\t<tr><th scope=row>Armed.Forces</th><td>0.4647442</td><td>0.4464368</td><td>-0.1774206</td><td> 1.0000000</td><td>0.3644163</td><td>0.4172451</td><td>0.4573074</td></tr>\n",
              "\t<tr><th scope=row>Population</th><td>0.9791634</td><td>0.9910901</td><td> 0.6865515</td><td> 0.3644163</td><td>1.0000000</td><td>0.9939528</td><td>0.9603906</td></tr>\n",
              "\t<tr><th scope=row>Year</th><td>0.9911492</td><td>0.9952735</td><td> 0.6682566</td><td> 0.4172451</td><td>0.9939528</td><td>1.0000000</td><td>0.9713295</td></tr>\n",
              "\t<tr><th scope=row>Employed</th><td>0.9708985</td><td>0.9835516</td><td> 0.5024981</td><td> 0.4573074</td><td>0.9603906</td><td>0.9713295</td><td>1.0000000</td></tr>\n",
              "</tbody>\n",
              "</table>\n"
            ],
            "text/markdown": "\nA matrix: 7 × 7 of type dbl\n\n| <!--/--> | GNP.deflator | GNP | Unemployed | Armed.Forces | Population | Year | Employed |\n|---|---|---|---|---|---|---|---|\n| GNP.deflator | 1.0000000 | 0.9915892 |  0.6206334 |  0.4647442 | 0.9791634 | 0.9911492 | 0.9708985 |\n| GNP | 0.9915892 | 1.0000000 |  0.6042609 |  0.4464368 | 0.9910901 | 0.9952735 | 0.9835516 |\n| Unemployed | 0.6206334 | 0.6042609 |  1.0000000 | -0.1774206 | 0.6865515 | 0.6682566 | 0.5024981 |\n| Armed.Forces | 0.4647442 | 0.4464368 | -0.1774206 |  1.0000000 | 0.3644163 | 0.4172451 | 0.4573074 |\n| Population | 0.9791634 | 0.9910901 |  0.6865515 |  0.3644163 | 1.0000000 | 0.9939528 | 0.9603906 |\n| Year | 0.9911492 | 0.9952735 |  0.6682566 |  0.4172451 | 0.9939528 | 1.0000000 | 0.9713295 |\n| Employed | 0.9708985 | 0.9835516 |  0.5024981 |  0.4573074 | 0.9603906 | 0.9713295 | 1.0000000 |\n\n",
            "text/latex": "A matrix: 7 × 7 of type dbl\n\\begin{tabular}{r|lllllll}\n  & GNP.deflator & GNP & Unemployed & Armed.Forces & Population & Year & Employed\\\\\n\\hline\n\tGNP.deflator & 1.0000000 & 0.9915892 &  0.6206334 &  0.4647442 & 0.9791634 & 0.9911492 & 0.9708985\\\\\n\tGNP & 0.9915892 & 1.0000000 &  0.6042609 &  0.4464368 & 0.9910901 & 0.9952735 & 0.9835516\\\\\n\tUnemployed & 0.6206334 & 0.6042609 &  1.0000000 & -0.1774206 & 0.6865515 & 0.6682566 & 0.5024981\\\\\n\tArmed.Forces & 0.4647442 & 0.4464368 & -0.1774206 &  1.0000000 & 0.3644163 & 0.4172451 & 0.4573074\\\\\n\tPopulation & 0.9791634 & 0.9910901 &  0.6865515 &  0.3644163 & 1.0000000 & 0.9939528 & 0.9603906\\\\\n\tYear & 0.9911492 & 0.9952735 &  0.6682566 &  0.4172451 & 0.9939528 & 1.0000000 & 0.9713295\\\\\n\tEmployed & 0.9708985 & 0.9835516 &  0.5024981 &  0.4573074 & 0.9603906 & 0.9713295 & 1.0000000\\\\\n\\end{tabular}\n",
            "text/plain": [
              "             GNP.deflator GNP       Unemployed Armed.Forces Population\n",
              "GNP.deflator 1.0000000    0.9915892  0.6206334  0.4647442   0.9791634 \n",
              "GNP          0.9915892    1.0000000  0.6042609  0.4464368   0.9910901 \n",
              "Unemployed   0.6206334    0.6042609  1.0000000 -0.1774206   0.6865515 \n",
              "Armed.Forces 0.4647442    0.4464368 -0.1774206  1.0000000   0.3644163 \n",
              "Population   0.9791634    0.9910901  0.6865515  0.3644163   1.0000000 \n",
              "Year         0.9911492    0.9952735  0.6682566  0.4172451   0.9939528 \n",
              "Employed     0.9708985    0.9835516  0.5024981  0.4573074   0.9603906 \n",
              "             Year      Employed \n",
              "GNP.deflator 0.9911492 0.9708985\n",
              "GNP          0.9952735 0.9835516\n",
              "Unemployed   0.6682566 0.5024981\n",
              "Armed.Forces 0.4172451 0.4573074\n",
              "Population   0.9939528 0.9603906\n",
              "Year         1.0000000 0.9713295\n",
              "Employed     0.9713295 1.0000000"
            ]
          },
          "metadata": {}
        }
      ],
      "source": [
        "cor(longley);"
      ]
    },
    {
      "cell_type": "markdown",
      "source": [
        "\n",
        "\n",
        "Dari hasil di atas kita dapat mengetahui korelasi baik itu antar variabel bebas maupun masing-masing korelasi variabel bebas dengan variabel Y. Contohnya pada korelasi antara GNP dengan GNP.deflator yang besar yaitu 0.9915892.\n",
        "\n"
      ],
      "metadata": {
        "id": "OTYNtv3_tWdM"
      },
      "id": "OTYNtv3_tWdM"
    },
    {
      "cell_type": "code",
      "execution_count": null,
      "id": "2885e144",
      "metadata": {
        "id": "2885e144"
      },
      "outputs": [],
      "source": [
        "g <- lm(Employed~., longley)"
      ]
    },
    {
      "cell_type": "markdown",
      "source": [
        "Membuat linear regression dengan menjadikan Variabel Employed sebagai Y dan Semua variabel lainnya menjadi Variabel X (Dalam Function di atas ditulis menggunakan \".\" untuk mengambil seluruh variabel selain Employed)."
      ],
      "metadata": {
        "id": "NaOtEDrz251u"
      },
      "id": "NaOtEDrz251u"
    },
    {
      "cell_type": "code",
      "execution_count": null,
      "id": "9bb5f04a",
      "metadata": {
        "id": "9bb5f04a",
        "outputId": "831af46d-51b0-4fc4-f5d9-a0eaf57c86b5",
        "colab": {
          "base_uri": "https://localhost:8080/",
          "height": 416
        }
      },
      "outputs": [
        {
          "output_type": "display_data",
          "data": {
            "text/plain": [
              "\n",
              "Call:\n",
              "lm(formula = Employed ~ ., data = longley)\n",
              "\n",
              "Residuals:\n",
              "     Min       1Q   Median       3Q      Max \n",
              "-0.41011 -0.15767 -0.02816  0.10155  0.45539 \n",
              "\n",
              "Coefficients:\n",
              "               Estimate Std. Error t value Pr(>|t|)    \n",
              "(Intercept)  -3.482e+03  8.904e+02  -3.911 0.003560 ** \n",
              "GNP.deflator  1.506e-02  8.492e-02   0.177 0.863141    \n",
              "GNP          -3.582e-02  3.349e-02  -1.070 0.312681    \n",
              "Unemployed   -2.020e-02  4.884e-03  -4.136 0.002535 ** \n",
              "Armed.Forces -1.033e-02  2.143e-03  -4.822 0.000944 ***\n",
              "Population   -5.110e-02  2.261e-01  -0.226 0.826212    \n",
              "Year          1.829e+00  4.555e-01   4.016 0.003037 ** \n",
              "---\n",
              "Signif. codes:  0 ‘***’ 0.001 ‘**’ 0.01 ‘*’ 0.05 ‘.’ 0.1 ‘ ’ 1\n",
              "\n",
              "Residual standard error: 0.3049 on 9 degrees of freedom\n",
              "Multiple R-squared:  0.9955,\tAdjusted R-squared:  0.9925 \n",
              "F-statistic: 330.3 on 6 and 9 DF,  p-value: 4.984e-10\n"
            ]
          },
          "metadata": {}
        }
      ],
      "source": [
        "summary(g)"
      ]
    },
    {
      "cell_type": "markdown",
      "source": [
        "Dari hasil *summary* di atas dapat diketahui:\n",
        "\n",
        "\n",
        "\n",
        "1.   Koefisien Determinasi 0.9955 menunjukan sangat tinggi artinya setidaknya terdapat 1 yang signifikan. 99,55% keragaman dari variabel X dapat dijelaskan oleh variabel Y.\n",
        "2.   Berdasarkan Uji T/Uji Parsial dari hasil summary di atas, dengan hipotesis:\n",
        "*   $H_0$ : Tidak ada pengaruh variabel $X_n$ terhadap Y\n",
        "*   $H_1$ : Terdapat pengaruh variabel $X_n$ terhadap Y\n",
        "\n",
        "dan Kriteria Uji : <br>\n",
        "$\\hat{\\alpha} < \\alpha$ dan $t_{hitung} > t_{tabel}$, maka tolak $H_0$.\n",
        "\n",
        "Keputusan dan Kesimpulan:\n",
        "<br>\n",
        "notes: <br> $\\alpha = 0.05$\n",
        "*   Variabel yang memiliki signifikansi terbesar yaitu variabel Armed.Forces dengan nilai p-value paling kecil dibandingkan p-value variabel lain yaitu 0.000944. Hal ini juga dapat dilihat dari korelasi antar variabel dengan Armed.forces yang cenderung kecil (dapat dilihat di cor(longley)).\n",
        "*   Sementara variabel yang tidak signifikan yaitu variabel GNP,  GNP.deflator, dan Population dengan ketiga nilai p-value yang lebih besar dari 0.05.\n",
        "\n",
        "Dengan taraf signifikansi 5%, terdapat pengaruh variabel Unemployed, Armed.forces, dan Year terhadap Employed sementara tidak ada pengaruh dari variabel GNP.deflator, GNP, dan Population.\n",
        "\n",
        "3.  Berdasarkan Uji F/Uji Simultan di summary tersebut dapat diketahui: <br>\n",
        "\n",
        "*   $H_0$ : Tidak ada pengaruh variabel X secara simultan(bersama-sama) terhadap variabel Y.\n",
        "*   $H_1$ : Terdapat pengaruh variabel X secara simultan(bersama-sama) terhadap variabel Y.\n",
        "\n",
        "Dengan Kritera Uji: <br>\n",
        "$\\hat{\\alpha} < \\alpha$ dan $F_{hitung} > F_{tabel}$, maka tolak $H_0$ <br>\n",
        "\n",
        "Keputusan dan Kesimpulan:\n",
        "\n",
        "*   Dengan nilai n = 16 dan k = 6 (Dari dim(longley)) maka $F_{tabel} = F_{\\alpha, k,n-k} = F_{0.05,6,16-6} = F_{0.05,6,10} = 3.217175 $ (Dengan excel dapat menggunakan formula FINV(0.05,6,10). Maka dengan F hitung = 330.3 tolak $H_0$.\n",
        "*   Dengan p-value = 4.984e-10, maka tolak $H_0$\n",
        "\n",
        "Dengan taraf signifikansi 5%, Terdapat pengaruh variabel X secara simultan terhadap variabel Y.\n",
        "\n",
        "\n",
        "\n",
        "\n",
        "\n",
        "\n",
        "\n",
        "\n",
        "\n",
        "\n",
        "\n",
        "\n",
        "\n"
      ],
      "metadata": {
        "id": "-MqrC9oo3QgJ"
      },
      "id": "-MqrC9oo3QgJ"
    },
    {
      "cell_type": "markdown",
      "source": [
        ""
      ],
      "metadata": {
        "id": "K_oMYRPV-RPS"
      },
      "id": "K_oMYRPV-RPS"
    },
    {
      "cell_type": "markdown",
      "source": [
        "## Pendeteksian Multikolinearitas"
      ],
      "metadata": {
        "id": "DAsrX-Wp-VKh"
      },
      "id": "DAsrX-Wp-VKh"
    },
    {
      "cell_type": "markdown",
      "source": [
        "###Determinan\n",
        "\n",
        "yaitu dengan melihat nilai determinan dari matriks korelasi variabel x. Apabila nilainya mendekati 0, maka terdapat multikolinearitas. Sebaliknya jika nilai determinan mendekati 1, maka tidak terdapat multikolinearitas."
      ],
      "metadata": {
        "id": "LGymqPtw-kNe"
      },
      "id": "LGymqPtw-kNe"
    },
    {
      "cell_type": "code",
      "source": [
        "#Membuat Matriks X\n",
        "x <- as.matrix(longley[,-7]) #[,-7] untuk mengambil variabel selain Employed\n",
        "x"
      ],
      "metadata": {
        "id": "QYFyGbYw_AMY",
        "outputId": "f6081be4-599c-4891-ebf9-0e45c5d4b512",
        "colab": {
          "base_uri": "https://localhost:8080/",
          "height": 568
        }
      },
      "id": "QYFyGbYw_AMY",
      "execution_count": null,
      "outputs": [
        {
          "output_type": "display_data",
          "data": {
            "text/html": [
              "<table class=\"dataframe\">\n",
              "<caption>A matrix: 16 × 6 of type dbl</caption>\n",
              "<thead>\n",
              "\t<tr><th></th><th scope=col>GNP.deflator</th><th scope=col>GNP</th><th scope=col>Unemployed</th><th scope=col>Armed.Forces</th><th scope=col>Population</th><th scope=col>Year</th></tr>\n",
              "</thead>\n",
              "<tbody>\n",
              "\t<tr><th scope=row>1947</th><td> 83.0</td><td>234.289</td><td>235.6</td><td>159.0</td><td>107.608</td><td>1947</td></tr>\n",
              "\t<tr><th scope=row>1948</th><td> 88.5</td><td>259.426</td><td>232.5</td><td>145.6</td><td>108.632</td><td>1948</td></tr>\n",
              "\t<tr><th scope=row>1949</th><td> 88.2</td><td>258.054</td><td>368.2</td><td>161.6</td><td>109.773</td><td>1949</td></tr>\n",
              "\t<tr><th scope=row>1950</th><td> 89.5</td><td>284.599</td><td>335.1</td><td>165.0</td><td>110.929</td><td>1950</td></tr>\n",
              "\t<tr><th scope=row>1951</th><td> 96.2</td><td>328.975</td><td>209.9</td><td>309.9</td><td>112.075</td><td>1951</td></tr>\n",
              "\t<tr><th scope=row>1952</th><td> 98.1</td><td>346.999</td><td>193.2</td><td>359.4</td><td>113.270</td><td>1952</td></tr>\n",
              "\t<tr><th scope=row>1953</th><td> 99.0</td><td>365.385</td><td>187.0</td><td>354.7</td><td>115.094</td><td>1953</td></tr>\n",
              "\t<tr><th scope=row>1954</th><td>100.0</td><td>363.112</td><td>357.8</td><td>335.0</td><td>116.219</td><td>1954</td></tr>\n",
              "\t<tr><th scope=row>1955</th><td>101.2</td><td>397.469</td><td>290.4</td><td>304.8</td><td>117.388</td><td>1955</td></tr>\n",
              "\t<tr><th scope=row>1956</th><td>104.6</td><td>419.180</td><td>282.2</td><td>285.7</td><td>118.734</td><td>1956</td></tr>\n",
              "\t<tr><th scope=row>1957</th><td>108.4</td><td>442.769</td><td>293.6</td><td>279.8</td><td>120.445</td><td>1957</td></tr>\n",
              "\t<tr><th scope=row>1958</th><td>110.8</td><td>444.546</td><td>468.1</td><td>263.7</td><td>121.950</td><td>1958</td></tr>\n",
              "\t<tr><th scope=row>1959</th><td>112.6</td><td>482.704</td><td>381.3</td><td>255.2</td><td>123.366</td><td>1959</td></tr>\n",
              "\t<tr><th scope=row>1960</th><td>114.2</td><td>502.601</td><td>393.1</td><td>251.4</td><td>125.368</td><td>1960</td></tr>\n",
              "\t<tr><th scope=row>1961</th><td>115.7</td><td>518.173</td><td>480.6</td><td>257.2</td><td>127.852</td><td>1961</td></tr>\n",
              "\t<tr><th scope=row>1962</th><td>116.9</td><td>554.894</td><td>400.7</td><td>282.7</td><td>130.081</td><td>1962</td></tr>\n",
              "</tbody>\n",
              "</table>\n"
            ],
            "text/markdown": "\nA matrix: 16 × 6 of type dbl\n\n| <!--/--> | GNP.deflator | GNP | Unemployed | Armed.Forces | Population | Year |\n|---|---|---|---|---|---|---|\n| 1947 |  83.0 | 234.289 | 235.6 | 159.0 | 107.608 | 1947 |\n| 1948 |  88.5 | 259.426 | 232.5 | 145.6 | 108.632 | 1948 |\n| 1949 |  88.2 | 258.054 | 368.2 | 161.6 | 109.773 | 1949 |\n| 1950 |  89.5 | 284.599 | 335.1 | 165.0 | 110.929 | 1950 |\n| 1951 |  96.2 | 328.975 | 209.9 | 309.9 | 112.075 | 1951 |\n| 1952 |  98.1 | 346.999 | 193.2 | 359.4 | 113.270 | 1952 |\n| 1953 |  99.0 | 365.385 | 187.0 | 354.7 | 115.094 | 1953 |\n| 1954 | 100.0 | 363.112 | 357.8 | 335.0 | 116.219 | 1954 |\n| 1955 | 101.2 | 397.469 | 290.4 | 304.8 | 117.388 | 1955 |\n| 1956 | 104.6 | 419.180 | 282.2 | 285.7 | 118.734 | 1956 |\n| 1957 | 108.4 | 442.769 | 293.6 | 279.8 | 120.445 | 1957 |\n| 1958 | 110.8 | 444.546 | 468.1 | 263.7 | 121.950 | 1958 |\n| 1959 | 112.6 | 482.704 | 381.3 | 255.2 | 123.366 | 1959 |\n| 1960 | 114.2 | 502.601 | 393.1 | 251.4 | 125.368 | 1960 |\n| 1961 | 115.7 | 518.173 | 480.6 | 257.2 | 127.852 | 1961 |\n| 1962 | 116.9 | 554.894 | 400.7 | 282.7 | 130.081 | 1962 |\n\n",
            "text/latex": "A matrix: 16 × 6 of type dbl\n\\begin{tabular}{r|llllll}\n  & GNP.deflator & GNP & Unemployed & Armed.Forces & Population & Year\\\\\n\\hline\n\t1947 &  83.0 & 234.289 & 235.6 & 159.0 & 107.608 & 1947\\\\\n\t1948 &  88.5 & 259.426 & 232.5 & 145.6 & 108.632 & 1948\\\\\n\t1949 &  88.2 & 258.054 & 368.2 & 161.6 & 109.773 & 1949\\\\\n\t1950 &  89.5 & 284.599 & 335.1 & 165.0 & 110.929 & 1950\\\\\n\t1951 &  96.2 & 328.975 & 209.9 & 309.9 & 112.075 & 1951\\\\\n\t1952 &  98.1 & 346.999 & 193.2 & 359.4 & 113.270 & 1952\\\\\n\t1953 &  99.0 & 365.385 & 187.0 & 354.7 & 115.094 & 1953\\\\\n\t1954 & 100.0 & 363.112 & 357.8 & 335.0 & 116.219 & 1954\\\\\n\t1955 & 101.2 & 397.469 & 290.4 & 304.8 & 117.388 & 1955\\\\\n\t1956 & 104.6 & 419.180 & 282.2 & 285.7 & 118.734 & 1956\\\\\n\t1957 & 108.4 & 442.769 & 293.6 & 279.8 & 120.445 & 1957\\\\\n\t1958 & 110.8 & 444.546 & 468.1 & 263.7 & 121.950 & 1958\\\\\n\t1959 & 112.6 & 482.704 & 381.3 & 255.2 & 123.366 & 1959\\\\\n\t1960 & 114.2 & 502.601 & 393.1 & 251.4 & 125.368 & 1960\\\\\n\t1961 & 115.7 & 518.173 & 480.6 & 257.2 & 127.852 & 1961\\\\\n\t1962 & 116.9 & 554.894 & 400.7 & 282.7 & 130.081 & 1962\\\\\n\\end{tabular}\n",
            "text/plain": [
              "     GNP.deflator GNP     Unemployed Armed.Forces Population Year\n",
              "1947  83.0        234.289 235.6      159.0        107.608    1947\n",
              "1948  88.5        259.426 232.5      145.6        108.632    1948\n",
              "1949  88.2        258.054 368.2      161.6        109.773    1949\n",
              "1950  89.5        284.599 335.1      165.0        110.929    1950\n",
              "1951  96.2        328.975 209.9      309.9        112.075    1951\n",
              "1952  98.1        346.999 193.2      359.4        113.270    1952\n",
              "1953  99.0        365.385 187.0      354.7        115.094    1953\n",
              "1954 100.0        363.112 357.8      335.0        116.219    1954\n",
              "1955 101.2        397.469 290.4      304.8        117.388    1955\n",
              "1956 104.6        419.180 282.2      285.7        118.734    1956\n",
              "1957 108.4        442.769 293.6      279.8        120.445    1957\n",
              "1958 110.8        444.546 468.1      263.7        121.950    1958\n",
              "1959 112.6        482.704 381.3      255.2        123.366    1959\n",
              "1960 114.2        502.601 393.1      251.4        125.368    1960\n",
              "1961 115.7        518.173 480.6      257.2        127.852    1961\n",
              "1962 116.9        554.894 400.7      282.7        130.081    1962"
            ]
          },
          "metadata": {}
        }
      ]
    },
    {
      "cell_type": "code",
      "source": [
        "det(cor(x));"
      ],
      "metadata": {
        "id": "y5bZWMKp_OTC",
        "outputId": "68cae7f2-5370-4d4c-e303-c9e2f5a77485",
        "colab": {
          "base_uri": "https://localhost:8080/",
          "height": 34
        }
      },
      "id": "y5bZWMKp_OTC",
      "execution_count": null,
      "outputs": [
        {
          "output_type": "display_data",
          "data": {
            "text/html": [
              "1.57961548624822e-08"
            ],
            "text/markdown": "1.57961548624822e-08",
            "text/latex": "1.57961548624822e-08",
            "text/plain": [
              "[1] 1.579615e-08"
            ]
          },
          "metadata": {}
        }
      ]
    },
    {
      "cell_type": "markdown",
      "source": [
        "Dari hasil di atas dapat diketahui bahwa nilai determinan dari matriks korelasi X yaitu 1.57961548624822e-08 dimana nilai tersebut cenderung mendekati 0 sehingga dapat dikatakan bahwa terdapat multikolinearitas."
      ],
      "metadata": {
        "id": "eR00J0QN_SG5"
      },
      "id": "eR00J0QN_SG5"
    },
    {
      "cell_type": "markdown",
      "source": [
        "### Indeks Kondisi\n",
        "$ID = \\sqrt{K}$ dengan $K = \\frac{\\lambda_{max}}{\\lambda_{min}}, \\lambda$: Nilai Eigen $X^{*t}X^*$ <br>\n",
        "Dengan Kriteria: <br>\n",
        "$100 \\leq K \\leq 1000$, multikolinearitas sedang menuju kuat. <br>\n",
        "$K > 1000$, multikolinearitas sangat kuat. <br> <br>\n",
        "$ID < 10$, multikolinearitas lemah. <br>\n",
        "$10 \\leq ID \\leq 30$, multikolinearitas sedang menuju kuat. <br>\n",
        "$ID > 30$, multikolinearitas sangat kuat.\n"
      ],
      "metadata": {
        "id": "owxevFOP_tjn"
      },
      "id": "owxevFOP_tjn"
    },
    {
      "cell_type": "markdown",
      "source": [
        ""
      ],
      "metadata": {
        "id": "2ijD8QzVB6J6"
      },
      "id": "2ijD8QzVB6J6"
    },
    {
      "cell_type": "code",
      "source": [
        "eigen_vector <- eigen(cor(x))\n",
        "K <- max(eigen_vector$values)/min(eigen_vector$values)\n",
        "K"
      ],
      "metadata": {
        "id": "pTDZ1oVoBKFs",
        "outputId": "f5a86ae1-0796-4505-bf72-f898a82e9713",
        "colab": {
          "base_uri": "https://localhost:8080/",
          "height": 34
        }
      },
      "id": "pTDZ1oVoBKFs",
      "execution_count": null,
      "outputs": [
        {
          "output_type": "display_data",
          "data": {
            "text/html": [
              "12220.0098602747"
            ],
            "text/markdown": "12220.0098602747",
            "text/latex": "12220.0098602747",
            "text/plain": [
              "[1] 12220.01"
            ]
          },
          "metadata": {}
        }
      ]
    },
    {
      "cell_type": "markdown",
      "source": [
        "Nilai 12220.0098602747 menandakan bahwa $K > 1000$ yang artinya multikolinearitas sangat kuat."
      ],
      "metadata": {
        "id": "LyCMcjO_Bm0i"
      },
      "id": "LyCMcjO_Bm0i"
    },
    {
      "cell_type": "code",
      "source": [
        "sqrt(K);"
      ],
      "metadata": {
        "id": "-Z-yacQ3BsW-",
        "outputId": "feb3389b-eeec-45ab-84f0-c8565a43ed1f",
        "colab": {
          "base_uri": "https://localhost:8080/",
          "height": 34
        }
      },
      "id": "-Z-yacQ3BsW-",
      "execution_count": null,
      "outputs": [
        {
          "output_type": "display_data",
          "data": {
            "text/html": [
              "110.5441534423"
            ],
            "text/markdown": "110.5441534423",
            "text/latex": "110.5441534423",
            "text/plain": [
              "[1] 110.5442"
            ]
          },
          "metadata": {}
        }
      ]
    },
    {
      "cell_type": "markdown",
      "source": [
        "110.5441534423 juga menandakan bahwa $ID > 30$ yang artinya multikolinearitas sangat kuat"
      ],
      "metadata": {
        "id": "7BdZMVGABvgv"
      },
      "id": "7BdZMVGABvgv"
    },
    {
      "cell_type": "markdown",
      "source": [
        "### Variance Inflation Factor (VIF)\n",
        "\n",
        "$VIF = \\frac{1}{1-R^2_{xx}}$, dengan kriteria jika VIF > 10, maka terdapat indikasi multikolinearitas. Secara singkat VIF ini mengambil nilai diagonal dari matriks invers korelasi. Nantinya secara berurut (sesuai matriks korelasi) dapat diambil nilai VIF dari masing-masing variabel."
      ],
      "metadata": {
        "id": "OY-R3jTZB9gH"
      },
      "id": "OY-R3jTZB9gH"
    },
    {
      "cell_type": "code",
      "source": [
        "xinv = solve(cor(x))\n",
        "diag(xinv)"
      ],
      "metadata": {
        "id": "y9KFwCjICVEt",
        "outputId": "8ed29e3e-a396-45bc-e928-c4a968782505",
        "colab": {
          "base_uri": "https://localhost:8080/",
          "height": 52
        }
      },
      "id": "y9KFwCjICVEt",
      "execution_count": null,
      "outputs": [
        {
          "output_type": "display_data",
          "data": {
            "text/html": [
              "<style>\n",
              ".dl-inline {width: auto; margin:0; padding: 0}\n",
              ".dl-inline>dt, .dl-inline>dd {float: none; width: auto; display: inline-block}\n",
              ".dl-inline>dt::after {content: \":\\0020\"; padding-right: .5ex}\n",
              ".dl-inline>dt:not(:first-of-type) {padding-left: .5ex}\n",
              "</style><dl class=dl-inline><dt>GNP.deflator</dt><dd>135.53243827998</dd><dt>GNP</dt><dd>1788.51348271752</dd><dt>Unemployed</dt><dd>33.6188905960391</dd><dt>Armed.Forces</dt><dd>3.58893019344537</dd><dt>Population</dt><dd>399.151022312507</dd><dt>Year</dt><dd>758.980597406785</dd></dl>\n"
            ],
            "text/markdown": "GNP.deflator\n:   135.53243827998GNP\n:   1788.51348271752Unemployed\n:   33.6188905960391Armed.Forces\n:   3.58893019344537Population\n:   399.151022312507Year\n:   758.980597406785\n\n",
            "text/latex": "\\begin{description*}\n\\item[GNP.deflator] 135.53243827998\n\\item[GNP] 1788.51348271752\n\\item[Unemployed] 33.6188905960391\n\\item[Armed.Forces] 3.58893019344537\n\\item[Population] 399.151022312507\n\\item[Year] 758.980597406785\n\\end{description*}\n",
            "text/plain": [
              "GNP.deflator          GNP   Unemployed Armed.Forces   Population         Year \n",
              "   135.53244   1788.51348     33.61889      3.58893    399.15102    758.98060 "
            ]
          },
          "metadata": {}
        }
      ]
    },
    {
      "cell_type": "markdown",
      "source": [
        "Nilai VIF nya cenderung lebih besar dari 10. Hanya 1 yang tidak yaitu Armed.Forces dengan VIF 3.58893 yang sebelumnya sudah terbukti dengan melihat signifikansi."
      ],
      "metadata": {
        "id": "Circkb-tC3VE"
      },
      "id": "Circkb-tC3VE"
    },
    {
      "cell_type": "markdown",
      "source": [
        "## Pendeteksian Multikolinearitas"
      ],
      "metadata": {
        "id": "UJW-G_Q2xRle"
      },
      "id": "UJW-G_Q2xRle"
    },
    {
      "cell_type": "markdown",
      "source": [
        "###Principal Component Regression"
      ],
      "metadata": {
        "id": "x3vgskhixaHR"
      },
      "id": "x3vgskhixaHR"
    },
    {
      "cell_type": "markdown",
      "source": [
        ""
      ],
      "metadata": {
        "id": "I1wqd8riyK9e"
      },
      "id": "I1wqd8riyK9e"
    },
    {
      "cell_type": "markdown",
      "source": [
        "Metode Principal Component Regression yaitu metode dengan membuat masing-masing variabel X yang awalnya berkorelasi (tumpang tindih) di transformasikan ke dalam bentuk PC yang masing-masing PC nya nanti memuat seluruh informasi dari setiap variabel X. Tujuan dari PCR ini yaitu untuk mencapai **Orthogonalitas yaitu bagaimana membuat set faktor atau komponen dari variabel X1, X2, ... , Xn saling orthogonal** yaitu nilai dari $cor(K_1,K_2) = 0 $ (K adalah ... )."
      ],
      "metadata": {
        "id": "bljZjhPDx4dC"
      },
      "id": "bljZjhPDx4dC"
    },
    {
      "cell_type": "code",
      "source": [
        ""
      ],
      "metadata": {
        "id": "NYAzUYi1x2C0"
      },
      "id": "NYAzUYi1x2C0",
      "execution_count": null,
      "outputs": []
    }
  ],
  "metadata": {
    "kernelspec": {
      "display_name": "R",
      "language": "R",
      "name": "ir"
    },
    "language_info": {
      "codemirror_mode": "r",
      "file_extension": ".r",
      "mimetype": "text/x-r-source",
      "name": "R",
      "pygments_lexer": "r",
      "version": "3.6.1"
    },
    "colab": {
      "name": "testing github.ipynb",
      "provenance": []
    }
  },
  "nbformat": 4,
  "nbformat_minor": 5
}