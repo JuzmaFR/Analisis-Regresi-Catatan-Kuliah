{
  "cells": [
    {
      "cell_type": "markdown",
      "id": "cb1d8c3a",
      "metadata": {
        "id": "cb1d8c3a"
      },
      "source": [
        "# Multicollinearity Detection"
      ]
    },
    {
      "cell_type": "code",
      "execution_count": null,
      "id": "eb5ed420",
      "metadata": {
        "id": "eb5ed420",
        "outputId": "00234a41-b42e-4fab-f71d-c2e99402eafb"
      },
      "outputs": [
        {
          "name": "stderr",
          "output_type": "stream",
          "text": [
            "also installing the dependencies 'processx', 'glue', 'rprojroot', 'diffobj', 'rematch2', 'brio', 'callr', 'cli', 'desc', 'ellipsis', 'lifecycle', 'pkgload', 'praise', 'ps', 'rlang', 'waldo', 'withr', 'testthat', 'minqa', 'nloptr', 'RcppEigen', 'lme4'\n",
            "\n"
          ]
        },
        {
          "name": "stdout",
          "output_type": "stream",
          "text": [
            "\n",
            "  There are binary versions available but the source versions are later:\n",
            "             binary    source needs_compilation\n",
            "processx      3.5.2     3.5.3              TRUE\n",
            "glue          1.4.2     1.6.2              TRUE\n",
            "rprojroot     2.0.2     2.0.3             FALSE\n",
            "diffobj       0.3.4     0.3.5              TRUE\n",
            "brio          1.1.2     1.1.3              TRUE\n",
            "cli           2.5.0     3.2.0              TRUE\n",
            "desc          1.3.0     1.4.1             FALSE\n",
            "lifecycle     1.0.0     1.0.1             FALSE\n",
            "pkgload       1.2.1     1.2.4             FALSE\n",
            "ps            1.6.0     1.7.0              TRUE\n",
            "rlang        0.4.11     1.0.2              TRUE\n",
            "waldo         0.2.5     0.4.0             FALSE\n",
            "withr         2.4.2     2.5.0             FALSE\n",
            "testthat      3.0.2     3.1.3              TRUE\n",
            "nloptr      1.2.2.2     2.0.0              TRUE\n",
            "RcppEigen 0.3.3.9.1 0.3.3.9.2              TRUE\n",
            "lme4         1.1-26    1.1-29              TRUE\n",
            "\n",
            "  Binaries will be installed\n",
            "package 'processx' successfully unpacked and MD5 sums checked\n",
            "package 'glue' successfully unpacked and MD5 sums checked\n",
            "package 'diffobj' successfully unpacked and MD5 sums checked\n",
            "package 'rematch2' successfully unpacked and MD5 sums checked\n",
            "package 'brio' successfully unpacked and MD5 sums checked\n",
            "package 'callr' successfully unpacked and MD5 sums checked\n",
            "package 'cli' successfully unpacked and MD5 sums checked\n",
            "package 'ellipsis' successfully unpacked and MD5 sums checked\n",
            "package 'praise' successfully unpacked and MD5 sums checked\n",
            "package 'ps' successfully unpacked and MD5 sums checked\n",
            "package 'rlang' successfully unpacked and MD5 sums checked\n",
            "package 'testthat' successfully unpacked and MD5 sums checked\n",
            "package 'minqa' successfully unpacked and MD5 sums checked\n",
            "package 'nloptr' successfully unpacked and MD5 sums checked\n",
            "package 'RcppEigen' successfully unpacked and MD5 sums checked\n",
            "package 'lme4' successfully unpacked and MD5 sums checked\n",
            "package 'faraway' successfully unpacked and MD5 sums checked\n",
            "\n",
            "The downloaded binary packages are in\n",
            "\tC:\\Users\\juzma\\AppData\\Local\\Temp\\RtmpSWgqEK\\downloaded_packages\n"
          ]
        },
        {
          "name": "stderr",
          "output_type": "stream",
          "text": [
            "installing the source packages 'rprojroot', 'desc', 'lifecycle', 'pkgload', 'waldo', 'withr'\n",
            "\n"
          ]
        }
      ],
      "source": [
        "install.packages(\"faraway\");\n",
        "library(faraway);"
      ]
    },
    {
      "cell_type": "code",
      "source": [
        "head(longley);"
      ],
      "metadata": {
        "id": "s9EKChJDtDXu",
        "outputId": "e0ae1807-7276-4bd9-86b4-1f5bf7d1b184",
        "colab": {
          "base_uri": "https://localhost:8080/",
          "height": 286
        }
      },
      "id": "s9EKChJDtDXu",
      "execution_count": 1,
      "outputs": [
        {
          "output_type": "display_data",
          "data": {
            "text/html": [
              "<table class=\"dataframe\">\n",
              "<caption>A data.frame: 6 × 7</caption>\n",
              "<thead>\n",
              "\t<tr><th></th><th scope=col>GNP.deflator</th><th scope=col>GNP</th><th scope=col>Unemployed</th><th scope=col>Armed.Forces</th><th scope=col>Population</th><th scope=col>Year</th><th scope=col>Employed</th></tr>\n",
              "\t<tr><th></th><th scope=col>&lt;dbl&gt;</th><th scope=col>&lt;dbl&gt;</th><th scope=col>&lt;dbl&gt;</th><th scope=col>&lt;dbl&gt;</th><th scope=col>&lt;dbl&gt;</th><th scope=col>&lt;int&gt;</th><th scope=col>&lt;dbl&gt;</th></tr>\n",
              "</thead>\n",
              "<tbody>\n",
              "\t<tr><th scope=row>1947</th><td>83.0</td><td>234.289</td><td>235.6</td><td>159.0</td><td>107.608</td><td>1947</td><td>60.323</td></tr>\n",
              "\t<tr><th scope=row>1948</th><td>88.5</td><td>259.426</td><td>232.5</td><td>145.6</td><td>108.632</td><td>1948</td><td>61.122</td></tr>\n",
              "\t<tr><th scope=row>1949</th><td>88.2</td><td>258.054</td><td>368.2</td><td>161.6</td><td>109.773</td><td>1949</td><td>60.171</td></tr>\n",
              "\t<tr><th scope=row>1950</th><td>89.5</td><td>284.599</td><td>335.1</td><td>165.0</td><td>110.929</td><td>1950</td><td>61.187</td></tr>\n",
              "\t<tr><th scope=row>1951</th><td>96.2</td><td>328.975</td><td>209.9</td><td>309.9</td><td>112.075</td><td>1951</td><td>63.221</td></tr>\n",
              "\t<tr><th scope=row>1952</th><td>98.1</td><td>346.999</td><td>193.2</td><td>359.4</td><td>113.270</td><td>1952</td><td>63.639</td></tr>\n",
              "</tbody>\n",
              "</table>\n"
            ],
            "text/markdown": "\nA data.frame: 6 × 7\n\n| <!--/--> | GNP.deflator &lt;dbl&gt; | GNP &lt;dbl&gt; | Unemployed &lt;dbl&gt; | Armed.Forces &lt;dbl&gt; | Population &lt;dbl&gt; | Year &lt;int&gt; | Employed &lt;dbl&gt; |\n|---|---|---|---|---|---|---|---|\n| 1947 | 83.0 | 234.289 | 235.6 | 159.0 | 107.608 | 1947 | 60.323 |\n| 1948 | 88.5 | 259.426 | 232.5 | 145.6 | 108.632 | 1948 | 61.122 |\n| 1949 | 88.2 | 258.054 | 368.2 | 161.6 | 109.773 | 1949 | 60.171 |\n| 1950 | 89.5 | 284.599 | 335.1 | 165.0 | 110.929 | 1950 | 61.187 |\n| 1951 | 96.2 | 328.975 | 209.9 | 309.9 | 112.075 | 1951 | 63.221 |\n| 1952 | 98.1 | 346.999 | 193.2 | 359.4 | 113.270 | 1952 | 63.639 |\n\n",
            "text/latex": "A data.frame: 6 × 7\n\\begin{tabular}{r|lllllll}\n  & GNP.deflator & GNP & Unemployed & Armed.Forces & Population & Year & Employed\\\\\n  & <dbl> & <dbl> & <dbl> & <dbl> & <dbl> & <int> & <dbl>\\\\\n\\hline\n\t1947 & 83.0 & 234.289 & 235.6 & 159.0 & 107.608 & 1947 & 60.323\\\\\n\t1948 & 88.5 & 259.426 & 232.5 & 145.6 & 108.632 & 1948 & 61.122\\\\\n\t1949 & 88.2 & 258.054 & 368.2 & 161.6 & 109.773 & 1949 & 60.171\\\\\n\t1950 & 89.5 & 284.599 & 335.1 & 165.0 & 110.929 & 1950 & 61.187\\\\\n\t1951 & 96.2 & 328.975 & 209.9 & 309.9 & 112.075 & 1951 & 63.221\\\\\n\t1952 & 98.1 & 346.999 & 193.2 & 359.4 & 113.270 & 1952 & 63.639\\\\\n\\end{tabular}\n",
            "text/plain": [
              "     GNP.deflator GNP     Unemployed Armed.Forces Population Year Employed\n",
              "1947 83.0         234.289 235.6      159.0        107.608    1947 60.323  \n",
              "1948 88.5         259.426 232.5      145.6        108.632    1948 61.122  \n",
              "1949 88.2         258.054 368.2      161.6        109.773    1949 60.171  \n",
              "1950 89.5         284.599 335.1      165.0        110.929    1950 61.187  \n",
              "1951 96.2         328.975 209.9      309.9        112.075    1951 63.221  \n",
              "1952 98.1         346.999 193.2      359.4        113.270    1952 63.639  "
            ]
          },
          "metadata": {}
        }
      ]
    },
    {
      "cell_type": "markdown",
      "id": "f7e24813",
      "metadata": {
        "id": "f7e24813"
      },
      "source": [
        "Employed as Y variable and the others variable as X"
      ]
    },
    {
      "cell_type": "code",
      "execution_count": 2,
      "id": "f5668997",
      "metadata": {
        "id": "f5668997",
        "outputId": "6187dcfc-1949-4229-f4ee-22e05a1e98f9",
        "colab": {
          "base_uri": "https://localhost:8080/",
          "height": 286
        }
      },
      "outputs": [
        {
          "output_type": "display_data",
          "data": {
            "text/html": [
              "<table class=\"dataframe\">\n",
              "<caption>A matrix: 7 × 7 of type dbl</caption>\n",
              "<thead>\n",
              "\t<tr><th></th><th scope=col>GNP.deflator</th><th scope=col>GNP</th><th scope=col>Unemployed</th><th scope=col>Armed.Forces</th><th scope=col>Population</th><th scope=col>Year</th><th scope=col>Employed</th></tr>\n",
              "</thead>\n",
              "<tbody>\n",
              "\t<tr><th scope=row>GNP.deflator</th><td>1.0000000</td><td>0.9915892</td><td> 0.6206334</td><td> 0.4647442</td><td>0.9791634</td><td>0.9911492</td><td>0.9708985</td></tr>\n",
              "\t<tr><th scope=row>GNP</th><td>0.9915892</td><td>1.0000000</td><td> 0.6042609</td><td> 0.4464368</td><td>0.9910901</td><td>0.9952735</td><td>0.9835516</td></tr>\n",
              "\t<tr><th scope=row>Unemployed</th><td>0.6206334</td><td>0.6042609</td><td> 1.0000000</td><td>-0.1774206</td><td>0.6865515</td><td>0.6682566</td><td>0.5024981</td></tr>\n",
              "\t<tr><th scope=row>Armed.Forces</th><td>0.4647442</td><td>0.4464368</td><td>-0.1774206</td><td> 1.0000000</td><td>0.3644163</td><td>0.4172451</td><td>0.4573074</td></tr>\n",
              "\t<tr><th scope=row>Population</th><td>0.9791634</td><td>0.9910901</td><td> 0.6865515</td><td> 0.3644163</td><td>1.0000000</td><td>0.9939528</td><td>0.9603906</td></tr>\n",
              "\t<tr><th scope=row>Year</th><td>0.9911492</td><td>0.9952735</td><td> 0.6682566</td><td> 0.4172451</td><td>0.9939528</td><td>1.0000000</td><td>0.9713295</td></tr>\n",
              "\t<tr><th scope=row>Employed</th><td>0.9708985</td><td>0.9835516</td><td> 0.5024981</td><td> 0.4573074</td><td>0.9603906</td><td>0.9713295</td><td>1.0000000</td></tr>\n",
              "</tbody>\n",
              "</table>\n"
            ],
            "text/markdown": "\nA matrix: 7 × 7 of type dbl\n\n| <!--/--> | GNP.deflator | GNP | Unemployed | Armed.Forces | Population | Year | Employed |\n|---|---|---|---|---|---|---|---|\n| GNP.deflator | 1.0000000 | 0.9915892 |  0.6206334 |  0.4647442 | 0.9791634 | 0.9911492 | 0.9708985 |\n| GNP | 0.9915892 | 1.0000000 |  0.6042609 |  0.4464368 | 0.9910901 | 0.9952735 | 0.9835516 |\n| Unemployed | 0.6206334 | 0.6042609 |  1.0000000 | -0.1774206 | 0.6865515 | 0.6682566 | 0.5024981 |\n| Armed.Forces | 0.4647442 | 0.4464368 | -0.1774206 |  1.0000000 | 0.3644163 | 0.4172451 | 0.4573074 |\n| Population | 0.9791634 | 0.9910901 |  0.6865515 |  0.3644163 | 1.0000000 | 0.9939528 | 0.9603906 |\n| Year | 0.9911492 | 0.9952735 |  0.6682566 |  0.4172451 | 0.9939528 | 1.0000000 | 0.9713295 |\n| Employed | 0.9708985 | 0.9835516 |  0.5024981 |  0.4573074 | 0.9603906 | 0.9713295 | 1.0000000 |\n\n",
            "text/latex": "A matrix: 7 × 7 of type dbl\n\\begin{tabular}{r|lllllll}\n  & GNP.deflator & GNP & Unemployed & Armed.Forces & Population & Year & Employed\\\\\n\\hline\n\tGNP.deflator & 1.0000000 & 0.9915892 &  0.6206334 &  0.4647442 & 0.9791634 & 0.9911492 & 0.9708985\\\\\n\tGNP & 0.9915892 & 1.0000000 &  0.6042609 &  0.4464368 & 0.9910901 & 0.9952735 & 0.9835516\\\\\n\tUnemployed & 0.6206334 & 0.6042609 &  1.0000000 & -0.1774206 & 0.6865515 & 0.6682566 & 0.5024981\\\\\n\tArmed.Forces & 0.4647442 & 0.4464368 & -0.1774206 &  1.0000000 & 0.3644163 & 0.4172451 & 0.4573074\\\\\n\tPopulation & 0.9791634 & 0.9910901 &  0.6865515 &  0.3644163 & 1.0000000 & 0.9939528 & 0.9603906\\\\\n\tYear & 0.9911492 & 0.9952735 &  0.6682566 &  0.4172451 & 0.9939528 & 1.0000000 & 0.9713295\\\\\n\tEmployed & 0.9708985 & 0.9835516 &  0.5024981 &  0.4573074 & 0.9603906 & 0.9713295 & 1.0000000\\\\\n\\end{tabular}\n",
            "text/plain": [
              "             GNP.deflator GNP       Unemployed Armed.Forces Population\n",
              "GNP.deflator 1.0000000    0.9915892  0.6206334  0.4647442   0.9791634 \n",
              "GNP          0.9915892    1.0000000  0.6042609  0.4464368   0.9910901 \n",
              "Unemployed   0.6206334    0.6042609  1.0000000 -0.1774206   0.6865515 \n",
              "Armed.Forces 0.4647442    0.4464368 -0.1774206  1.0000000   0.3644163 \n",
              "Population   0.9791634    0.9910901  0.6865515  0.3644163   1.0000000 \n",
              "Year         0.9911492    0.9952735  0.6682566  0.4172451   0.9939528 \n",
              "Employed     0.9708985    0.9835516  0.5024981  0.4573074   0.9603906 \n",
              "             Year      Employed \n",
              "GNP.deflator 0.9911492 0.9708985\n",
              "GNP          0.9952735 0.9835516\n",
              "Unemployed   0.6682566 0.5024981\n",
              "Armed.Forces 0.4172451 0.4573074\n",
              "Population   0.9939528 0.9603906\n",
              "Year         1.0000000 0.9713295\n",
              "Employed     0.9713295 1.0000000"
            ]
          },
          "metadata": {}
        }
      ],
      "source": [
        "cor(longley);"
      ]
    },
    {
      "cell_type": "markdown",
      "source": [
        "\n",
        "\n",
        "```\n",
        "From the correlation above\n",
        "```\n",
        "\n"
      ],
      "metadata": {
        "id": "OTYNtv3_tWdM"
      },
      "id": "OTYNtv3_tWdM"
    },
    {
      "cell_type": "code",
      "execution_count": null,
      "id": "2885e144",
      "metadata": {
        "id": "2885e144",
        "outputId": "adce6eb5-c5c6-4735-aed8-adc7344678b3"
      },
      "outputs": [
        {
          "data": {
            "text/html": [
              "<table>\n",
              "<thead><tr><th scope=col>crim</th><th scope=col>zn</th><th scope=col>indus</th><th scope=col>chas</th><th scope=col>nox</th><th scope=col>rm</th><th scope=col>age</th><th scope=col>dis</th><th scope=col>rad</th><th scope=col>tax</th><th scope=col>ptratio</th><th scope=col>black</th><th scope=col>lstat</th><th scope=col>medv</th></tr></thead>\n",
              "<tbody>\n",
              "\t<tr><td>0.00632</td><td>18     </td><td>2.31   </td><td>0      </td><td>0.538  </td><td>6.575  </td><td>65.2   </td><td>4.0900 </td><td>1      </td><td>296    </td><td>15.3   </td><td>396.90 </td><td>4.98   </td><td>24.0   </td></tr>\n",
              "\t<tr><td>0.02731</td><td> 0     </td><td>7.07   </td><td>0      </td><td>0.469  </td><td>6.421  </td><td>78.9   </td><td>4.9671 </td><td>2      </td><td>242    </td><td>17.8   </td><td>396.90 </td><td>9.14   </td><td>21.6   </td></tr>\n",
              "\t<tr><td>0.02729</td><td> 0     </td><td>7.07   </td><td>0      </td><td>0.469  </td><td>7.185  </td><td>61.1   </td><td>4.9671 </td><td>2      </td><td>242    </td><td>17.8   </td><td>392.83 </td><td>4.03   </td><td>34.7   </td></tr>\n",
              "\t<tr><td>0.03237</td><td> 0     </td><td>2.18   </td><td>0      </td><td>0.458  </td><td>6.998  </td><td>45.8   </td><td>6.0622 </td><td>3      </td><td>222    </td><td>18.7   </td><td>394.63 </td><td>2.94   </td><td>33.4   </td></tr>\n",
              "\t<tr><td>0.06905</td><td> 0     </td><td>2.18   </td><td>0      </td><td>0.458  </td><td>7.147  </td><td>54.2   </td><td>6.0622 </td><td>3      </td><td>222    </td><td>18.7   </td><td>396.90 </td><td>5.33   </td><td>36.2   </td></tr>\n",
              "\t<tr><td>0.02985</td><td> 0     </td><td>2.18   </td><td>0      </td><td>0.458  </td><td>6.430  </td><td>58.7   </td><td>6.0622 </td><td>3      </td><td>222    </td><td>18.7   </td><td>394.12 </td><td>5.21   </td><td>28.7   </td></tr>\n",
              "</tbody>\n",
              "</table>\n"
            ],
            "text/latex": [
              "\\begin{tabular}{r|llllllllllllll}\n",
              " crim & zn & indus & chas & nox & rm & age & dis & rad & tax & ptratio & black & lstat & medv\\\\\n",
              "\\hline\n",
              "\t 0.00632 & 18      & 2.31    & 0       & 0.538   & 6.575   & 65.2    & 4.0900  & 1       & 296     & 15.3    & 396.90  & 4.98    & 24.0   \\\\\n",
              "\t 0.02731 &  0      & 7.07    & 0       & 0.469   & 6.421   & 78.9    & 4.9671  & 2       & 242     & 17.8    & 396.90  & 9.14    & 21.6   \\\\\n",
              "\t 0.02729 &  0      & 7.07    & 0       & 0.469   & 7.185   & 61.1    & 4.9671  & 2       & 242     & 17.8    & 392.83  & 4.03    & 34.7   \\\\\n",
              "\t 0.03237 &  0      & 2.18    & 0       & 0.458   & 6.998   & 45.8    & 6.0622  & 3       & 222     & 18.7    & 394.63  & 2.94    & 33.4   \\\\\n",
              "\t 0.06905 &  0      & 2.18    & 0       & 0.458   & 7.147   & 54.2    & 6.0622  & 3       & 222     & 18.7    & 396.90  & 5.33    & 36.2   \\\\\n",
              "\t 0.02985 &  0      & 2.18    & 0       & 0.458   & 6.430   & 58.7    & 6.0622  & 3       & 222     & 18.7    & 394.12  & 5.21    & 28.7   \\\\\n",
              "\\end{tabular}\n"
            ],
            "text/markdown": [
              "\n",
              "| crim | zn | indus | chas | nox | rm | age | dis | rad | tax | ptratio | black | lstat | medv |\n",
              "|---|---|---|---|---|---|---|---|---|---|---|---|---|---|\n",
              "| 0.00632 | 18      | 2.31    | 0       | 0.538   | 6.575   | 65.2    | 4.0900  | 1       | 296     | 15.3    | 396.90  | 4.98    | 24.0    |\n",
              "| 0.02731 |  0      | 7.07    | 0       | 0.469   | 6.421   | 78.9    | 4.9671  | 2       | 242     | 17.8    | 396.90  | 9.14    | 21.6    |\n",
              "| 0.02729 |  0      | 7.07    | 0       | 0.469   | 7.185   | 61.1    | 4.9671  | 2       | 242     | 17.8    | 392.83  | 4.03    | 34.7    |\n",
              "| 0.03237 |  0      | 2.18    | 0       | 0.458   | 6.998   | 45.8    | 6.0622  | 3       | 222     | 18.7    | 394.63  | 2.94    | 33.4    |\n",
              "| 0.06905 |  0      | 2.18    | 0       | 0.458   | 7.147   | 54.2    | 6.0622  | 3       | 222     | 18.7    | 396.90  | 5.33    | 36.2    |\n",
              "| 0.02985 |  0      | 2.18    | 0       | 0.458   | 6.430   | 58.7    | 6.0622  | 3       | 222     | 18.7    | 394.12  | 5.21    | 28.7    |\n",
              "\n"
            ],
            "text/plain": [
              "  crim    zn indus chas nox   rm    age  dis    rad tax ptratio black  lstat\n",
              "1 0.00632 18 2.31  0    0.538 6.575 65.2 4.0900 1   296 15.3    396.90 4.98 \n",
              "2 0.02731  0 7.07  0    0.469 6.421 78.9 4.9671 2   242 17.8    396.90 9.14 \n",
              "3 0.02729  0 7.07  0    0.469 7.185 61.1 4.9671 2   242 17.8    392.83 4.03 \n",
              "4 0.03237  0 2.18  0    0.458 6.998 45.8 6.0622 3   222 18.7    394.63 2.94 \n",
              "5 0.06905  0 2.18  0    0.458 7.147 54.2 6.0622 3   222 18.7    396.90 5.33 \n",
              "6 0.02985  0 2.18  0    0.458 6.430 58.7 6.0622 3   222 18.7    394.12 5.21 \n",
              "  medv\n",
              "1 24.0\n",
              "2 21.6\n",
              "3 34.7\n",
              "4 33.4\n",
              "5 36.2\n",
              "6 28.7"
            ]
          },
          "metadata": {},
          "output_type": "display_data"
        }
      ],
      "source": [
        "library(MASS);\n",
        "data(Boston);\n",
        "head(Boston);"
      ]
    },
    {
      "cell_type": "code",
      "execution_count": 3,
      "id": "9bb5f04a",
      "metadata": {
        "id": "9bb5f04a",
        "outputId": "29c04fb1-0ecb-4a4e-d5cb-50f50e3174f8",
        "colab": {
          "base_uri": "https://localhost:8080/",
          "height": 217
        }
      },
      "outputs": [
        {
          "output_type": "error",
          "ename": "ERROR",
          "evalue": "ignored",
          "traceback": [
            "Error in is.data.frame(data): object 'Boston' not found\nTraceback:\n",
            "1. lm(medv ~ ., Boston)",
            "2. eval(mf, parent.frame())",
            "3. eval(mf, parent.frame())",
            "4. stats::model.frame(formula = medv ~ ., data = Boston, drop.unused.levels = TRUE)",
            "5. model.frame.default(formula = medv ~ ., data = Boston, drop.unused.levels = TRUE)",
            "6. is.data.frame(data)"
          ]
        }
      ],
      "source": [
        "olsreg <- lm(medv ~., Boston)\n",
        "cor(Boston);\n"
      ]
    },
    {
      "cell_type": "code",
      "execution_count": 4,
      "id": "c940e9e9",
      "metadata": {
        "id": "c940e9e9",
        "outputId": "06154b7c-2221-4a99-9acd-87f2cf057c1b",
        "colab": {
          "base_uri": "https://localhost:8080/",
          "height": 130
        }
      },
      "outputs": [
        {
          "output_type": "error",
          "ename": "ERROR",
          "evalue": "ignored",
          "traceback": [
            "Error in summary(olsreg): object 'olsreg' not found\nTraceback:\n",
            "1. summary(olsreg)"
          ]
        }
      ],
      "source": [
        "summary(olsreg);"
      ]
    },
    {
      "cell_type": "code",
      "execution_count": null,
      "id": "addf2cd9",
      "metadata": {
        "id": "addf2cd9",
        "outputId": "968fa717-d75a-4123-f9ce-5697e5664dd5"
      },
      "outputs": [
        {
          "data": {
            "text/html": [
              "<table>\n",
              "<thead><tr><th></th><th scope=col>Df</th><th scope=col>Sum Sq</th><th scope=col>Mean Sq</th><th scope=col>F value</th><th scope=col>Pr(&gt;F)</th></tr></thead>\n",
              "<tbody>\n",
              "\t<tr><th scope=row>crim</th><td>  1         </td><td> 6440.78306 </td><td> 6440.78306 </td><td>286.030046  </td><td>6.454140e-51</td></tr>\n",
              "\t<tr><th scope=row>zn</th><td>  1         </td><td> 3554.33620 </td><td> 3554.33620 </td><td>157.845240  </td><td>1.356741e-31</td></tr>\n",
              "\t<tr><th scope=row>indus</th><td>  1         </td><td> 2551.23644 </td><td> 2551.23644 </td><td>113.298378  </td><td>5.953713e-24</td></tr>\n",
              "\t<tr><th scope=row>chas</th><td>  1         </td><td> 1529.84788 </td><td> 1529.84788 </td><td> 67.939326  </td><td>1.542886e-15</td></tr>\n",
              "\t<tr><th scope=row>nox</th><td>  1         </td><td>   76.24765 </td><td>   76.24765 </td><td>  3.386097  </td><td>6.635054e-02</td></tr>\n",
              "\t<tr><th scope=row>rm</th><td>  1         </td><td>10938.11661 </td><td>10938.11661 </td><td>485.753048  </td><td>2.156727e-75</td></tr>\n",
              "\t<tr><th scope=row>age</th><td>  1         </td><td>   90.26791 </td><td>   90.26791 </td><td>  4.008726  </td><td>4.581372e-02</td></tr>\n",
              "\t<tr><th scope=row>dis</th><td>  1         </td><td> 1779.50111 </td><td> 1779.50111 </td><td> 79.026227  </td><td>1.163840e-17</td></tr>\n",
              "\t<tr><th scope=row>rad</th><td>  1         </td><td>   34.13432 </td><td>   34.13432 </td><td>  1.515878  </td><td>2.188325e-01</td></tr>\n",
              "\t<tr><th scope=row>tax</th><td>  1         </td><td>  329.55407 </td><td>  329.55407 </td><td> 14.635234  </td><td>1.472406e-04</td></tr>\n",
              "\t<tr><th scope=row>ptratio</th><td>  1         </td><td> 1309.30934 </td><td> 1309.30934 </td><td> 58.145385  </td><td>1.266278e-13</td></tr>\n",
              "\t<tr><th scope=row>black</th><td>  1         </td><td>  593.33756 </td><td>  593.33756 </td><td> 26.349649  </td><td>4.109280e-07</td></tr>\n",
              "\t<tr><th scope=row>lstat</th><td>  1         </td><td> 2410.83869 </td><td> 2410.83869 </td><td>107.063426  </td><td>7.776912e-23</td></tr>\n",
              "\t<tr><th scope=row>Residuals</th><td>492         </td><td>11078.78458 </td><td>   22.51785 </td><td>        NA  </td><td>          NA</td></tr>\n",
              "</tbody>\n",
              "</table>\n"
            ],
            "text/latex": [
              "\\begin{tabular}{r|lllll}\n",
              "  & Df & Sum Sq & Mean Sq & F value & Pr(>F)\\\\\n",
              "\\hline\n",
              "\tcrim &   1          &  6440.78306  &  6440.78306  & 286.030046   & 6.454140e-51\\\\\n",
              "\tzn &   1          &  3554.33620  &  3554.33620  & 157.845240   & 1.356741e-31\\\\\n",
              "\tindus &   1          &  2551.23644  &  2551.23644  & 113.298378   & 5.953713e-24\\\\\n",
              "\tchas &   1          &  1529.84788  &  1529.84788  &  67.939326   & 1.542886e-15\\\\\n",
              "\tnox &   1          &    76.24765  &    76.24765  &   3.386097   & 6.635054e-02\\\\\n",
              "\trm &   1          & 10938.11661  & 10938.11661  & 485.753048   & 2.156727e-75\\\\\n",
              "\tage &   1          &    90.26791  &    90.26791  &   4.008726   & 4.581372e-02\\\\\n",
              "\tdis &   1          &  1779.50111  &  1779.50111  &  79.026227   & 1.163840e-17\\\\\n",
              "\trad &   1          &    34.13432  &    34.13432  &   1.515878   & 2.188325e-01\\\\\n",
              "\ttax &   1          &   329.55407  &   329.55407  &  14.635234   & 1.472406e-04\\\\\n",
              "\tptratio &   1          &  1309.30934  &  1309.30934  &  58.145385   & 1.266278e-13\\\\\n",
              "\tblack &   1          &   593.33756  &   593.33756  &  26.349649   & 4.109280e-07\\\\\n",
              "\tlstat &   1          &  2410.83869  &  2410.83869  & 107.063426   & 7.776912e-23\\\\\n",
              "\tResiduals & 492          & 11078.78458  &    22.51785  &         NA   &           NA\\\\\n",
              "\\end{tabular}\n"
            ],
            "text/markdown": [
              "\n",
              "| <!--/--> | Df | Sum Sq | Mean Sq | F value | Pr(>F) |\n",
              "|---|---|---|---|---|---|\n",
              "| crim |   1          |  6440.78306  |  6440.78306  | 286.030046   | 6.454140e-51 |\n",
              "| zn |   1          |  3554.33620  |  3554.33620  | 157.845240   | 1.356741e-31 |\n",
              "| indus |   1          |  2551.23644  |  2551.23644  | 113.298378   | 5.953713e-24 |\n",
              "| chas |   1          |  1529.84788  |  1529.84788  |  67.939326   | 1.542886e-15 |\n",
              "| nox |   1          |    76.24765  |    76.24765  |   3.386097   | 6.635054e-02 |\n",
              "| rm |   1          | 10938.11661  | 10938.11661  | 485.753048   | 2.156727e-75 |\n",
              "| age |   1          |    90.26791  |    90.26791  |   4.008726   | 4.581372e-02 |\n",
              "| dis |   1          |  1779.50111  |  1779.50111  |  79.026227   | 1.163840e-17 |\n",
              "| rad |   1          |    34.13432  |    34.13432  |   1.515878   | 2.188325e-01 |\n",
              "| tax |   1          |   329.55407  |   329.55407  |  14.635234   | 1.472406e-04 |\n",
              "| ptratio |   1          |  1309.30934  |  1309.30934  |  58.145385   | 1.266278e-13 |\n",
              "| black |   1          |   593.33756  |   593.33756  |  26.349649   | 4.109280e-07 |\n",
              "| lstat |   1          |  2410.83869  |  2410.83869  | 107.063426   | 7.776912e-23 |\n",
              "| Residuals | 492          | 11078.78458  |    22.51785  |         NA   |           NA |\n",
              "\n"
            ],
            "text/plain": [
              "          Df  Sum Sq      Mean Sq     F value    Pr(>F)      \n",
              "crim        1  6440.78306  6440.78306 286.030046 6.454140e-51\n",
              "zn          1  3554.33620  3554.33620 157.845240 1.356741e-31\n",
              "indus       1  2551.23644  2551.23644 113.298378 5.953713e-24\n",
              "chas        1  1529.84788  1529.84788  67.939326 1.542886e-15\n",
              "nox         1    76.24765    76.24765   3.386097 6.635054e-02\n",
              "rm          1 10938.11661 10938.11661 485.753048 2.156727e-75\n",
              "age         1    90.26791    90.26791   4.008726 4.581372e-02\n",
              "dis         1  1779.50111  1779.50111  79.026227 1.163840e-17\n",
              "rad         1    34.13432    34.13432   1.515878 2.188325e-01\n",
              "tax         1   329.55407   329.55407  14.635234 1.472406e-04\n",
              "ptratio     1  1309.30934  1309.30934  58.145385 1.266278e-13\n",
              "black       1   593.33756   593.33756  26.349649 4.109280e-07\n",
              "lstat       1  2410.83869  2410.83869 107.063426 7.776912e-23\n",
              "Residuals 492 11078.78458    22.51785         NA           NA"
            ]
          },
          "metadata": {},
          "output_type": "display_data"
        }
      ],
      "source": [
        "anova(olsreg);"
      ]
    },
    {
      "cell_type": "code",
      "execution_count": null,
      "id": "3062aced",
      "metadata": {
        "id": "3062aced"
      },
      "outputs": [],
      "source": [
        ""
      ]
    }
  ],
  "metadata": {
    "kernelspec": {
      "display_name": "R",
      "language": "R",
      "name": "ir"
    },
    "language_info": {
      "codemirror_mode": "r",
      "file_extension": ".r",
      "mimetype": "text/x-r-source",
      "name": "R",
      "pygments_lexer": "r",
      "version": "3.6.1"
    },
    "colab": {
      "name": "testing github.ipynb",
      "provenance": []
    }
  },
  "nbformat": 4,
  "nbformat_minor": 5
}