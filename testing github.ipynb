{
  "cells": [
    {
      "cell_type": "markdown",
      "id": "cb1d8c3a",
      "metadata": {
        "id": "cb1d8c3a"
      },
      "source": [
        "# Pendeteksian Multikolinearitas\n",
        "\n",
        "\n"
      ]
    },
    {
      "cell_type": "code",
      "execution_count": null,
      "id": "eb5ed420",
      "metadata": {
        "id": "eb5ed420",
        "outputId": "00234a41-b42e-4fab-f71d-c2e99402eafb"
      },
      "outputs": [
        {
          "name": "stderr",
          "output_type": "stream",
          "text": [
            "also installing the dependencies 'processx', 'glue', 'rprojroot', 'diffobj', 'rematch2', 'brio', 'callr', 'cli', 'desc', 'ellipsis', 'lifecycle', 'pkgload', 'praise', 'ps', 'rlang', 'waldo', 'withr', 'testthat', 'minqa', 'nloptr', 'RcppEigen', 'lme4'\n",
            "\n"
          ]
        },
        {
          "name": "stdout",
          "output_type": "stream",
          "text": [
            "\n",
            "  There are binary versions available but the source versions are later:\n",
            "             binary    source needs_compilation\n",
            "processx      3.5.2     3.5.3              TRUE\n",
            "glue          1.4.2     1.6.2              TRUE\n",
            "rprojroot     2.0.2     2.0.3             FALSE\n",
            "diffobj       0.3.4     0.3.5              TRUE\n",
            "brio          1.1.2     1.1.3              TRUE\n",
            "cli           2.5.0     3.2.0              TRUE\n",
            "desc          1.3.0     1.4.1             FALSE\n",
            "lifecycle     1.0.0     1.0.1             FALSE\n",
            "pkgload       1.2.1     1.2.4             FALSE\n",
            "ps            1.6.0     1.7.0              TRUE\n",
            "rlang        0.4.11     1.0.2              TRUE\n",
            "waldo         0.2.5     0.4.0             FALSE\n",
            "withr         2.4.2     2.5.0             FALSE\n",
            "testthat      3.0.2     3.1.3              TRUE\n",
            "nloptr      1.2.2.2     2.0.0              TRUE\n",
            "RcppEigen 0.3.3.9.1 0.3.3.9.2              TRUE\n",
            "lme4         1.1-26    1.1-29              TRUE\n",
            "\n",
            "  Binaries will be installed\n",
            "package 'processx' successfully unpacked and MD5 sums checked\n",
            "package 'glue' successfully unpacked and MD5 sums checked\n",
            "package 'diffobj' successfully unpacked and MD5 sums checked\n",
            "package 'rematch2' successfully unpacked and MD5 sums checked\n",
            "package 'brio' successfully unpacked and MD5 sums checked\n",
            "package 'callr' successfully unpacked and MD5 sums checked\n",
            "package 'cli' successfully unpacked and MD5 sums checked\n",
            "package 'ellipsis' successfully unpacked and MD5 sums checked\n",
            "package 'praise' successfully unpacked and MD5 sums checked\n",
            "package 'ps' successfully unpacked and MD5 sums checked\n",
            "package 'rlang' successfully unpacked and MD5 sums checked\n",
            "package 'testthat' successfully unpacked and MD5 sums checked\n",
            "package 'minqa' successfully unpacked and MD5 sums checked\n",
            "package 'nloptr' successfully unpacked and MD5 sums checked\n",
            "package 'RcppEigen' successfully unpacked and MD5 sums checked\n",
            "package 'lme4' successfully unpacked and MD5 sums checked\n",
            "package 'faraway' successfully unpacked and MD5 sums checked\n",
            "\n",
            "The downloaded binary packages are in\n",
            "\tC:\\Users\\juzma\\AppData\\Local\\Temp\\RtmpSWgqEK\\downloaded_packages\n"
          ]
        },
        {
          "name": "stderr",
          "output_type": "stream",
          "text": [
            "installing the source packages 'rprojroot', 'desc', 'lifecycle', 'pkgload', 'waldo', 'withr'\n",
            "\n"
          ]
        }
      ],
      "source": [
        "install.packages(\"faraway\");\n",
        "library(faraway);"
      ]
    },
    {
      "cell_type": "code",
      "source": [
        "longley;"
      ],
      "metadata": {
        "id": "s9EKChJDtDXu",
        "outputId": "ae07584e-7411-4937-e407-b9b680c0cb8e",
        "colab": {
          "base_uri": "https://localhost:8080/",
          "height": 600
        }
      },
      "id": "s9EKChJDtDXu",
      "execution_count": 4,
      "outputs": [
        {
          "output_type": "display_data",
          "data": {
            "text/html": [
              "<table class=\"dataframe\">\n",
              "<caption>A data.frame: 16 × 7</caption>\n",
              "<thead>\n",
              "\t<tr><th></th><th scope=col>GNP.deflator</th><th scope=col>GNP</th><th scope=col>Unemployed</th><th scope=col>Armed.Forces</th><th scope=col>Population</th><th scope=col>Year</th><th scope=col>Employed</th></tr>\n",
              "\t<tr><th></th><th scope=col>&lt;dbl&gt;</th><th scope=col>&lt;dbl&gt;</th><th scope=col>&lt;dbl&gt;</th><th scope=col>&lt;dbl&gt;</th><th scope=col>&lt;dbl&gt;</th><th scope=col>&lt;int&gt;</th><th scope=col>&lt;dbl&gt;</th></tr>\n",
              "</thead>\n",
              "<tbody>\n",
              "\t<tr><th scope=row>1947</th><td> 83.0</td><td>234.289</td><td>235.6</td><td>159.0</td><td>107.608</td><td>1947</td><td>60.323</td></tr>\n",
              "\t<tr><th scope=row>1948</th><td> 88.5</td><td>259.426</td><td>232.5</td><td>145.6</td><td>108.632</td><td>1948</td><td>61.122</td></tr>\n",
              "\t<tr><th scope=row>1949</th><td> 88.2</td><td>258.054</td><td>368.2</td><td>161.6</td><td>109.773</td><td>1949</td><td>60.171</td></tr>\n",
              "\t<tr><th scope=row>1950</th><td> 89.5</td><td>284.599</td><td>335.1</td><td>165.0</td><td>110.929</td><td>1950</td><td>61.187</td></tr>\n",
              "\t<tr><th scope=row>1951</th><td> 96.2</td><td>328.975</td><td>209.9</td><td>309.9</td><td>112.075</td><td>1951</td><td>63.221</td></tr>\n",
              "\t<tr><th scope=row>1952</th><td> 98.1</td><td>346.999</td><td>193.2</td><td>359.4</td><td>113.270</td><td>1952</td><td>63.639</td></tr>\n",
              "\t<tr><th scope=row>1953</th><td> 99.0</td><td>365.385</td><td>187.0</td><td>354.7</td><td>115.094</td><td>1953</td><td>64.989</td></tr>\n",
              "\t<tr><th scope=row>1954</th><td>100.0</td><td>363.112</td><td>357.8</td><td>335.0</td><td>116.219</td><td>1954</td><td>63.761</td></tr>\n",
              "\t<tr><th scope=row>1955</th><td>101.2</td><td>397.469</td><td>290.4</td><td>304.8</td><td>117.388</td><td>1955</td><td>66.019</td></tr>\n",
              "\t<tr><th scope=row>1956</th><td>104.6</td><td>419.180</td><td>282.2</td><td>285.7</td><td>118.734</td><td>1956</td><td>67.857</td></tr>\n",
              "\t<tr><th scope=row>1957</th><td>108.4</td><td>442.769</td><td>293.6</td><td>279.8</td><td>120.445</td><td>1957</td><td>68.169</td></tr>\n",
              "\t<tr><th scope=row>1958</th><td>110.8</td><td>444.546</td><td>468.1</td><td>263.7</td><td>121.950</td><td>1958</td><td>66.513</td></tr>\n",
              "\t<tr><th scope=row>1959</th><td>112.6</td><td>482.704</td><td>381.3</td><td>255.2</td><td>123.366</td><td>1959</td><td>68.655</td></tr>\n",
              "\t<tr><th scope=row>1960</th><td>114.2</td><td>502.601</td><td>393.1</td><td>251.4</td><td>125.368</td><td>1960</td><td>69.564</td></tr>\n",
              "\t<tr><th scope=row>1961</th><td>115.7</td><td>518.173</td><td>480.6</td><td>257.2</td><td>127.852</td><td>1961</td><td>69.331</td></tr>\n",
              "\t<tr><th scope=row>1962</th><td>116.9</td><td>554.894</td><td>400.7</td><td>282.7</td><td>130.081</td><td>1962</td><td>70.551</td></tr>\n",
              "</tbody>\n",
              "</table>\n"
            ],
            "text/markdown": "\nA data.frame: 16 × 7\n\n| <!--/--> | GNP.deflator &lt;dbl&gt; | GNP &lt;dbl&gt; | Unemployed &lt;dbl&gt; | Armed.Forces &lt;dbl&gt; | Population &lt;dbl&gt; | Year &lt;int&gt; | Employed &lt;dbl&gt; |\n|---|---|---|---|---|---|---|---|\n| 1947 |  83.0 | 234.289 | 235.6 | 159.0 | 107.608 | 1947 | 60.323 |\n| 1948 |  88.5 | 259.426 | 232.5 | 145.6 | 108.632 | 1948 | 61.122 |\n| 1949 |  88.2 | 258.054 | 368.2 | 161.6 | 109.773 | 1949 | 60.171 |\n| 1950 |  89.5 | 284.599 | 335.1 | 165.0 | 110.929 | 1950 | 61.187 |\n| 1951 |  96.2 | 328.975 | 209.9 | 309.9 | 112.075 | 1951 | 63.221 |\n| 1952 |  98.1 | 346.999 | 193.2 | 359.4 | 113.270 | 1952 | 63.639 |\n| 1953 |  99.0 | 365.385 | 187.0 | 354.7 | 115.094 | 1953 | 64.989 |\n| 1954 | 100.0 | 363.112 | 357.8 | 335.0 | 116.219 | 1954 | 63.761 |\n| 1955 | 101.2 | 397.469 | 290.4 | 304.8 | 117.388 | 1955 | 66.019 |\n| 1956 | 104.6 | 419.180 | 282.2 | 285.7 | 118.734 | 1956 | 67.857 |\n| 1957 | 108.4 | 442.769 | 293.6 | 279.8 | 120.445 | 1957 | 68.169 |\n| 1958 | 110.8 | 444.546 | 468.1 | 263.7 | 121.950 | 1958 | 66.513 |\n| 1959 | 112.6 | 482.704 | 381.3 | 255.2 | 123.366 | 1959 | 68.655 |\n| 1960 | 114.2 | 502.601 | 393.1 | 251.4 | 125.368 | 1960 | 69.564 |\n| 1961 | 115.7 | 518.173 | 480.6 | 257.2 | 127.852 | 1961 | 69.331 |\n| 1962 | 116.9 | 554.894 | 400.7 | 282.7 | 130.081 | 1962 | 70.551 |\n\n",
            "text/latex": "A data.frame: 16 × 7\n\\begin{tabular}{r|lllllll}\n  & GNP.deflator & GNP & Unemployed & Armed.Forces & Population & Year & Employed\\\\\n  & <dbl> & <dbl> & <dbl> & <dbl> & <dbl> & <int> & <dbl>\\\\\n\\hline\n\t1947 &  83.0 & 234.289 & 235.6 & 159.0 & 107.608 & 1947 & 60.323\\\\\n\t1948 &  88.5 & 259.426 & 232.5 & 145.6 & 108.632 & 1948 & 61.122\\\\\n\t1949 &  88.2 & 258.054 & 368.2 & 161.6 & 109.773 & 1949 & 60.171\\\\\n\t1950 &  89.5 & 284.599 & 335.1 & 165.0 & 110.929 & 1950 & 61.187\\\\\n\t1951 &  96.2 & 328.975 & 209.9 & 309.9 & 112.075 & 1951 & 63.221\\\\\n\t1952 &  98.1 & 346.999 & 193.2 & 359.4 & 113.270 & 1952 & 63.639\\\\\n\t1953 &  99.0 & 365.385 & 187.0 & 354.7 & 115.094 & 1953 & 64.989\\\\\n\t1954 & 100.0 & 363.112 & 357.8 & 335.0 & 116.219 & 1954 & 63.761\\\\\n\t1955 & 101.2 & 397.469 & 290.4 & 304.8 & 117.388 & 1955 & 66.019\\\\\n\t1956 & 104.6 & 419.180 & 282.2 & 285.7 & 118.734 & 1956 & 67.857\\\\\n\t1957 & 108.4 & 442.769 & 293.6 & 279.8 & 120.445 & 1957 & 68.169\\\\\n\t1958 & 110.8 & 444.546 & 468.1 & 263.7 & 121.950 & 1958 & 66.513\\\\\n\t1959 & 112.6 & 482.704 & 381.3 & 255.2 & 123.366 & 1959 & 68.655\\\\\n\t1960 & 114.2 & 502.601 & 393.1 & 251.4 & 125.368 & 1960 & 69.564\\\\\n\t1961 & 115.7 & 518.173 & 480.6 & 257.2 & 127.852 & 1961 & 69.331\\\\\n\t1962 & 116.9 & 554.894 & 400.7 & 282.7 & 130.081 & 1962 & 70.551\\\\\n\\end{tabular}\n",
            "text/plain": [
              "     GNP.deflator GNP     Unemployed Armed.Forces Population Year Employed\n",
              "1947  83.0        234.289 235.6      159.0        107.608    1947 60.323  \n",
              "1948  88.5        259.426 232.5      145.6        108.632    1948 61.122  \n",
              "1949  88.2        258.054 368.2      161.6        109.773    1949 60.171  \n",
              "1950  89.5        284.599 335.1      165.0        110.929    1950 61.187  \n",
              "1951  96.2        328.975 209.9      309.9        112.075    1951 63.221  \n",
              "1952  98.1        346.999 193.2      359.4        113.270    1952 63.639  \n",
              "1953  99.0        365.385 187.0      354.7        115.094    1953 64.989  \n",
              "1954 100.0        363.112 357.8      335.0        116.219    1954 63.761  \n",
              "1955 101.2        397.469 290.4      304.8        117.388    1955 66.019  \n",
              "1956 104.6        419.180 282.2      285.7        118.734    1956 67.857  \n",
              "1957 108.4        442.769 293.6      279.8        120.445    1957 68.169  \n",
              "1958 110.8        444.546 468.1      263.7        121.950    1958 66.513  \n",
              "1959 112.6        482.704 381.3      255.2        123.366    1959 68.655  \n",
              "1960 114.2        502.601 393.1      251.4        125.368    1960 69.564  \n",
              "1961 115.7        518.173 480.6      257.2        127.852    1961 69.331  \n",
              "1962 116.9        554.894 400.7      282.7        130.081    1962 70.551  "
            ]
          },
          "metadata": {}
        }
      ]
    },
    {
      "cell_type": "markdown",
      "id": "f7e24813",
      "metadata": {
        "id": "f7e24813"
      },
      "source": [
        "Employed as Y variable and the others variable as X"
      ]
    },
    {
      "cell_type": "code",
      "source": [
        "dim(longley);"
      ],
      "metadata": {
        "id": "XDkdkV9V8Md0",
        "outputId": "f7329524-c7ae-40c8-b951-df69bb7cb98a",
        "colab": {
          "base_uri": "https://localhost:8080/",
          "height": 34
        }
      },
      "id": "XDkdkV9V8Md0",
      "execution_count": 3,
      "outputs": [
        {
          "output_type": "display_data",
          "data": {
            "text/html": [
              "<style>\n",
              ".list-inline {list-style: none; margin:0; padding: 0}\n",
              ".list-inline>li {display: inline-block}\n",
              ".list-inline>li:not(:last-child)::after {content: \"\\00b7\"; padding: 0 .5ex}\n",
              "</style>\n",
              "<ol class=list-inline><li>16</li><li>7</li></ol>\n"
            ],
            "text/markdown": "1. 16\n2. 7\n\n\n",
            "text/latex": "\\begin{enumerate*}\n\\item 16\n\\item 7\n\\end{enumerate*}\n",
            "text/plain": [
              "[1] 16  7"
            ]
          },
          "metadata": {}
        }
      ]
    },
    {
      "cell_type": "code",
      "execution_count": null,
      "id": "f5668997",
      "metadata": {
        "id": "f5668997",
        "outputId": "6187dcfc-1949-4229-f4ee-22e05a1e98f9",
        "colab": {
          "base_uri": "https://localhost:8080/",
          "height": 286
        }
      },
      "outputs": [
        {
          "output_type": "display_data",
          "data": {
            "text/html": [
              "<table class=\"dataframe\">\n",
              "<caption>A matrix: 7 × 7 of type dbl</caption>\n",
              "<thead>\n",
              "\t<tr><th></th><th scope=col>GNP.deflator</th><th scope=col>GNP</th><th scope=col>Unemployed</th><th scope=col>Armed.Forces</th><th scope=col>Population</th><th scope=col>Year</th><th scope=col>Employed</th></tr>\n",
              "</thead>\n",
              "<tbody>\n",
              "\t<tr><th scope=row>GNP.deflator</th><td>1.0000000</td><td>0.9915892</td><td> 0.6206334</td><td> 0.4647442</td><td>0.9791634</td><td>0.9911492</td><td>0.9708985</td></tr>\n",
              "\t<tr><th scope=row>GNP</th><td>0.9915892</td><td>1.0000000</td><td> 0.6042609</td><td> 0.4464368</td><td>0.9910901</td><td>0.9952735</td><td>0.9835516</td></tr>\n",
              "\t<tr><th scope=row>Unemployed</th><td>0.6206334</td><td>0.6042609</td><td> 1.0000000</td><td>-0.1774206</td><td>0.6865515</td><td>0.6682566</td><td>0.5024981</td></tr>\n",
              "\t<tr><th scope=row>Armed.Forces</th><td>0.4647442</td><td>0.4464368</td><td>-0.1774206</td><td> 1.0000000</td><td>0.3644163</td><td>0.4172451</td><td>0.4573074</td></tr>\n",
              "\t<tr><th scope=row>Population</th><td>0.9791634</td><td>0.9910901</td><td> 0.6865515</td><td> 0.3644163</td><td>1.0000000</td><td>0.9939528</td><td>0.9603906</td></tr>\n",
              "\t<tr><th scope=row>Year</th><td>0.9911492</td><td>0.9952735</td><td> 0.6682566</td><td> 0.4172451</td><td>0.9939528</td><td>1.0000000</td><td>0.9713295</td></tr>\n",
              "\t<tr><th scope=row>Employed</th><td>0.9708985</td><td>0.9835516</td><td> 0.5024981</td><td> 0.4573074</td><td>0.9603906</td><td>0.9713295</td><td>1.0000000</td></tr>\n",
              "</tbody>\n",
              "</table>\n"
            ],
            "text/markdown": "\nA matrix: 7 × 7 of type dbl\n\n| <!--/--> | GNP.deflator | GNP | Unemployed | Armed.Forces | Population | Year | Employed |\n|---|---|---|---|---|---|---|---|\n| GNP.deflator | 1.0000000 | 0.9915892 |  0.6206334 |  0.4647442 | 0.9791634 | 0.9911492 | 0.9708985 |\n| GNP | 0.9915892 | 1.0000000 |  0.6042609 |  0.4464368 | 0.9910901 | 0.9952735 | 0.9835516 |\n| Unemployed | 0.6206334 | 0.6042609 |  1.0000000 | -0.1774206 | 0.6865515 | 0.6682566 | 0.5024981 |\n| Armed.Forces | 0.4647442 | 0.4464368 | -0.1774206 |  1.0000000 | 0.3644163 | 0.4172451 | 0.4573074 |\n| Population | 0.9791634 | 0.9910901 |  0.6865515 |  0.3644163 | 1.0000000 | 0.9939528 | 0.9603906 |\n| Year | 0.9911492 | 0.9952735 |  0.6682566 |  0.4172451 | 0.9939528 | 1.0000000 | 0.9713295 |\n| Employed | 0.9708985 | 0.9835516 |  0.5024981 |  0.4573074 | 0.9603906 | 0.9713295 | 1.0000000 |\n\n",
            "text/latex": "A matrix: 7 × 7 of type dbl\n\\begin{tabular}{r|lllllll}\n  & GNP.deflator & GNP & Unemployed & Armed.Forces & Population & Year & Employed\\\\\n\\hline\n\tGNP.deflator & 1.0000000 & 0.9915892 &  0.6206334 &  0.4647442 & 0.9791634 & 0.9911492 & 0.9708985\\\\\n\tGNP & 0.9915892 & 1.0000000 &  0.6042609 &  0.4464368 & 0.9910901 & 0.9952735 & 0.9835516\\\\\n\tUnemployed & 0.6206334 & 0.6042609 &  1.0000000 & -0.1774206 & 0.6865515 & 0.6682566 & 0.5024981\\\\\n\tArmed.Forces & 0.4647442 & 0.4464368 & -0.1774206 &  1.0000000 & 0.3644163 & 0.4172451 & 0.4573074\\\\\n\tPopulation & 0.9791634 & 0.9910901 &  0.6865515 &  0.3644163 & 1.0000000 & 0.9939528 & 0.9603906\\\\\n\tYear & 0.9911492 & 0.9952735 &  0.6682566 &  0.4172451 & 0.9939528 & 1.0000000 & 0.9713295\\\\\n\tEmployed & 0.9708985 & 0.9835516 &  0.5024981 &  0.4573074 & 0.9603906 & 0.9713295 & 1.0000000\\\\\n\\end{tabular}\n",
            "text/plain": [
              "             GNP.deflator GNP       Unemployed Armed.Forces Population\n",
              "GNP.deflator 1.0000000    0.9915892  0.6206334  0.4647442   0.9791634 \n",
              "GNP          0.9915892    1.0000000  0.6042609  0.4464368   0.9910901 \n",
              "Unemployed   0.6206334    0.6042609  1.0000000 -0.1774206   0.6865515 \n",
              "Armed.Forces 0.4647442    0.4464368 -0.1774206  1.0000000   0.3644163 \n",
              "Population   0.9791634    0.9910901  0.6865515  0.3644163   1.0000000 \n",
              "Year         0.9911492    0.9952735  0.6682566  0.4172451   0.9939528 \n",
              "Employed     0.9708985    0.9835516  0.5024981  0.4573074   0.9603906 \n",
              "             Year      Employed \n",
              "GNP.deflator 0.9911492 0.9708985\n",
              "GNP          0.9952735 0.9835516\n",
              "Unemployed   0.6682566 0.5024981\n",
              "Armed.Forces 0.4172451 0.4573074\n",
              "Population   0.9939528 0.9603906\n",
              "Year         1.0000000 0.9713295\n",
              "Employed     0.9713295 1.0000000"
            ]
          },
          "metadata": {}
        }
      ],
      "source": [
        "cor(longley);"
      ]
    },
    {
      "cell_type": "markdown",
      "source": [
        "\n",
        "\n",
        "Dari hasil di atas kita dapat mengetahui korelasi baik itu antar variabel bebas maupun masing-masing korelasi variabel bebas dengan variabel Y. Contohnya pada korelasi antara GNP dengan GNP.deflator yang besar yaitu 0.9915892.\n",
        "\n"
      ],
      "metadata": {
        "id": "OTYNtv3_tWdM"
      },
      "id": "OTYNtv3_tWdM"
    },
    {
      "cell_type": "code",
      "execution_count": 1,
      "id": "2885e144",
      "metadata": {
        "id": "2885e144"
      },
      "outputs": [],
      "source": [
        "g <- lm(Employed~., longley)"
      ]
    },
    {
      "cell_type": "markdown",
      "source": [
        "Membuat linear regression dengan menjadikan Variabel Employed sebagai Y dan Semua variabel lainnya menjadi Variabel X (Dalam Function di atas ditulis menggunakan \".\" untuk mengambil seluruh variabel selain Employed)."
      ],
      "metadata": {
        "id": "NaOtEDrz251u"
      },
      "id": "NaOtEDrz251u"
    },
    {
      "cell_type": "code",
      "execution_count": 2,
      "id": "9bb5f04a",
      "metadata": {
        "id": "9bb5f04a",
        "outputId": "831af46d-51b0-4fc4-f5d9-a0eaf57c86b5",
        "colab": {
          "base_uri": "https://localhost:8080/",
          "height": 416
        }
      },
      "outputs": [
        {
          "output_type": "display_data",
          "data": {
            "text/plain": [
              "\n",
              "Call:\n",
              "lm(formula = Employed ~ ., data = longley)\n",
              "\n",
              "Residuals:\n",
              "     Min       1Q   Median       3Q      Max \n",
              "-0.41011 -0.15767 -0.02816  0.10155  0.45539 \n",
              "\n",
              "Coefficients:\n",
              "               Estimate Std. Error t value Pr(>|t|)    \n",
              "(Intercept)  -3.482e+03  8.904e+02  -3.911 0.003560 ** \n",
              "GNP.deflator  1.506e-02  8.492e-02   0.177 0.863141    \n",
              "GNP          -3.582e-02  3.349e-02  -1.070 0.312681    \n",
              "Unemployed   -2.020e-02  4.884e-03  -4.136 0.002535 ** \n",
              "Armed.Forces -1.033e-02  2.143e-03  -4.822 0.000944 ***\n",
              "Population   -5.110e-02  2.261e-01  -0.226 0.826212    \n",
              "Year          1.829e+00  4.555e-01   4.016 0.003037 ** \n",
              "---\n",
              "Signif. codes:  0 ‘***’ 0.001 ‘**’ 0.01 ‘*’ 0.05 ‘.’ 0.1 ‘ ’ 1\n",
              "\n",
              "Residual standard error: 0.3049 on 9 degrees of freedom\n",
              "Multiple R-squared:  0.9955,\tAdjusted R-squared:  0.9925 \n",
              "F-statistic: 330.3 on 6 and 9 DF,  p-value: 4.984e-10\n"
            ]
          },
          "metadata": {}
        }
      ],
      "source": [
        "summary(g)"
      ]
    },
    {
      "cell_type": "markdown",
      "source": [
        "Dari hasil *summary* di atas dapat diketahui:\n",
        "\n",
        "\n",
        "\n",
        "1.   Koefisien Determinasi 0.9955 menunjukan sangat tinggi artinya setidaknya terdapat 1 yang signifikan. 99,55% keragaman dari variabel X dapat dijelaskan oleh variabel Y.\n",
        "2.   Berdasarkan Uji T/Uji Parsial dari hasil summary di atas, dengan hipotesis:\n",
        "*   $H_0$ : Tidak ada pengaruh variabel $X_n$ terhadap Y\n",
        "*   $H_1$ : Terdapat pengaruh variabel $X_n$ terhadap Y\n",
        "\n",
        "dan Kriteria Uji : <br>\n",
        "$\\hat{\\alpha} < \\alpha$ dan $t_{hitung} > t_{tabel}$, maka tolak $H_0$.\n",
        "\n",
        "Keputusan dan Kesimpulan:\n",
        "<br>\n",
        "notes: <br> $\\alpha = 0.05$\n",
        "*   Variabel yang memiliki signifikansi terbesar yaitu variabel Armed.Forces dengan nilai p-value paling kecil dibandingkan p-value variabel lain yaitu 0.000944. Hal ini juga dapat dilihat dari korelasi antar variabel dengan Armed.forces yang cenderung kecil (dapat dilihat di cor(longley)).\n",
        "*   Sementara variabel yang tidak signifikan yaitu variabel GNP,  GNP.deflator, dan Population dengan ketiga nilai p-value yang lebih besar dari 0.05.\n",
        "\n",
        "Dengan taraf signifikansi 5%, terdapat pengaruh variabel Unemployed, Armed.forces, dan Year terhadap Employed sementara tidak ada pengaruh dari variabel GNP.deflator, GNP, dan Population.\n",
        "\n",
        "3.  Berdasarkan Uji F/Uji Simultan di summary tersebut dapat diketahui: <br>\n",
        "\n",
        "*   $H_0$ : Tidak ada pengaruh variabel X secara simultan(bersama-sama) terhadap variabel Y.\n",
        "*   $H_1$ : Terdapat pengaruh variabel X secara simultan(bersama-sama) terhadap variabel Y.\n",
        "\n",
        "Dengan Kritera Uji: <br>\n",
        "$\\hat{\\alpha} < \\alpha$ dan $F_{hitung} > F_{tabel}$, maka tolak $H_0$ <br>\n",
        "\n",
        "Keputusan dan Kesimpulan:\n",
        "\n",
        "*   Dengan nilai n = 16 dan k = 6 (Dari dim(longley)) maka $F_{tabel} = F_{\\alpha, k,n-k} = F_{0.05,6,16-6} = F_{0.05,6,10} = 3.217175 $ (Dengan excel dapat menggunakan formula FINV(0.05,6,10).\n",
        "*   List item\n",
        "\n",
        "\n",
        "\n",
        "\n",
        "\n",
        "\n",
        "\n",
        "\n",
        "\n",
        "\n",
        "\n",
        "\n",
        "\n"
      ],
      "metadata": {
        "id": "-MqrC9oo3QgJ"
      },
      "id": "-MqrC9oo3QgJ"
    },
    {
      "cell_type": "code",
      "execution_count": null,
      "id": "c940e9e9",
      "metadata": {
        "id": "c940e9e9",
        "outputId": "06154b7c-2221-4a99-9acd-87f2cf057c1b",
        "colab": {
          "base_uri": "https://localhost:8080/",
          "height": 130
        }
      },
      "outputs": [
        {
          "output_type": "error",
          "ename": "ERROR",
          "evalue": "ignored",
          "traceback": [
            "Error in summary(olsreg): object 'olsreg' not found\nTraceback:\n",
            "1. summary(olsreg)"
          ]
        }
      ],
      "source": [
        "summary(olsreg);"
      ]
    },
    {
      "cell_type": "code",
      "execution_count": null,
      "id": "addf2cd9",
      "metadata": {
        "id": "addf2cd9",
        "outputId": "968fa717-d75a-4123-f9ce-5697e5664dd5"
      },
      "outputs": [
        {
          "data": {
            "text/html": [
              "<table>\n",
              "<thead><tr><th></th><th scope=col>Df</th><th scope=col>Sum Sq</th><th scope=col>Mean Sq</th><th scope=col>F value</th><th scope=col>Pr(&gt;F)</th></tr></thead>\n",
              "<tbody>\n",
              "\t<tr><th scope=row>crim</th><td>  1         </td><td> 6440.78306 </td><td> 6440.78306 </td><td>286.030046  </td><td>6.454140e-51</td></tr>\n",
              "\t<tr><th scope=row>zn</th><td>  1         </td><td> 3554.33620 </td><td> 3554.33620 </td><td>157.845240  </td><td>1.356741e-31</td></tr>\n",
              "\t<tr><th scope=row>indus</th><td>  1         </td><td> 2551.23644 </td><td> 2551.23644 </td><td>113.298378  </td><td>5.953713e-24</td></tr>\n",
              "\t<tr><th scope=row>chas</th><td>  1         </td><td> 1529.84788 </td><td> 1529.84788 </td><td> 67.939326  </td><td>1.542886e-15</td></tr>\n",
              "\t<tr><th scope=row>nox</th><td>  1         </td><td>   76.24765 </td><td>   76.24765 </td><td>  3.386097  </td><td>6.635054e-02</td></tr>\n",
              "\t<tr><th scope=row>rm</th><td>  1         </td><td>10938.11661 </td><td>10938.11661 </td><td>485.753048  </td><td>2.156727e-75</td></tr>\n",
              "\t<tr><th scope=row>age</th><td>  1         </td><td>   90.26791 </td><td>   90.26791 </td><td>  4.008726  </td><td>4.581372e-02</td></tr>\n",
              "\t<tr><th scope=row>dis</th><td>  1         </td><td> 1779.50111 </td><td> 1779.50111 </td><td> 79.026227  </td><td>1.163840e-17</td></tr>\n",
              "\t<tr><th scope=row>rad</th><td>  1         </td><td>   34.13432 </td><td>   34.13432 </td><td>  1.515878  </td><td>2.188325e-01</td></tr>\n",
              "\t<tr><th scope=row>tax</th><td>  1         </td><td>  329.55407 </td><td>  329.55407 </td><td> 14.635234  </td><td>1.472406e-04</td></tr>\n",
              "\t<tr><th scope=row>ptratio</th><td>  1         </td><td> 1309.30934 </td><td> 1309.30934 </td><td> 58.145385  </td><td>1.266278e-13</td></tr>\n",
              "\t<tr><th scope=row>black</th><td>  1         </td><td>  593.33756 </td><td>  593.33756 </td><td> 26.349649  </td><td>4.109280e-07</td></tr>\n",
              "\t<tr><th scope=row>lstat</th><td>  1         </td><td> 2410.83869 </td><td> 2410.83869 </td><td>107.063426  </td><td>7.776912e-23</td></tr>\n",
              "\t<tr><th scope=row>Residuals</th><td>492         </td><td>11078.78458 </td><td>   22.51785 </td><td>        NA  </td><td>          NA</td></tr>\n",
              "</tbody>\n",
              "</table>\n"
            ],
            "text/latex": [
              "\\begin{tabular}{r|lllll}\n",
              "  & Df & Sum Sq & Mean Sq & F value & Pr(>F)\\\\\n",
              "\\hline\n",
              "\tcrim &   1          &  6440.78306  &  6440.78306  & 286.030046   & 6.454140e-51\\\\\n",
              "\tzn &   1          &  3554.33620  &  3554.33620  & 157.845240   & 1.356741e-31\\\\\n",
              "\tindus &   1          &  2551.23644  &  2551.23644  & 113.298378   & 5.953713e-24\\\\\n",
              "\tchas &   1          &  1529.84788  &  1529.84788  &  67.939326   & 1.542886e-15\\\\\n",
              "\tnox &   1          &    76.24765  &    76.24765  &   3.386097   & 6.635054e-02\\\\\n",
              "\trm &   1          & 10938.11661  & 10938.11661  & 485.753048   & 2.156727e-75\\\\\n",
              "\tage &   1          &    90.26791  &    90.26791  &   4.008726   & 4.581372e-02\\\\\n",
              "\tdis &   1          &  1779.50111  &  1779.50111  &  79.026227   & 1.163840e-17\\\\\n",
              "\trad &   1          &    34.13432  &    34.13432  &   1.515878   & 2.188325e-01\\\\\n",
              "\ttax &   1          &   329.55407  &   329.55407  &  14.635234   & 1.472406e-04\\\\\n",
              "\tptratio &   1          &  1309.30934  &  1309.30934  &  58.145385   & 1.266278e-13\\\\\n",
              "\tblack &   1          &   593.33756  &   593.33756  &  26.349649   & 4.109280e-07\\\\\n",
              "\tlstat &   1          &  2410.83869  &  2410.83869  & 107.063426   & 7.776912e-23\\\\\n",
              "\tResiduals & 492          & 11078.78458  &    22.51785  &         NA   &           NA\\\\\n",
              "\\end{tabular}\n"
            ],
            "text/markdown": [
              "\n",
              "| <!--/--> | Df | Sum Sq | Mean Sq | F value | Pr(>F) |\n",
              "|---|---|---|---|---|---|\n",
              "| crim |   1          |  6440.78306  |  6440.78306  | 286.030046   | 6.454140e-51 |\n",
              "| zn |   1          |  3554.33620  |  3554.33620  | 157.845240   | 1.356741e-31 |\n",
              "| indus |   1          |  2551.23644  |  2551.23644  | 113.298378   | 5.953713e-24 |\n",
              "| chas |   1          |  1529.84788  |  1529.84788  |  67.939326   | 1.542886e-15 |\n",
              "| nox |   1          |    76.24765  |    76.24765  |   3.386097   | 6.635054e-02 |\n",
              "| rm |   1          | 10938.11661  | 10938.11661  | 485.753048   | 2.156727e-75 |\n",
              "| age |   1          |    90.26791  |    90.26791  |   4.008726   | 4.581372e-02 |\n",
              "| dis |   1          |  1779.50111  |  1779.50111  |  79.026227   | 1.163840e-17 |\n",
              "| rad |   1          |    34.13432  |    34.13432  |   1.515878   | 2.188325e-01 |\n",
              "| tax |   1          |   329.55407  |   329.55407  |  14.635234   | 1.472406e-04 |\n",
              "| ptratio |   1          |  1309.30934  |  1309.30934  |  58.145385   | 1.266278e-13 |\n",
              "| black |   1          |   593.33756  |   593.33756  |  26.349649   | 4.109280e-07 |\n",
              "| lstat |   1          |  2410.83869  |  2410.83869  | 107.063426   | 7.776912e-23 |\n",
              "| Residuals | 492          | 11078.78458  |    22.51785  |         NA   |           NA |\n",
              "\n"
            ],
            "text/plain": [
              "          Df  Sum Sq      Mean Sq     F value    Pr(>F)      \n",
              "crim        1  6440.78306  6440.78306 286.030046 6.454140e-51\n",
              "zn          1  3554.33620  3554.33620 157.845240 1.356741e-31\n",
              "indus       1  2551.23644  2551.23644 113.298378 5.953713e-24\n",
              "chas        1  1529.84788  1529.84788  67.939326 1.542886e-15\n",
              "nox         1    76.24765    76.24765   3.386097 6.635054e-02\n",
              "rm          1 10938.11661 10938.11661 485.753048 2.156727e-75\n",
              "age         1    90.26791    90.26791   4.008726 4.581372e-02\n",
              "dis         1  1779.50111  1779.50111  79.026227 1.163840e-17\n",
              "rad         1    34.13432    34.13432   1.515878 2.188325e-01\n",
              "tax         1   329.55407   329.55407  14.635234 1.472406e-04\n",
              "ptratio     1  1309.30934  1309.30934  58.145385 1.266278e-13\n",
              "black       1   593.33756   593.33756  26.349649 4.109280e-07\n",
              "lstat       1  2410.83869  2410.83869 107.063426 7.776912e-23\n",
              "Residuals 492 11078.78458    22.51785         NA           NA"
            ]
          },
          "metadata": {},
          "output_type": "display_data"
        }
      ],
      "source": [
        "anova(olsreg);"
      ]
    },
    {
      "cell_type": "code",
      "execution_count": null,
      "id": "3062aced",
      "metadata": {
        "id": "3062aced"
      },
      "outputs": [],
      "source": [
        ""
      ]
    }
  ],
  "metadata": {
    "kernelspec": {
      "display_name": "R",
      "language": "R",
      "name": "ir"
    },
    "language_info": {
      "codemirror_mode": "r",
      "file_extension": ".r",
      "mimetype": "text/x-r-source",
      "name": "R",
      "pygments_lexer": "r",
      "version": "3.6.1"
    },
    "colab": {
      "name": "testing github.ipynb",
      "provenance": []
    }
  },
  "nbformat": 4,
  "nbformat_minor": 5
}